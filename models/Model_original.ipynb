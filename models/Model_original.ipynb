{
 "cells": [
  {
   "cell_type": "markdown",
   "metadata": {
    "id": "H_-Fq17tzLSV"
   },
   "source": [
    "# The CNN\n"
   ]
  },
  {
   "cell_type": "markdown",
   "metadata": {
    "id": "KROE0JfGzW-g"
   },
   "source": [
    "## Setting up the model"
   ]
  },
  {
   "cell_type": "markdown",
   "metadata": {
    "id": "xyj6QLotzYGJ"
   },
   "source": [
    "### Step 1: Import Necessary Libraries"
   ]
  },
  {
   "cell_type": "code",
   "execution_count": 1,
   "metadata": {
    "id": "GrPnaDSLzKmo"
   },
   "outputs": [],
   "source": [
    "import numpy as np\n",
    "import tensorflow as tf\n",
    "from tensorflow import keras\n",
    "from tensorflow.keras import layers\n"
   ]
  },
  {
   "cell_type": "markdown",
   "metadata": {
    "id": "hbIAineD0fKw"
   },
   "source": [
    "### Step 2: Load The Preprocessed and Augmented Data"
   ]
  },
  {
   "cell_type": "code",
   "execution_count": 2,
   "metadata": {
    "id": "Qf47E1UF2mGE"
   },
   "outputs": [],
   "source": [
    "import zipfile\n",
    "\n",
    "zip_file_name = 'npy_files.zip'\n",
    "extract_dir = './data'\n",
    "\n",
    "with zipfile.ZipFile(zip_file_name, 'r') as zip_ref:\n",
    "    zip_ref.extractall(extract_dir)"
   ]
  },
  {
   "cell_type": "code",
   "execution_count": 3,
   "metadata": {
    "id": "rLrO4jOTzVMh"
   },
   "outputs": [],
   "source": [
    "data_dir = './data'\n",
    "\n",
    "X_train = np.load(f'{data_dir}/X_train_augmented.npy')\n",
    "y_train = np.load(f'{data_dir}/y_train_augmented.npy')\n",
    "\n",
    "X_validation = np.load(f'{data_dir}/X_validation.npy')\n",
    "y_validation = np.load(f'{data_dir}/y_validation.npy')\n",
    "\n",
    "X_test = np.load(f'{data_dir}/X_test.npy')\n",
    "y_test = np.load(f'{data_dir}/y_test.npy')"
   ]
  },
  {
   "cell_type": "code",
   "execution_count": 4,
   "metadata": {
    "colab": {
     "base_uri": "https://localhost:8080/"
    },
    "id": "r_vM4K5k2ry8",
    "outputId": "3ea1a828-b677-48ed-d6bd-3b5fbf004d22"
   },
   "outputs": [
    {
     "name": "stdout",
     "output_type": "stream",
     "text": [
      "X_train shape: (4752, 431, 13, 1)\n",
      "y_train shape: (4752,)\n",
      "X_validation shape: (297, 431, 13, 1)\n",
      "y_validation shape: (297,)\n",
      "X_test shape: (297, 431, 13, 1)\n",
      "y_test shape: (297,)\n"
     ]
    }
   ],
   "source": [
    "print('X_train shape:', X_train.shape)\n",
    "print('y_train shape:', y_train.shape)\n",
    "print('X_validation shape:', X_validation.shape)\n",
    "print('y_validation shape:', y_validation.shape)\n",
    "print('X_test shape:', X_test.shape)\n",
    "print('y_test shape:', y_test.shape)"
   ]
  },
  {
   "cell_type": "markdown",
   "metadata": {
    "id": "WoqM-UOc2gss"
   },
   "source": [
    "### Step 3: Encode Labels to Categorical Format\n",
    "\n",
    "- to_categorical: Converts integer labels into one-hot encoded vectors.\n",
    "\n",
    " - Example: If there are 10 classes, label 3 becomes [0, 0, 0, 1, 0, 0, 0, 0, 0, 0].\n",
    "- Calculating num_classes:\n",
    "\n",
    "  - np.unique(y_train): Finds all unique classes in y_train.\n",
    "  - len(): Determines the number of unique classes.\n",
    "  - Purpose: Needed to correctly one-hot encode the labels and to define the output layer of the model.\n",
    "- Converting Labels:\n",
    "\n",
    "  - y_train, y_validation, y_test: All labels are converted to one-hot encoded format for compatibility with the loss function and the model's expected output.\n",
    "- Printing Shapes:\n",
    "\n",
    "  - Purpose: To confirm that the labels have been correctly converted and to check the new dimensions.\n",
    "- Justification:\n",
    "\n",
    "  - Model Compatibility: The model outputs probability distributions over classes (one-hot vectors), so labels must be in the same format.\n",
    "  - Loss Function: When using categorical_crossentropy, labels need to be one-hot encoded."
   ]
  },
  {
   "cell_type": "code",
   "execution_count": 5,
   "metadata": {
    "colab": {
     "base_uri": "https://localhost:8080/"
    },
    "id": "Ax1EBRyf2wOE",
    "outputId": "591fa0f2-c122-413b-a0b4-0a0c70f57d7c"
   },
   "outputs": [
    {
     "name": "stdout",
     "output_type": "stream",
     "text": [
      "Number of classes: 10\n",
      "y_train shape after to_categorical: (4752, 10)\n",
      "y_validation shape after to_categorical: (297, 10)\n",
      "y_test shape after to_categorical: (297, 10)\n"
     ]
    }
   ],
   "source": [
    "from tensorflow.keras.utils import to_categorical\n",
    "\n",
    "num_classes = len(np.unique(y_train))\n",
    "print('Number of classes:', num_classes)\n",
    "\n",
    "y_train = to_categorical(y_train, num_classes=num_classes)\n",
    "y_validation = to_categorical(y_validation, num_classes=num_classes)\n",
    "y_test = to_categorical(y_test, num_classes=num_classes)\n",
    "\n",
    "print('y_train shape after to_categorical:', y_train.shape)\n",
    "print('y_validation shape after to_categorical:', y_validation.shape)\n",
    "print('y_test shape after to_categorical:', y_test.shape)"
   ]
  },
  {
   "cell_type": "markdown",
   "metadata": {
    "id": "jVtEzeeM3Ao-"
   },
   "source": [
    "### Step 4: Define the Model Architecture"
   ]
  },
  {
   "cell_type": "markdown",
   "metadata": {
    "id": "JNFOGN-c3MWz"
   },
   "source": [
    "- Model Type: Sequential model, which is a linear stack of layers.\n",
    "\n",
    "- Layer-by-Layer Explanation:\n",
    "\n",
    " 1. First Convolutional Block:\n",
    "\n",
    "    - Conv2D(32, (3, 3), activation='relu', padding='same', input_shape=input_shape)\n",
    "      - 32 Filters: Learns 32 different filters.\n",
    "      - Kernel Size (3, 3): Each filter is of size 3x3.\n",
    "      - Activation 'relu': Introduces non-linearity.\n",
    "      - Padding 'same': Output feature map has the same dimensions as the input.\n",
    "      - input_shape: Specifies the shape of the input data (required for the first layer).\n",
    "    - BatchNormalization(): Normalizes the outputs of the previous layer to stabilize and accelerate training.\n",
    "    - MaxPooling2D((2, 2)): Reduces the spatial dimensions by half, helping to decrease computational load and prevent overfitting.\n",
    "    - Dropout(0.3): Randomly sets 30% of the inputs to zero during training, helping to prevent overfitting.\n",
    "  2. Second Convolutional Block:\n",
    "\n",
    "    - Conv2D(64, (3, 3), activation='relu', padding='same')\n",
    "      - 64 Filters: Learns more complex features.\n",
    "    - Other layers: Same as the first block but with increased filter count.\n",
    "  3. Third Convolutional Block:\n",
    "\n",
    "    - Similar to the second block but maintains the number of filters.\n",
    "  4. Global Average Pooling:\n",
    "\n",
    "    - GlobalAveragePooling2D(): Reduces each feature map to a single number by taking the average over all spatial locations.\n",
    "    - Justification: Reduces the number of parameters and helps prevent overfitting compared to a Flatten layer followed by Dense layers.\n",
    "  5. Fully Connected Layers:\n",
    "\n",
    "    - Dense(128, activation='relu'): Learns complex combinations of the features extracted by convolutional layers.\n",
    "    - Dropout(0.4): Higher dropout rate to further prevent overfitting.\n",
    "    - Dense(num_classes, activation='softmax'): Output layer that produces probabilities for each class.\n",
    "- model.summary(): Prints a summary of the model architecture, including output shapes and the number of parameters at each layer.\n",
    "\n",
    "- Justification:\n",
    "\n",
    "- Convolutional Layers: Capture local spatial patterns in the MFCC inputs.\n",
    "Increasing Filters: Allows the model to learn more complex features at deeper layers.\n",
    "- Batch Normalization: Improves training speed and stability.\n",
    "- Pooling Layers: Reduce spatial dimensions, controlling overfitting and computational requirements.\n",
    "- Dropout: Regularization technique to prevent overfitting by making the network more robust.\n",
    "- Global Average Pooling vs. Flatten:\n",
    "  - Global Average Pooling: Reduces parameters, lowering the risk of overfitting.\n",
    "  - Flatten: Could lead to a very large number of parameters, especially with large feature maps.\n"
   ]
  },
  {
   "cell_type": "code",
   "execution_count": null,
   "metadata": {
    "colab": {
     "base_uri": "https://localhost:8080/",
     "height": 775
    },
    "id": "vmPnM8Zy3EfH",
    "outputId": "b5569cb9-24f4-480e-c3df-9e8269fa0342"
   },
   "outputs": [
    {
     "name": "stderr",
     "output_type": "stream",
     "text": [
      "/usr/local/lib/python3.10/dist-packages/keras/src/layers/convolutional/base_conv.py:107: UserWarning: Do not pass an `input_shape`/`input_dim` argument to a layer. When using Sequential models, prefer using an `Input(shape)` object as the first layer in the model instead.\n",
      "  super().__init__(activity_regularizer=activity_regularizer, **kwargs)\n"
     ]
    },
    {
     "data": {
      "text/html": [
       "<pre style=\"white-space:pre;overflow-x:auto;line-height:normal;font-family:Menlo,'DejaVu Sans Mono',consolas,'Courier New',monospace\"><span style=\"font-weight: bold\">Model: \"sequential_22\"</span>\n",
       "</pre>\n"
      ],
      "text/plain": [
       "\u001b[1mModel: \"sequential_22\"\u001b[0m\n"
      ]
     },
     "metadata": {},
     "output_type": "display_data"
    },
    {
     "data": {
      "text/html": [
       "<pre style=\"white-space:pre;overflow-x:auto;line-height:normal;font-family:Menlo,'DejaVu Sans Mono',consolas,'Courier New',monospace\">┏━━━━━━━━━━━━━━━━━━━━━━━━━━━━━━━━━━━━━━┳━━━━━━━━━━━━━━━━━━━━━━━━━━━━━┳━━━━━━━━━━━━━━━━━┓\n",
       "┃<span style=\"font-weight: bold\"> Layer (type)                         </span>┃<span style=\"font-weight: bold\"> Output Shape                </span>┃<span style=\"font-weight: bold\">         Param # </span>┃\n",
       "┡━━━━━━━━━━━━━━━━━━━━━━━━━━━━━━━━━━━━━━╇━━━━━━━━━━━━━━━━━━━━━━━━━━━━━╇━━━━━━━━━━━━━━━━━┩\n",
       "│ conv2d_66 (<span style=\"color: #0087ff; text-decoration-color: #0087ff\">Conv2D</span>)                   │ (<span style=\"color: #00d7ff; text-decoration-color: #00d7ff\">None</span>, <span style=\"color: #00af00; text-decoration-color: #00af00\">431</span>, <span style=\"color: #00af00; text-decoration-color: #00af00\">13</span>, <span style=\"color: #00af00; text-decoration-color: #00af00\">32</span>)         │             <span style=\"color: #00af00; text-decoration-color: #00af00\">320</span> │\n",
       "├──────────────────────────────────────┼─────────────────────────────┼─────────────────┤\n",
       "│ batch_normalization_77               │ (<span style=\"color: #00d7ff; text-decoration-color: #00d7ff\">None</span>, <span style=\"color: #00af00; text-decoration-color: #00af00\">431</span>, <span style=\"color: #00af00; text-decoration-color: #00af00\">13</span>, <span style=\"color: #00af00; text-decoration-color: #00af00\">32</span>)         │             <span style=\"color: #00af00; text-decoration-color: #00af00\">128</span> │\n",
       "│ (<span style=\"color: #0087ff; text-decoration-color: #0087ff\">BatchNormalization</span>)                 │                             │                 │\n",
       "├──────────────────────────────────────┼─────────────────────────────┼─────────────────┤\n",
       "│ max_pooling2d_59 (<span style=\"color: #0087ff; text-decoration-color: #0087ff\">MaxPooling2D</span>)      │ (<span style=\"color: #00d7ff; text-decoration-color: #00d7ff\">None</span>, <span style=\"color: #00af00; text-decoration-color: #00af00\">215</span>, <span style=\"color: #00af00; text-decoration-color: #00af00\">6</span>, <span style=\"color: #00af00; text-decoration-color: #00af00\">32</span>)          │               <span style=\"color: #00af00; text-decoration-color: #00af00\">0</span> │\n",
       "├──────────────────────────────────────┼─────────────────────────────┼─────────────────┤\n",
       "│ dropout_88 (<span style=\"color: #0087ff; text-decoration-color: #0087ff\">Dropout</span>)                 │ (<span style=\"color: #00d7ff; text-decoration-color: #00d7ff\">None</span>, <span style=\"color: #00af00; text-decoration-color: #00af00\">215</span>, <span style=\"color: #00af00; text-decoration-color: #00af00\">6</span>, <span style=\"color: #00af00; text-decoration-color: #00af00\">32</span>)          │               <span style=\"color: #00af00; text-decoration-color: #00af00\">0</span> │\n",
       "├──────────────────────────────────────┼─────────────────────────────┼─────────────────┤\n",
       "│ conv2d_67 (<span style=\"color: #0087ff; text-decoration-color: #0087ff\">Conv2D</span>)                   │ (<span style=\"color: #00d7ff; text-decoration-color: #00d7ff\">None</span>, <span style=\"color: #00af00; text-decoration-color: #00af00\">215</span>, <span style=\"color: #00af00; text-decoration-color: #00af00\">6</span>, <span style=\"color: #00af00; text-decoration-color: #00af00\">64</span>)          │          <span style=\"color: #00af00; text-decoration-color: #00af00\">18,496</span> │\n",
       "├──────────────────────────────────────┼─────────────────────────────┼─────────────────┤\n",
       "│ batch_normalization_78               │ (<span style=\"color: #00d7ff; text-decoration-color: #00d7ff\">None</span>, <span style=\"color: #00af00; text-decoration-color: #00af00\">215</span>, <span style=\"color: #00af00; text-decoration-color: #00af00\">6</span>, <span style=\"color: #00af00; text-decoration-color: #00af00\">64</span>)          │             <span style=\"color: #00af00; text-decoration-color: #00af00\">256</span> │\n",
       "│ (<span style=\"color: #0087ff; text-decoration-color: #0087ff\">BatchNormalization</span>)                 │                             │                 │\n",
       "├──────────────────────────────────────┼─────────────────────────────┼─────────────────┤\n",
       "│ max_pooling2d_60 (<span style=\"color: #0087ff; text-decoration-color: #0087ff\">MaxPooling2D</span>)      │ (<span style=\"color: #00d7ff; text-decoration-color: #00d7ff\">None</span>, <span style=\"color: #00af00; text-decoration-color: #00af00\">107</span>, <span style=\"color: #00af00; text-decoration-color: #00af00\">3</span>, <span style=\"color: #00af00; text-decoration-color: #00af00\">64</span>)          │               <span style=\"color: #00af00; text-decoration-color: #00af00\">0</span> │\n",
       "├──────────────────────────────────────┼─────────────────────────────┼─────────────────┤\n",
       "│ dropout_89 (<span style=\"color: #0087ff; text-decoration-color: #0087ff\">Dropout</span>)                 │ (<span style=\"color: #00d7ff; text-decoration-color: #00d7ff\">None</span>, <span style=\"color: #00af00; text-decoration-color: #00af00\">107</span>, <span style=\"color: #00af00; text-decoration-color: #00af00\">3</span>, <span style=\"color: #00af00; text-decoration-color: #00af00\">64</span>)          │               <span style=\"color: #00af00; text-decoration-color: #00af00\">0</span> │\n",
       "├──────────────────────────────────────┼─────────────────────────────┼─────────────────┤\n",
       "│ conv2d_68 (<span style=\"color: #0087ff; text-decoration-color: #0087ff\">Conv2D</span>)                   │ (<span style=\"color: #00d7ff; text-decoration-color: #00d7ff\">None</span>, <span style=\"color: #00af00; text-decoration-color: #00af00\">107</span>, <span style=\"color: #00af00; text-decoration-color: #00af00\">3</span>, <span style=\"color: #00af00; text-decoration-color: #00af00\">64</span>)          │          <span style=\"color: #00af00; text-decoration-color: #00af00\">36,928</span> │\n",
       "├──────────────────────────────────────┼─────────────────────────────┼─────────────────┤\n",
       "│ batch_normalization_79               │ (<span style=\"color: #00d7ff; text-decoration-color: #00d7ff\">None</span>, <span style=\"color: #00af00; text-decoration-color: #00af00\">107</span>, <span style=\"color: #00af00; text-decoration-color: #00af00\">3</span>, <span style=\"color: #00af00; text-decoration-color: #00af00\">64</span>)          │             <span style=\"color: #00af00; text-decoration-color: #00af00\">256</span> │\n",
       "│ (<span style=\"color: #0087ff; text-decoration-color: #0087ff\">BatchNormalization</span>)                 │                             │                 │\n",
       "├──────────────────────────────────────┼─────────────────────────────┼─────────────────┤\n",
       "│ max_pooling2d_61 (<span style=\"color: #0087ff; text-decoration-color: #0087ff\">MaxPooling2D</span>)      │ (<span style=\"color: #00d7ff; text-decoration-color: #00d7ff\">None</span>, <span style=\"color: #00af00; text-decoration-color: #00af00\">53</span>, <span style=\"color: #00af00; text-decoration-color: #00af00\">1</span>, <span style=\"color: #00af00; text-decoration-color: #00af00\">64</span>)           │               <span style=\"color: #00af00; text-decoration-color: #00af00\">0</span> │\n",
       "├──────────────────────────────────────┼─────────────────────────────┼─────────────────┤\n",
       "│ dropout_90 (<span style=\"color: #0087ff; text-decoration-color: #0087ff\">Dropout</span>)                 │ (<span style=\"color: #00d7ff; text-decoration-color: #00d7ff\">None</span>, <span style=\"color: #00af00; text-decoration-color: #00af00\">53</span>, <span style=\"color: #00af00; text-decoration-color: #00af00\">1</span>, <span style=\"color: #00af00; text-decoration-color: #00af00\">64</span>)           │               <span style=\"color: #00af00; text-decoration-color: #00af00\">0</span> │\n",
       "├──────────────────────────────────────┼─────────────────────────────┼─────────────────┤\n",
       "│ global_average_pooling2d_5           │ (<span style=\"color: #00d7ff; text-decoration-color: #00d7ff\">None</span>, <span style=\"color: #00af00; text-decoration-color: #00af00\">64</span>)                  │               <span style=\"color: #00af00; text-decoration-color: #00af00\">0</span> │\n",
       "│ (<span style=\"color: #0087ff; text-decoration-color: #0087ff\">GlobalAveragePooling2D</span>)             │                             │                 │\n",
       "├──────────────────────────────────────┼─────────────────────────────┼─────────────────┤\n",
       "│ dense_44 (<span style=\"color: #0087ff; text-decoration-color: #0087ff\">Dense</span>)                     │ (<span style=\"color: #00d7ff; text-decoration-color: #00d7ff\">None</span>, <span style=\"color: #00af00; text-decoration-color: #00af00\">128</span>)                 │           <span style=\"color: #00af00; text-decoration-color: #00af00\">8,320</span> │\n",
       "├──────────────────────────────────────┼─────────────────────────────┼─────────────────┤\n",
       "│ dropout_91 (<span style=\"color: #0087ff; text-decoration-color: #0087ff\">Dropout</span>)                 │ (<span style=\"color: #00d7ff; text-decoration-color: #00d7ff\">None</span>, <span style=\"color: #00af00; text-decoration-color: #00af00\">128</span>)                 │               <span style=\"color: #00af00; text-decoration-color: #00af00\">0</span> │\n",
       "├──────────────────────────────────────┼─────────────────────────────┼─────────────────┤\n",
       "│ dense_45 (<span style=\"color: #0087ff; text-decoration-color: #0087ff\">Dense</span>)                     │ (<span style=\"color: #00d7ff; text-decoration-color: #00d7ff\">None</span>, <span style=\"color: #00af00; text-decoration-color: #00af00\">10</span>)                  │           <span style=\"color: #00af00; text-decoration-color: #00af00\">1,290</span> │\n",
       "└──────────────────────────────────────┴─────────────────────────────┴─────────────────┘\n",
       "</pre>\n"
      ],
      "text/plain": [
       "┏━━━━━━━━━━━━━━━━━━━━━━━━━━━━━━━━━━━━━━┳━━━━━━━━━━━━━━━━━━━━━━━━━━━━━┳━━━━━━━━━━━━━━━━━┓\n",
       "┃\u001b[1m \u001b[0m\u001b[1mLayer (type)                        \u001b[0m\u001b[1m \u001b[0m┃\u001b[1m \u001b[0m\u001b[1mOutput Shape               \u001b[0m\u001b[1m \u001b[0m┃\u001b[1m \u001b[0m\u001b[1m        Param #\u001b[0m\u001b[1m \u001b[0m┃\n",
       "┡━━━━━━━━━━━━━━━━━━━━━━━━━━━━━━━━━━━━━━╇━━━━━━━━━━━━━━━━━━━━━━━━━━━━━╇━━━━━━━━━━━━━━━━━┩\n",
       "│ conv2d_66 (\u001b[38;5;33mConv2D\u001b[0m)                   │ (\u001b[38;5;45mNone\u001b[0m, \u001b[38;5;34m431\u001b[0m, \u001b[38;5;34m13\u001b[0m, \u001b[38;5;34m32\u001b[0m)         │             \u001b[38;5;34m320\u001b[0m │\n",
       "├──────────────────────────────────────┼─────────────────────────────┼─────────────────┤\n",
       "│ batch_normalization_77               │ (\u001b[38;5;45mNone\u001b[0m, \u001b[38;5;34m431\u001b[0m, \u001b[38;5;34m13\u001b[0m, \u001b[38;5;34m32\u001b[0m)         │             \u001b[38;5;34m128\u001b[0m │\n",
       "│ (\u001b[38;5;33mBatchNormalization\u001b[0m)                 │                             │                 │\n",
       "├──────────────────────────────────────┼─────────────────────────────┼─────────────────┤\n",
       "│ max_pooling2d_59 (\u001b[38;5;33mMaxPooling2D\u001b[0m)      │ (\u001b[38;5;45mNone\u001b[0m, \u001b[38;5;34m215\u001b[0m, \u001b[38;5;34m6\u001b[0m, \u001b[38;5;34m32\u001b[0m)          │               \u001b[38;5;34m0\u001b[0m │\n",
       "├──────────────────────────────────────┼─────────────────────────────┼─────────────────┤\n",
       "│ dropout_88 (\u001b[38;5;33mDropout\u001b[0m)                 │ (\u001b[38;5;45mNone\u001b[0m, \u001b[38;5;34m215\u001b[0m, \u001b[38;5;34m6\u001b[0m, \u001b[38;5;34m32\u001b[0m)          │               \u001b[38;5;34m0\u001b[0m │\n",
       "├──────────────────────────────────────┼─────────────────────────────┼─────────────────┤\n",
       "│ conv2d_67 (\u001b[38;5;33mConv2D\u001b[0m)                   │ (\u001b[38;5;45mNone\u001b[0m, \u001b[38;5;34m215\u001b[0m, \u001b[38;5;34m6\u001b[0m, \u001b[38;5;34m64\u001b[0m)          │          \u001b[38;5;34m18,496\u001b[0m │\n",
       "├──────────────────────────────────────┼─────────────────────────────┼─────────────────┤\n",
       "│ batch_normalization_78               │ (\u001b[38;5;45mNone\u001b[0m, \u001b[38;5;34m215\u001b[0m, \u001b[38;5;34m6\u001b[0m, \u001b[38;5;34m64\u001b[0m)          │             \u001b[38;5;34m256\u001b[0m │\n",
       "│ (\u001b[38;5;33mBatchNormalization\u001b[0m)                 │                             │                 │\n",
       "├──────────────────────────────────────┼─────────────────────────────┼─────────────────┤\n",
       "│ max_pooling2d_60 (\u001b[38;5;33mMaxPooling2D\u001b[0m)      │ (\u001b[38;5;45mNone\u001b[0m, \u001b[38;5;34m107\u001b[0m, \u001b[38;5;34m3\u001b[0m, \u001b[38;5;34m64\u001b[0m)          │               \u001b[38;5;34m0\u001b[0m │\n",
       "├──────────────────────────────────────┼─────────────────────────────┼─────────────────┤\n",
       "│ dropout_89 (\u001b[38;5;33mDropout\u001b[0m)                 │ (\u001b[38;5;45mNone\u001b[0m, \u001b[38;5;34m107\u001b[0m, \u001b[38;5;34m3\u001b[0m, \u001b[38;5;34m64\u001b[0m)          │               \u001b[38;5;34m0\u001b[0m │\n",
       "├──────────────────────────────────────┼─────────────────────────────┼─────────────────┤\n",
       "│ conv2d_68 (\u001b[38;5;33mConv2D\u001b[0m)                   │ (\u001b[38;5;45mNone\u001b[0m, \u001b[38;5;34m107\u001b[0m, \u001b[38;5;34m3\u001b[0m, \u001b[38;5;34m64\u001b[0m)          │          \u001b[38;5;34m36,928\u001b[0m │\n",
       "├──────────────────────────────────────┼─────────────────────────────┼─────────────────┤\n",
       "│ batch_normalization_79               │ (\u001b[38;5;45mNone\u001b[0m, \u001b[38;5;34m107\u001b[0m, \u001b[38;5;34m3\u001b[0m, \u001b[38;5;34m64\u001b[0m)          │             \u001b[38;5;34m256\u001b[0m │\n",
       "│ (\u001b[38;5;33mBatchNormalization\u001b[0m)                 │                             │                 │\n",
       "├──────────────────────────────────────┼─────────────────────────────┼─────────────────┤\n",
       "│ max_pooling2d_61 (\u001b[38;5;33mMaxPooling2D\u001b[0m)      │ (\u001b[38;5;45mNone\u001b[0m, \u001b[38;5;34m53\u001b[0m, \u001b[38;5;34m1\u001b[0m, \u001b[38;5;34m64\u001b[0m)           │               \u001b[38;5;34m0\u001b[0m │\n",
       "├──────────────────────────────────────┼─────────────────────────────┼─────────────────┤\n",
       "│ dropout_90 (\u001b[38;5;33mDropout\u001b[0m)                 │ (\u001b[38;5;45mNone\u001b[0m, \u001b[38;5;34m53\u001b[0m, \u001b[38;5;34m1\u001b[0m, \u001b[38;5;34m64\u001b[0m)           │               \u001b[38;5;34m0\u001b[0m │\n",
       "├──────────────────────────────────────┼─────────────────────────────┼─────────────────┤\n",
       "│ global_average_pooling2d_5           │ (\u001b[38;5;45mNone\u001b[0m, \u001b[38;5;34m64\u001b[0m)                  │               \u001b[38;5;34m0\u001b[0m │\n",
       "│ (\u001b[38;5;33mGlobalAveragePooling2D\u001b[0m)             │                             │                 │\n",
       "├──────────────────────────────────────┼─────────────────────────────┼─────────────────┤\n",
       "│ dense_44 (\u001b[38;5;33mDense\u001b[0m)                     │ (\u001b[38;5;45mNone\u001b[0m, \u001b[38;5;34m128\u001b[0m)                 │           \u001b[38;5;34m8,320\u001b[0m │\n",
       "├──────────────────────────────────────┼─────────────────────────────┼─────────────────┤\n",
       "│ dropout_91 (\u001b[38;5;33mDropout\u001b[0m)                 │ (\u001b[38;5;45mNone\u001b[0m, \u001b[38;5;34m128\u001b[0m)                 │               \u001b[38;5;34m0\u001b[0m │\n",
       "├──────────────────────────────────────┼─────────────────────────────┼─────────────────┤\n",
       "│ dense_45 (\u001b[38;5;33mDense\u001b[0m)                     │ (\u001b[38;5;45mNone\u001b[0m, \u001b[38;5;34m10\u001b[0m)                  │           \u001b[38;5;34m1,290\u001b[0m │\n",
       "└──────────────────────────────────────┴─────────────────────────────┴─────────────────┘\n"
      ]
     },
     "metadata": {},
     "output_type": "display_data"
    },
    {
     "data": {
      "text/html": [
       "<pre style=\"white-space:pre;overflow-x:auto;line-height:normal;font-family:Menlo,'DejaVu Sans Mono',consolas,'Courier New',monospace\"><span style=\"font-weight: bold\"> Total params: </span><span style=\"color: #00af00; text-decoration-color: #00af00\">65,994</span> (257.79 KB)\n",
       "</pre>\n"
      ],
      "text/plain": [
       "\u001b[1m Total params: \u001b[0m\u001b[38;5;34m65,994\u001b[0m (257.79 KB)\n"
      ]
     },
     "metadata": {},
     "output_type": "display_data"
    },
    {
     "data": {
      "text/html": [
       "<pre style=\"white-space:pre;overflow-x:auto;line-height:normal;font-family:Menlo,'DejaVu Sans Mono',consolas,'Courier New',monospace\"><span style=\"font-weight: bold\"> Trainable params: </span><span style=\"color: #00af00; text-decoration-color: #00af00\">65,674</span> (256.54 KB)\n",
       "</pre>\n"
      ],
      "text/plain": [
       "\u001b[1m Trainable params: \u001b[0m\u001b[38;5;34m65,674\u001b[0m (256.54 KB)\n"
      ]
     },
     "metadata": {},
     "output_type": "display_data"
    },
    {
     "data": {
      "text/html": [
       "<pre style=\"white-space:pre;overflow-x:auto;line-height:normal;font-family:Menlo,'DejaVu Sans Mono',consolas,'Courier New',monospace\"><span style=\"font-weight: bold\"> Non-trainable params: </span><span style=\"color: #00af00; text-decoration-color: #00af00\">320</span> (1.25 KB)\n",
       "</pre>\n"
      ],
      "text/plain": [
       "\u001b[1m Non-trainable params: \u001b[0m\u001b[38;5;34m320\u001b[0m (1.25 KB)\n"
      ]
     },
     "metadata": {},
     "output_type": "display_data"
    }
   ],
   "source": [
    "from tensorflow.keras import layers\n",
    "\n",
    "model = keras.Sequential([\n",
    "    layers.Conv2D(32, (3, 3), activation='relu', padding='same', input_shape=input_shape),\n",
    "    layers.BatchNormalization(),\n",
    "    layers.MaxPooling2D((2, 2)),\n",
    "    layers.Dropout(0.3),\n",
    "    \n",
    "    layers.Conv2D(64, (3, 3), activation='relu', padding='same'),\n",
    "    layers.BatchNormalization(),\n",
    "    layers.MaxPooling2D((2, 2)),\n",
    "    layers.Dropout(0.3),\n",
    "\n",
    "    layers.Conv2D(64, (3, 3), activation='relu', padding='same'),\n",
    "    layers.BatchNormalization(),\n",
    "    layers.MaxPooling2D((2, 2)),\n",
    "    layers.Dropout(0.3),\n",
    "\n",
    "    layers.GlobalAveragePooling2D(),\n",
    "\n",
    "    layers.Dense(128, activation='relu'),\n",
    "    layers.Dropout(0.4),\n",
    "    layers.Dense(num_classes, activation='softmax')\n",
    "])\n",
    "\n",
    "\n",
    "model.summary()\n"
   ]
  },
  {
   "cell_type": "markdown",
   "metadata": {
    "id": "QxpN1zoc3W3k"
   },
   "source": [
    "### Step 5: Compile the model\n",
    "\n",
    "- Optimizer: Adam optimizer is used with a learning rate of 0.0001.\n",
    "  - Adam: An adaptive learning rate optimization algorithm that combines the benefits of AdaGrad and RMSProp.\n",
    "  - Learning Rate: A small learning rate is chosen to ensure stable convergence.\n",
    "- Loss Function: 'sparse_categorical_crossentropy' is specified.\n",
    "  - Note: This loss function expects integer labels, not one-hot encoded labels.\n",
    "- Metrics: ['accuracy'] is specified to monitor the accuracy during training and validation."
   ]
  },
  {
   "cell_type": "code",
   "execution_count": 77,
   "metadata": {
    "id": "L0yJhOq83ZiB"
   },
   "outputs": [],
   "source": [
    "from tensorflow.keras.optimizers import Adam\n",
    "model.compile(\n",
    "    optimizer=Adam(learning_rate=0.0001),\n",
    "    loss='sparse_categorical_crossentropy',\n",
    "    metrics=['accuracy']\n",
    ")"
   ]
  },
  {
   "cell_type": "markdown",
   "metadata": {
    "id": "aicw132s_cGg"
   },
   "source": [
    "- ModelCheckpoint:\n",
    "  - Purpose: Saves the model at the end of every epoch.\n",
    "  - Parameters:\n",
    "    - filepath: Where to save the model.\n",
    "    - save_best_only=False: Saves the model at every epoch, not just when there's an improvement.\n",
    "    - monitor='val_loss': Monitors validation loss to determine when to save.\n",
    "    - mode='min': Looks for minimum validation loss.\n",
    "    - verbose=1: Provides output when the model is saved.\n",
    "- EarlyStopping:\n",
    "  - Purpose: Stops training when the monitored metric (validation loss) stops improving.\n",
    "  - Parameters:\n",
    "    - monitor='val_loss': Monitors validation loss.\n",
    "    - patience=20: Waits for 20 epochs without improvement before stopping.\n",
    "    - min_delta=0: Minimum change in the monitored metric to qualify as an improvement.\n",
    "    - Directory Creation:\n",
    "    - os.makedirs(save_dir, exist_ok=True): Ensures that the directory for saving models exists.\n",
    "- Justification:\n",
    "\n",
    "  - ModelCheckpoint: Useful for saving the model at different stages, allowing for rollback if needed.\n",
    "  - EarlyStopping: Helps prevent overfitting by stopping training once the model stops improving on the validation set.\n",
    "  - Directory Management: Ensures that file operations do not fail due to missing directories.\n",
    "\n",
    "\n",
    "\n",
    "- model.fit(): Trains the model on the training data.\n",
    "\n",
    "- Parameters:\n",
    "\n",
    "  - X_train, y_train_int: Training data and integer labels.\n",
    "  - validation_data: Tuple of validation data and labels for evaluating the model during training.\n",
    "  - epochs=100: The model will train for up to 100 epochs unless early stopping is triggered.\n",
    "  - batch_size=64: Number of samples per gradient update.\n",
    "  - callbacks: List of callbacks to apply during training.\n",
    "- Justification:\n",
    "\n",
    "  - Epochs: A high number to allow the model to train thoroughly, with early stopping to prevent overfitting.\n",
    "  - Batch Size: A balance between training speed and stability.\n",
    "  - Callbacks: Improve training efficiency and model management."
   ]
  },
  {
   "cell_type": "code",
   "execution_count": 78,
   "metadata": {
    "colab": {
     "base_uri": "https://localhost:8080/"
    },
    "id": "hN7M6Mjt3enY",
    "outputId": "ff2e4d9d-0ca9-468b-bbf6-062fb3b11af7"
   },
   "outputs": [
    {
     "name": "stdout",
     "output_type": "stream",
     "text": [
      "Epoch 1/100\n",
      "\u001b[1m75/75\u001b[0m \u001b[32m━━━━━━━━━━━━━━━━━━━━\u001b[0m\u001b[37m\u001b[0m \u001b[1m0s\u001b[0m 48ms/step - accuracy: 0.1710 - loss: 2.5238\n",
      "Epoch 1: saving model to best_model.keras\n",
      "\u001b[1m75/75\u001b[0m \u001b[32m━━━━━━━━━━━━━━━━━━━━\u001b[0m\u001b[37m\u001b[0m \u001b[1m11s\u001b[0m 64ms/step - accuracy: 0.1717 - loss: 2.5199 - val_accuracy: 0.2761 - val_loss: 1.9980\n",
      "Epoch 2/100\n",
      "\u001b[1m63/75\u001b[0m \u001b[32m━━━━━━━━━━━━━━━━\u001b[0m\u001b[37m━━━━\u001b[0m \u001b[1m0s\u001b[0m 4ms/step - accuracy: 0.3598 - loss: 1.8211\n",
      "Epoch 2: saving model to best_model.keras\n",
      "\u001b[1m75/75\u001b[0m \u001b[32m━━━━━━━━━━━━━━━━━━━━\u001b[0m\u001b[37m\u001b[0m \u001b[1m0s\u001b[0m 5ms/step - accuracy: 0.3627 - loss: 1.8130 - val_accuracy: 0.4242 - val_loss: 1.8323\n",
      "Epoch 3/100\n",
      "\u001b[1m71/75\u001b[0m \u001b[32m━━━━━━━━━━━━━━━━━━\u001b[0m\u001b[37m━━\u001b[0m \u001b[1m0s\u001b[0m 4ms/step - accuracy: 0.4354 - loss: 1.6237\n",
      "Epoch 3: saving model to best_model.keras\n",
      "\u001b[1m75/75\u001b[0m \u001b[32m━━━━━━━━━━━━━━━━━━━━\u001b[0m\u001b[37m\u001b[0m \u001b[1m0s\u001b[0m 5ms/step - accuracy: 0.4352 - loss: 1.6230 - val_accuracy: 0.4714 - val_loss: 1.7008\n",
      "Epoch 4/100\n",
      "\u001b[1m67/75\u001b[0m \u001b[32m━━━━━━━━━━━━━━━━━\u001b[0m\u001b[37m━━━\u001b[0m \u001b[1m0s\u001b[0m 4ms/step - accuracy: 0.4652 - loss: 1.5173\n",
      "Epoch 4: saving model to best_model.keras\n",
      "\u001b[1m75/75\u001b[0m \u001b[32m━━━━━━━━━━━━━━━━━━━━\u001b[0m\u001b[37m\u001b[0m \u001b[1m0s\u001b[0m 5ms/step - accuracy: 0.4660 - loss: 1.5144 - val_accuracy: 0.5354 - val_loss: 1.5809\n",
      "Epoch 5/100\n",
      "\u001b[1m67/75\u001b[0m \u001b[32m━━━━━━━━━━━━━━━━━\u001b[0m\u001b[37m━━━\u001b[0m \u001b[1m0s\u001b[0m 4ms/step - accuracy: 0.4823 - loss: 1.4398\n",
      "Epoch 5: saving model to best_model.keras\n",
      "\u001b[1m75/75\u001b[0m \u001b[32m━━━━━━━━━━━━━━━━━━━━\u001b[0m\u001b[37m\u001b[0m \u001b[1m0s\u001b[0m 5ms/step - accuracy: 0.4846 - loss: 1.4350 - val_accuracy: 0.5556 - val_loss: 1.4427\n",
      "Epoch 6/100\n",
      "\u001b[1m69/75\u001b[0m \u001b[32m━━━━━━━━━━━━━━━━━━\u001b[0m\u001b[37m━━\u001b[0m \u001b[1m0s\u001b[0m 4ms/step - accuracy: 0.5066 - loss: 1.3899\n",
      "Epoch 6: saving model to best_model.keras\n",
      "\u001b[1m75/75\u001b[0m \u001b[32m━━━━━━━━━━━━━━━━━━━━\u001b[0m\u001b[37m\u001b[0m \u001b[1m0s\u001b[0m 5ms/step - accuracy: 0.5079 - loss: 1.3858 - val_accuracy: 0.6061 - val_loss: 1.3399\n",
      "Epoch 7/100\n",
      "\u001b[1m70/75\u001b[0m \u001b[32m━━━━━━━━━━━━━━━━━━\u001b[0m\u001b[37m━━\u001b[0m \u001b[1m0s\u001b[0m 4ms/step - accuracy: 0.5444 - loss: 1.3006\n",
      "Epoch 7: saving model to best_model.keras\n",
      "\u001b[1m75/75\u001b[0m \u001b[32m━━━━━━━━━━━━━━━━━━━━\u001b[0m\u001b[37m\u001b[0m \u001b[1m0s\u001b[0m 5ms/step - accuracy: 0.5449 - loss: 1.2989 - val_accuracy: 0.6027 - val_loss: 1.2731\n",
      "Epoch 8/100\n",
      "\u001b[1m71/75\u001b[0m \u001b[32m━━━━━━━━━━━━━━━━━━\u001b[0m\u001b[37m━━\u001b[0m \u001b[1m0s\u001b[0m 4ms/step - accuracy: 0.5931 - loss: 1.1952\n",
      "Epoch 8: saving model to best_model.keras\n",
      "\u001b[1m75/75\u001b[0m \u001b[32m━━━━━━━━━━━━━━━━━━━━\u001b[0m\u001b[37m\u001b[0m \u001b[1m0s\u001b[0m 5ms/step - accuracy: 0.5915 - loss: 1.1967 - val_accuracy: 0.5892 - val_loss: 1.2400\n",
      "Epoch 9/100\n",
      "\u001b[1m69/75\u001b[0m \u001b[32m━━━━━━━━━━━━━━━━━━\u001b[0m\u001b[37m━━\u001b[0m \u001b[1m0s\u001b[0m 4ms/step - accuracy: 0.5839 - loss: 1.1610\n",
      "Epoch 9: saving model to best_model.keras\n",
      "\u001b[1m75/75\u001b[0m \u001b[32m━━━━━━━━━━━━━━━━━━━━\u001b[0m\u001b[37m\u001b[0m \u001b[1m0s\u001b[0m 5ms/step - accuracy: 0.5847 - loss: 1.1610 - val_accuracy: 0.6061 - val_loss: 1.1609\n",
      "Epoch 10/100\n",
      "\u001b[1m70/75\u001b[0m \u001b[32m━━━━━━━━━━━━━━━━━━\u001b[0m\u001b[37m━━\u001b[0m \u001b[1m0s\u001b[0m 4ms/step - accuracy: 0.5894 - loss: 1.1319\n",
      "Epoch 10: saving model to best_model.keras\n",
      "\u001b[1m75/75\u001b[0m \u001b[32m━━━━━━━━━━━━━━━━━━━━\u001b[0m\u001b[37m\u001b[0m \u001b[1m0s\u001b[0m 5ms/step - accuracy: 0.5906 - loss: 1.1312 - val_accuracy: 0.6364 - val_loss: 1.1002\n",
      "Epoch 11/100\n",
      "\u001b[1m69/75\u001b[0m \u001b[32m━━━━━━━━━━━━━━━━━━\u001b[0m\u001b[37m━━\u001b[0m \u001b[1m0s\u001b[0m 4ms/step - accuracy: 0.6278 - loss: 1.0873\n",
      "Epoch 11: saving model to best_model.keras\n",
      "\u001b[1m75/75\u001b[0m \u001b[32m━━━━━━━━━━━━━━━━━━━━\u001b[0m\u001b[37m\u001b[0m \u001b[1m0s\u001b[0m 5ms/step - accuracy: 0.6275 - loss: 1.0870 - val_accuracy: 0.5993 - val_loss: 1.1253\n",
      "Epoch 12/100\n",
      "\u001b[1m69/75\u001b[0m \u001b[32m━━━━━━━━━━━━━━━━━━\u001b[0m\u001b[37m━━\u001b[0m \u001b[1m0s\u001b[0m 4ms/step - accuracy: 0.6160 - loss: 1.0755\n",
      "Epoch 12: saving model to best_model.keras\n",
      "\u001b[1m75/75\u001b[0m \u001b[32m━━━━━━━━━━━━━━━━━━━━\u001b[0m\u001b[37m\u001b[0m \u001b[1m0s\u001b[0m 5ms/step - accuracy: 0.6164 - loss: 1.0743 - val_accuracy: 0.5926 - val_loss: 1.1344\n",
      "Epoch 13/100\n",
      "\u001b[1m70/75\u001b[0m \u001b[32m━━━━━━━━━━━━━━━━━━\u001b[0m\u001b[37m━━\u001b[0m \u001b[1m0s\u001b[0m 4ms/step - accuracy: 0.6456 - loss: 1.0411\n",
      "Epoch 13: saving model to best_model.keras\n",
      "\u001b[1m75/75\u001b[0m \u001b[32m━━━━━━━━━━━━━━━━━━━━\u001b[0m\u001b[37m\u001b[0m \u001b[1m0s\u001b[0m 5ms/step - accuracy: 0.6460 - loss: 1.0396 - val_accuracy: 0.6431 - val_loss: 1.0542\n",
      "Epoch 14/100\n",
      "\u001b[1m70/75\u001b[0m \u001b[32m━━━━━━━━━━━━━━━━━━\u001b[0m\u001b[37m━━\u001b[0m \u001b[1m0s\u001b[0m 4ms/step - accuracy: 0.6593 - loss: 0.9949\n",
      "Epoch 14: saving model to best_model.keras\n",
      "\u001b[1m75/75\u001b[0m \u001b[32m━━━━━━━━━━━━━━━━━━━━\u001b[0m\u001b[37m\u001b[0m \u001b[1m0s\u001b[0m 5ms/step - accuracy: 0.6598 - loss: 0.9953 - val_accuracy: 0.6734 - val_loss: 1.0168\n",
      "Epoch 15/100\n",
      "\u001b[1m69/75\u001b[0m \u001b[32m━━━━━━━━━━━━━━━━━━\u001b[0m\u001b[37m━━\u001b[0m \u001b[1m0s\u001b[0m 4ms/step - accuracy: 0.6556 - loss: 0.9840\n",
      "Epoch 15: saving model to best_model.keras\n",
      "\u001b[1m75/75\u001b[0m \u001b[32m━━━━━━━━━━━━━━━━━━━━\u001b[0m\u001b[37m\u001b[0m \u001b[1m0s\u001b[0m 5ms/step - accuracy: 0.6564 - loss: 0.9826 - val_accuracy: 0.6431 - val_loss: 1.0231\n",
      "Epoch 16/100\n",
      "\u001b[1m69/75\u001b[0m \u001b[32m━━━━━━━━━━━━━━━━━━\u001b[0m\u001b[37m━━\u001b[0m \u001b[1m0s\u001b[0m 4ms/step - accuracy: 0.6750 - loss: 0.9381\n",
      "Epoch 16: saving model to best_model.keras\n",
      "\u001b[1m75/75\u001b[0m \u001b[32m━━━━━━━━━━━━━━━━━━━━\u001b[0m\u001b[37m\u001b[0m \u001b[1m0s\u001b[0m 5ms/step - accuracy: 0.6750 - loss: 0.9383 - val_accuracy: 0.6734 - val_loss: 0.9980\n",
      "Epoch 17/100\n",
      "\u001b[1m71/75\u001b[0m \u001b[32m━━━━━━━━━━━━━━━━━━\u001b[0m\u001b[37m━━\u001b[0m \u001b[1m0s\u001b[0m 4ms/step - accuracy: 0.6796 - loss: 0.9402\n",
      "Epoch 17: saving model to best_model.keras\n",
      "\u001b[1m75/75\u001b[0m \u001b[32m━━━━━━━━━━━━━━━━━━━━\u001b[0m\u001b[37m\u001b[0m \u001b[1m0s\u001b[0m 5ms/step - accuracy: 0.6796 - loss: 0.9400 - val_accuracy: 0.6734 - val_loss: 0.9863\n",
      "Epoch 18/100\n",
      "\u001b[1m70/75\u001b[0m \u001b[32m━━━━━━━━━━━━━━━━━━\u001b[0m\u001b[37m━━\u001b[0m \u001b[1m0s\u001b[0m 4ms/step - accuracy: 0.6935 - loss: 0.9006\n",
      "Epoch 18: saving model to best_model.keras\n",
      "\u001b[1m75/75\u001b[0m \u001b[32m━━━━━━━━━━━━━━━━━━━━\u001b[0m\u001b[37m\u001b[0m \u001b[1m0s\u001b[0m 5ms/step - accuracy: 0.6933 - loss: 0.9000 - val_accuracy: 0.6902 - val_loss: 0.9180\n",
      "Epoch 19/100\n",
      "\u001b[1m70/75\u001b[0m \u001b[32m━━━━━━━━━━━━━━━━━━\u001b[0m\u001b[37m━━\u001b[0m \u001b[1m0s\u001b[0m 4ms/step - accuracy: 0.7105 - loss: 0.8691\n",
      "Epoch 19: saving model to best_model.keras\n",
      "\u001b[1m75/75\u001b[0m \u001b[32m━━━━━━━━━━━━━━━━━━━━\u001b[0m\u001b[37m\u001b[0m \u001b[1m0s\u001b[0m 5ms/step - accuracy: 0.7102 - loss: 0.8697 - val_accuracy: 0.6768 - val_loss: 0.9421\n",
      "Epoch 20/100\n",
      "\u001b[1m70/75\u001b[0m \u001b[32m━━━━━━━━━━━━━━━━━━\u001b[0m\u001b[37m━━\u001b[0m \u001b[1m0s\u001b[0m 4ms/step - accuracy: 0.6980 - loss: 0.8652\n",
      "Epoch 20: saving model to best_model.keras\n",
      "\u001b[1m75/75\u001b[0m \u001b[32m━━━━━━━━━━━━━━━━━━━━\u001b[0m\u001b[37m\u001b[0m \u001b[1m0s\u001b[0m 5ms/step - accuracy: 0.6983 - loss: 0.8655 - val_accuracy: 0.7104 - val_loss: 0.8862\n",
      "Epoch 21/100\n",
      "\u001b[1m70/75\u001b[0m \u001b[32m━━━━━━━━━━━━━━━━━━\u001b[0m\u001b[37m━━\u001b[0m \u001b[1m0s\u001b[0m 4ms/step - accuracy: 0.7081 - loss: 0.8555\n",
      "Epoch 21: saving model to best_model.keras\n",
      "\u001b[1m75/75\u001b[0m \u001b[32m━━━━━━━━━━━━━━━━━━━━\u001b[0m\u001b[37m\u001b[0m \u001b[1m0s\u001b[0m 5ms/step - accuracy: 0.7086 - loss: 0.8541 - val_accuracy: 0.7205 - val_loss: 0.8517\n",
      "Epoch 22/100\n",
      "\u001b[1m70/75\u001b[0m \u001b[32m━━━━━━━━━━━━━━━━━━\u001b[0m\u001b[37m━━\u001b[0m \u001b[1m0s\u001b[0m 4ms/step - accuracy: 0.7145 - loss: 0.8346\n",
      "Epoch 22: saving model to best_model.keras\n",
      "\u001b[1m75/75\u001b[0m \u001b[32m━━━━━━━━━━━━━━━━━━━━\u001b[0m\u001b[37m\u001b[0m \u001b[1m0s\u001b[0m 5ms/step - accuracy: 0.7145 - loss: 0.8341 - val_accuracy: 0.7104 - val_loss: 0.8788\n",
      "Epoch 23/100\n",
      "\u001b[1m70/75\u001b[0m \u001b[32m━━━━━━━━━━━━━━━━━━\u001b[0m\u001b[37m━━\u001b[0m \u001b[1m0s\u001b[0m 4ms/step - accuracy: 0.7444 - loss: 0.7714\n",
      "Epoch 23: saving model to best_model.keras\n",
      "\u001b[1m75/75\u001b[0m \u001b[32m━━━━━━━━━━━━━━━━━━━━\u001b[0m\u001b[37m\u001b[0m \u001b[1m0s\u001b[0m 5ms/step - accuracy: 0.7433 - loss: 0.7730 - val_accuracy: 0.7003 - val_loss: 0.8783\n",
      "Epoch 24/100\n",
      "\u001b[1m69/75\u001b[0m \u001b[32m━━━━━━━━━━━━━━━━━━\u001b[0m\u001b[37m━━\u001b[0m \u001b[1m0s\u001b[0m 4ms/step - accuracy: 0.7286 - loss: 0.8119\n",
      "Epoch 24: saving model to best_model.keras\n",
      "\u001b[1m75/75\u001b[0m \u001b[32m━━━━━━━━━━━━━━━━━━━━\u001b[0m\u001b[37m\u001b[0m \u001b[1m0s\u001b[0m 5ms/step - accuracy: 0.7282 - loss: 0.8129 - val_accuracy: 0.7407 - val_loss: 0.8048\n",
      "Epoch 25/100\n",
      "\u001b[1m70/75\u001b[0m \u001b[32m━━━━━━━━━━━━━━━━━━\u001b[0m\u001b[37m━━\u001b[0m \u001b[1m0s\u001b[0m 4ms/step - accuracy: 0.7308 - loss: 0.7930\n",
      "Epoch 25: saving model to best_model.keras\n",
      "\u001b[1m75/75\u001b[0m \u001b[32m━━━━━━━━━━━━━━━━━━━━\u001b[0m\u001b[37m\u001b[0m \u001b[1m0s\u001b[0m 5ms/step - accuracy: 0.7306 - loss: 0.7931 - val_accuracy: 0.7340 - val_loss: 0.8373\n",
      "Epoch 26/100\n",
      "\u001b[1m69/75\u001b[0m \u001b[32m━━━━━━━━━━━━━━━━━━\u001b[0m\u001b[37m━━\u001b[0m \u001b[1m0s\u001b[0m 4ms/step - accuracy: 0.7303 - loss: 0.7955\n",
      "Epoch 26: saving model to best_model.keras\n",
      "\u001b[1m75/75\u001b[0m \u001b[32m━━━━━━━━━━━━━━━━━━━━\u001b[0m\u001b[37m\u001b[0m \u001b[1m0s\u001b[0m 5ms/step - accuracy: 0.7313 - loss: 0.7938 - val_accuracy: 0.7374 - val_loss: 0.7856\n",
      "Epoch 27/100\n",
      "\u001b[1m71/75\u001b[0m \u001b[32m━━━━━━━━━━━━━━━━━━\u001b[0m\u001b[37m━━\u001b[0m \u001b[1m0s\u001b[0m 4ms/step - accuracy: 0.7527 - loss: 0.7471\n",
      "Epoch 27: saving model to best_model.keras\n",
      "\u001b[1m75/75\u001b[0m \u001b[32m━━━━━━━━━━━━━━━━━━━━\u001b[0m\u001b[37m\u001b[0m \u001b[1m0s\u001b[0m 5ms/step - accuracy: 0.7519 - loss: 0.7477 - val_accuracy: 0.7374 - val_loss: 0.7893\n",
      "Epoch 28/100\n",
      "\u001b[1m70/75\u001b[0m \u001b[32m━━━━━━━━━━━━━━━━━━\u001b[0m\u001b[37m━━\u001b[0m \u001b[1m0s\u001b[0m 4ms/step - accuracy: 0.7497 - loss: 0.7517\n",
      "Epoch 28: saving model to best_model.keras\n",
      "\u001b[1m75/75\u001b[0m \u001b[32m━━━━━━━━━━━━━━━━━━━━\u001b[0m\u001b[37m\u001b[0m \u001b[1m0s\u001b[0m 5ms/step - accuracy: 0.7495 - loss: 0.7516 - val_accuracy: 0.7374 - val_loss: 0.8132\n",
      "Epoch 29/100\n",
      "\u001b[1m68/75\u001b[0m \u001b[32m━━━━━━━━━━━━━━━━━━\u001b[0m\u001b[37m━━\u001b[0m \u001b[1m0s\u001b[0m 4ms/step - accuracy: 0.7654 - loss: 0.7173\n",
      "Epoch 29: saving model to best_model.keras\n",
      "\u001b[1m75/75\u001b[0m \u001b[32m━━━━━━━━━━━━━━━━━━━━\u001b[0m\u001b[37m\u001b[0m \u001b[1m0s\u001b[0m 5ms/step - accuracy: 0.7645 - loss: 0.7191 - val_accuracy: 0.7508 - val_loss: 0.7763\n",
      "Epoch 30/100\n",
      "\u001b[1m70/75\u001b[0m \u001b[32m━━━━━━━━━━━━━━━━━━\u001b[0m\u001b[37m━━\u001b[0m \u001b[1m0s\u001b[0m 4ms/step - accuracy: 0.7697 - loss: 0.7012\n",
      "Epoch 30: saving model to best_model.keras\n",
      "\u001b[1m75/75\u001b[0m \u001b[32m━━━━━━━━━━━━━━━━━━━━\u001b[0m\u001b[37m\u001b[0m \u001b[1m0s\u001b[0m 5ms/step - accuracy: 0.7689 - loss: 0.7025 - val_accuracy: 0.7576 - val_loss: 0.7506\n",
      "Epoch 31/100\n",
      "\u001b[1m68/75\u001b[0m \u001b[32m━━━━━━━━━━━━━━━━━━\u001b[0m\u001b[37m━━\u001b[0m \u001b[1m0s\u001b[0m 4ms/step - accuracy: 0.7591 - loss: 0.7116\n",
      "Epoch 31: saving model to best_model.keras\n",
      "\u001b[1m75/75\u001b[0m \u001b[32m━━━━━━━━━━━━━━━━━━━━\u001b[0m\u001b[37m\u001b[0m \u001b[1m0s\u001b[0m 5ms/step - accuracy: 0.7597 - loss: 0.7104 - val_accuracy: 0.7643 - val_loss: 0.7508\n",
      "Epoch 32/100\n",
      "\u001b[1m68/75\u001b[0m \u001b[32m━━━━━━━━━━━━━━━━━━\u001b[0m\u001b[37m━━\u001b[0m \u001b[1m0s\u001b[0m 4ms/step - accuracy: 0.7582 - loss: 0.7131\n",
      "Epoch 32: saving model to best_model.keras\n",
      "\u001b[1m75/75\u001b[0m \u001b[32m━━━━━━━━━━━━━━━━━━━━\u001b[0m\u001b[37m\u001b[0m \u001b[1m0s\u001b[0m 5ms/step - accuracy: 0.7586 - loss: 0.7123 - val_accuracy: 0.7643 - val_loss: 0.7099\n",
      "Epoch 33/100\n",
      "\u001b[1m69/75\u001b[0m \u001b[32m━━━━━━━━━━━━━━━━━━\u001b[0m\u001b[37m━━\u001b[0m \u001b[1m0s\u001b[0m 4ms/step - accuracy: 0.7744 - loss: 0.6801\n",
      "Epoch 33: saving model to best_model.keras\n",
      "\u001b[1m75/75\u001b[0m \u001b[32m━━━━━━━━━━━━━━━━━━━━\u001b[0m\u001b[37m\u001b[0m \u001b[1m0s\u001b[0m 5ms/step - accuracy: 0.7743 - loss: 0.6798 - val_accuracy: 0.7744 - val_loss: 0.7288\n",
      "Epoch 34/100\n",
      "\u001b[1m66/75\u001b[0m \u001b[32m━━━━━━━━━━━━━━━━━\u001b[0m\u001b[37m━━━\u001b[0m \u001b[1m0s\u001b[0m 4ms/step - accuracy: 0.7633 - loss: 0.6918\n",
      "Epoch 34: saving model to best_model.keras\n",
      "\u001b[1m75/75\u001b[0m \u001b[32m━━━━━━━━━━━━━━━━━━━━\u001b[0m\u001b[37m\u001b[0m \u001b[1m0s\u001b[0m 5ms/step - accuracy: 0.7644 - loss: 0.6909 - val_accuracy: 0.7980 - val_loss: 0.6585\n",
      "Epoch 35/100\n",
      "\u001b[1m69/75\u001b[0m \u001b[32m━━━━━━━━━━━━━━━━━━\u001b[0m\u001b[37m━━\u001b[0m \u001b[1m0s\u001b[0m 4ms/step - accuracy: 0.7897 - loss: 0.6388\n",
      "Epoch 35: saving model to best_model.keras\n",
      "\u001b[1m75/75\u001b[0m \u001b[32m━━━━━━━━━━━━━━━━━━━━\u001b[0m\u001b[37m\u001b[0m \u001b[1m0s\u001b[0m 5ms/step - accuracy: 0.7886 - loss: 0.6419 - val_accuracy: 0.7879 - val_loss: 0.6731\n",
      "Epoch 36/100\n",
      "\u001b[1m68/75\u001b[0m \u001b[32m━━━━━━━━━━━━━━━━━━\u001b[0m\u001b[37m━━\u001b[0m \u001b[1m0s\u001b[0m 4ms/step - accuracy: 0.7816 - loss: 0.6409\n",
      "Epoch 36: saving model to best_model.keras\n",
      "\u001b[1m75/75\u001b[0m \u001b[32m━━━━━━━━━━━━━━━━━━━━\u001b[0m\u001b[37m\u001b[0m \u001b[1m0s\u001b[0m 5ms/step - accuracy: 0.7821 - loss: 0.6412 - val_accuracy: 0.7778 - val_loss: 0.6815\n",
      "Epoch 37/100\n",
      "\u001b[1m69/75\u001b[0m \u001b[32m━━━━━━━━━━━━━━━━━━\u001b[0m\u001b[37m━━\u001b[0m \u001b[1m0s\u001b[0m 4ms/step - accuracy: 0.7947 - loss: 0.6266\n",
      "Epoch 37: saving model to best_model.keras\n",
      "\u001b[1m75/75\u001b[0m \u001b[32m━━━━━━━━━━━━━━━━━━━━\u001b[0m\u001b[37m\u001b[0m \u001b[1m0s\u001b[0m 5ms/step - accuracy: 0.7941 - loss: 0.6282 - val_accuracy: 0.7677 - val_loss: 0.6949\n",
      "Epoch 38/100\n",
      "\u001b[1m70/75\u001b[0m \u001b[32m━━━━━━━━━━━━━━━━━━\u001b[0m\u001b[37m━━\u001b[0m \u001b[1m0s\u001b[0m 4ms/step - accuracy: 0.7791 - loss: 0.6414\n",
      "Epoch 38: saving model to best_model.keras\n",
      "\u001b[1m75/75\u001b[0m \u001b[32m━━━━━━━━━━━━━━━━━━━━\u001b[0m\u001b[37m\u001b[0m \u001b[1m0s\u001b[0m 5ms/step - accuracy: 0.7788 - loss: 0.6417 - val_accuracy: 0.7946 - val_loss: 0.6606\n",
      "Epoch 39/100\n",
      "\u001b[1m68/75\u001b[0m \u001b[32m━━━━━━━━━━━━━━━━━━\u001b[0m\u001b[37m━━\u001b[0m \u001b[1m0s\u001b[0m 4ms/step - accuracy: 0.7751 - loss: 0.6618\n",
      "Epoch 39: saving model to best_model.keras\n",
      "\u001b[1m75/75\u001b[0m \u001b[32m━━━━━━━━━━━━━━━━━━━━\u001b[0m\u001b[37m\u001b[0m \u001b[1m0s\u001b[0m 5ms/step - accuracy: 0.7764 - loss: 0.6593 - val_accuracy: 0.7609 - val_loss: 0.7215\n",
      "Epoch 40/100\n",
      "\u001b[1m69/75\u001b[0m \u001b[32m━━━━━━━━━━━━━━━━━━\u001b[0m\u001b[37m━━\u001b[0m \u001b[1m0s\u001b[0m 4ms/step - accuracy: 0.7881 - loss: 0.6197\n",
      "Epoch 40: saving model to best_model.keras\n",
      "\u001b[1m75/75\u001b[0m \u001b[32m━━━━━━━━━━━━━━━━━━━━\u001b[0m\u001b[37m\u001b[0m \u001b[1m0s\u001b[0m 5ms/step - accuracy: 0.7877 - loss: 0.6208 - val_accuracy: 0.7879 - val_loss: 0.6858\n",
      "Epoch 41/100\n",
      "\u001b[1m70/75\u001b[0m \u001b[32m━━━━━━━━━━━━━━━━━━\u001b[0m\u001b[37m━━\u001b[0m \u001b[1m0s\u001b[0m 4ms/step - accuracy: 0.7821 - loss: 0.6241\n",
      "Epoch 41: saving model to best_model.keras\n",
      "\u001b[1m75/75\u001b[0m \u001b[32m━━━━━━━━━━━━━━━━━━━━\u001b[0m\u001b[37m\u001b[0m \u001b[1m0s\u001b[0m 5ms/step - accuracy: 0.7826 - loss: 0.6241 - val_accuracy: 0.7778 - val_loss: 0.7034\n",
      "Epoch 42/100\n",
      "\u001b[1m70/75\u001b[0m \u001b[32m━━━━━━━━━━━━━━━━━━\u001b[0m\u001b[37m━━\u001b[0m \u001b[1m0s\u001b[0m 4ms/step - accuracy: 0.7895 - loss: 0.5943\n",
      "Epoch 42: saving model to best_model.keras\n",
      "\u001b[1m75/75\u001b[0m \u001b[32m━━━━━━━━━━━━━━━━━━━━\u001b[0m\u001b[37m\u001b[0m \u001b[1m0s\u001b[0m 5ms/step - accuracy: 0.7898 - loss: 0.5946 - val_accuracy: 0.8148 - val_loss: 0.6137\n",
      "Epoch 43/100\n",
      "\u001b[1m70/75\u001b[0m \u001b[32m━━━━━━━━━━━━━━━━━━\u001b[0m\u001b[37m━━\u001b[0m \u001b[1m0s\u001b[0m 4ms/step - accuracy: 0.8000 - loss: 0.5955\n",
      "Epoch 43: saving model to best_model.keras\n",
      "\u001b[1m75/75\u001b[0m \u001b[32m━━━━━━━━━━━━━━━━━━━━\u001b[0m\u001b[37m\u001b[0m \u001b[1m0s\u001b[0m 5ms/step - accuracy: 0.7996 - loss: 0.5963 - val_accuracy: 0.7912 - val_loss: 0.6630\n",
      "Epoch 44/100\n",
      "\u001b[1m70/75\u001b[0m \u001b[32m━━━━━━━━━━━━━━━━━━\u001b[0m\u001b[37m━━\u001b[0m \u001b[1m0s\u001b[0m 4ms/step - accuracy: 0.7980 - loss: 0.6043\n",
      "Epoch 44: saving model to best_model.keras\n",
      "\u001b[1m75/75\u001b[0m \u001b[32m━━━━━━━━━━━━━━━━━━━━\u001b[0m\u001b[37m\u001b[0m \u001b[1m0s\u001b[0m 5ms/step - accuracy: 0.7981 - loss: 0.6040 - val_accuracy: 0.7946 - val_loss: 0.6222\n",
      "Epoch 45/100\n",
      "\u001b[1m70/75\u001b[0m \u001b[32m━━━━━━━━━━━━━━━━━━\u001b[0m\u001b[37m━━\u001b[0m \u001b[1m0s\u001b[0m 4ms/step - accuracy: 0.8012 - loss: 0.6010\n",
      "Epoch 45: saving model to best_model.keras\n",
      "\u001b[1m75/75\u001b[0m \u001b[32m━━━━━━━━━━━━━━━━━━━━\u001b[0m\u001b[37m\u001b[0m \u001b[1m0s\u001b[0m 5ms/step - accuracy: 0.8012 - loss: 0.6008 - val_accuracy: 0.8047 - val_loss: 0.6300\n",
      "Epoch 46/100\n",
      "\u001b[1m71/75\u001b[0m \u001b[32m━━━━━━━━━━━━━━━━━━\u001b[0m\u001b[37m━━\u001b[0m \u001b[1m0s\u001b[0m 4ms/step - accuracy: 0.7879 - loss: 0.5936\n",
      "Epoch 46: saving model to best_model.keras\n",
      "\u001b[1m75/75\u001b[0m \u001b[32m━━━━━━━━━━━━━━━━━━━━\u001b[0m\u001b[37m\u001b[0m \u001b[1m0s\u001b[0m 5ms/step - accuracy: 0.7885 - loss: 0.5929 - val_accuracy: 0.8148 - val_loss: 0.6043\n",
      "Epoch 47/100\n",
      "\u001b[1m70/75\u001b[0m \u001b[32m━━━━━━━━━━━━━━━━━━\u001b[0m\u001b[37m━━\u001b[0m \u001b[1m0s\u001b[0m 4ms/step - accuracy: 0.8276 - loss: 0.5367\n",
      "Epoch 47: saving model to best_model.keras\n",
      "\u001b[1m75/75\u001b[0m \u001b[32m━━━━━━━━━━━━━━━━━━━━\u001b[0m\u001b[37m\u001b[0m \u001b[1m0s\u001b[0m 5ms/step - accuracy: 0.8264 - loss: 0.5393 - val_accuracy: 0.7879 - val_loss: 0.6606\n",
      "Epoch 48/100\n",
      "\u001b[1m70/75\u001b[0m \u001b[32m━━━━━━━━━━━━━━━━━━\u001b[0m\u001b[37m━━\u001b[0m \u001b[1m0s\u001b[0m 4ms/step - accuracy: 0.8129 - loss: 0.5482\n",
      "Epoch 48: saving model to best_model.keras\n",
      "\u001b[1m75/75\u001b[0m \u001b[32m━━━━━━━━━━━━━━━━━━━━\u001b[0m\u001b[37m\u001b[0m \u001b[1m0s\u001b[0m 5ms/step - accuracy: 0.8125 - loss: 0.5492 - val_accuracy: 0.7912 - val_loss: 0.6584\n",
      "Epoch 49/100\n",
      "\u001b[1m69/75\u001b[0m \u001b[32m━━━━━━━━━━━━━━━━━━\u001b[0m\u001b[37m━━\u001b[0m \u001b[1m0s\u001b[0m 4ms/step - accuracy: 0.8305 - loss: 0.5301\n",
      "Epoch 49: saving model to best_model.keras\n",
      "\u001b[1m75/75\u001b[0m \u001b[32m━━━━━━━━━━━━━━━━━━━━\u001b[0m\u001b[37m\u001b[0m \u001b[1m0s\u001b[0m 5ms/step - accuracy: 0.8295 - loss: 0.5322 - val_accuracy: 0.8081 - val_loss: 0.5997\n",
      "Epoch 50/100\n",
      "\u001b[1m70/75\u001b[0m \u001b[32m━━━━━━━━━━━━━━━━━━\u001b[0m\u001b[37m━━\u001b[0m \u001b[1m0s\u001b[0m 4ms/step - accuracy: 0.8156 - loss: 0.5565\n",
      "Epoch 50: saving model to best_model.keras\n",
      "\u001b[1m75/75\u001b[0m \u001b[32m━━━━━━━━━━━━━━━━━━━━\u001b[0m\u001b[37m\u001b[0m \u001b[1m0s\u001b[0m 5ms/step - accuracy: 0.8163 - loss: 0.5547 - val_accuracy: 0.7980 - val_loss: 0.6517\n",
      "Epoch 51/100\n",
      "\u001b[1m71/75\u001b[0m \u001b[32m━━━━━━━━━━━━━━━━━━\u001b[0m\u001b[37m━━\u001b[0m \u001b[1m0s\u001b[0m 4ms/step - accuracy: 0.8139 - loss: 0.5449\n",
      "Epoch 51: saving model to best_model.keras\n",
      "\u001b[1m75/75\u001b[0m \u001b[32m━━━━━━━━━━━━━━━━━━━━\u001b[0m\u001b[37m\u001b[0m \u001b[1m0s\u001b[0m 5ms/step - accuracy: 0.8141 - loss: 0.5457 - val_accuracy: 0.7811 - val_loss: 0.7057\n",
      "Epoch 52/100\n",
      "\u001b[1m70/75\u001b[0m \u001b[32m━━━━━━━━━━━━━━━━━━\u001b[0m\u001b[37m━━\u001b[0m \u001b[1m0s\u001b[0m 4ms/step - accuracy: 0.8138 - loss: 0.5577\n",
      "Epoch 52: saving model to best_model.keras\n",
      "\u001b[1m75/75\u001b[0m \u001b[32m━━━━━━━━━━━━━━━━━━━━\u001b[0m\u001b[37m\u001b[0m \u001b[1m0s\u001b[0m 5ms/step - accuracy: 0.8138 - loss: 0.5576 - val_accuracy: 0.8013 - val_loss: 0.5932\n",
      "Epoch 53/100\n",
      "\u001b[1m70/75\u001b[0m \u001b[32m━━━━━━━━━━━━━━━━━━\u001b[0m\u001b[37m━━\u001b[0m \u001b[1m0s\u001b[0m 4ms/step - accuracy: 0.8197 - loss: 0.5375\n",
      "Epoch 53: saving model to best_model.keras\n",
      "\u001b[1m75/75\u001b[0m \u001b[32m━━━━━━━━━━━━━━━━━━━━\u001b[0m\u001b[37m\u001b[0m \u001b[1m0s\u001b[0m 5ms/step - accuracy: 0.8199 - loss: 0.5371 - val_accuracy: 0.7912 - val_loss: 0.6705\n",
      "Epoch 54/100\n",
      "\u001b[1m68/75\u001b[0m \u001b[32m━━━━━━━━━━━━━━━━━━\u001b[0m\u001b[37m━━\u001b[0m \u001b[1m0s\u001b[0m 4ms/step - accuracy: 0.8113 - loss: 0.5496\n",
      "Epoch 54: saving model to best_model.keras\n",
      "\u001b[1m75/75\u001b[0m \u001b[32m━━━━━━━━━━━━━━━━━━━━\u001b[0m\u001b[37m\u001b[0m \u001b[1m0s\u001b[0m 5ms/step - accuracy: 0.8124 - loss: 0.5475 - val_accuracy: 0.7744 - val_loss: 0.6919\n",
      "Epoch 55/100\n",
      "\u001b[1m70/75\u001b[0m \u001b[32m━━━━━━━━━━━━━━━━━━\u001b[0m\u001b[37m━━\u001b[0m \u001b[1m0s\u001b[0m 4ms/step - accuracy: 0.8234 - loss: 0.5221\n",
      "Epoch 55: saving model to best_model.keras\n",
      "\u001b[1m75/75\u001b[0m \u001b[32m━━━━━━━━━━━━━━━━━━━━\u001b[0m\u001b[37m\u001b[0m \u001b[1m0s\u001b[0m 5ms/step - accuracy: 0.8236 - loss: 0.5219 - val_accuracy: 0.7980 - val_loss: 0.6397\n",
      "Epoch 56/100\n",
      "\u001b[1m71/75\u001b[0m \u001b[32m━━━━━━━━━━━━━━━━━━\u001b[0m\u001b[37m━━\u001b[0m \u001b[1m0s\u001b[0m 4ms/step - accuracy: 0.8180 - loss: 0.5282\n",
      "Epoch 56: saving model to best_model.keras\n",
      "\u001b[1m75/75\u001b[0m \u001b[32m━━━━━━━━━━━━━━━━━━━━\u001b[0m\u001b[37m\u001b[0m \u001b[1m0s\u001b[0m 5ms/step - accuracy: 0.8185 - loss: 0.5276 - val_accuracy: 0.8013 - val_loss: 0.6452\n",
      "Epoch 57/100\n",
      "\u001b[1m69/75\u001b[0m \u001b[32m━━━━━━━━━━━━━━━━━━\u001b[0m\u001b[37m━━\u001b[0m \u001b[1m0s\u001b[0m 4ms/step - accuracy: 0.8296 - loss: 0.4889\n",
      "Epoch 57: saving model to best_model.keras\n",
      "\u001b[1m75/75\u001b[0m \u001b[32m━━━━━━━━━━━━━━━━━━━━\u001b[0m\u001b[37m\u001b[0m \u001b[1m0s\u001b[0m 5ms/step - accuracy: 0.8290 - loss: 0.4921 - val_accuracy: 0.8182 - val_loss: 0.6159\n",
      "Epoch 58/100\n",
      "\u001b[1m70/75\u001b[0m \u001b[32m━━━━━━━━━━━━━━━━━━\u001b[0m\u001b[37m━━\u001b[0m \u001b[1m0s\u001b[0m 4ms/step - accuracy: 0.8275 - loss: 0.5011\n",
      "Epoch 58: saving model to best_model.keras\n",
      "\u001b[1m75/75\u001b[0m \u001b[32m━━━━━━━━━━━━━━━━━━━━\u001b[0m\u001b[37m\u001b[0m \u001b[1m0s\u001b[0m 5ms/step - accuracy: 0.8281 - loss: 0.5007 - val_accuracy: 0.7946 - val_loss: 0.6383\n",
      "Epoch 59/100\n",
      "\u001b[1m71/75\u001b[0m \u001b[32m━━━━━━━━━━━━━━━━━━\u001b[0m\u001b[37m━━\u001b[0m \u001b[1m0s\u001b[0m 4ms/step - accuracy: 0.8274 - loss: 0.5043\n",
      "Epoch 59: saving model to best_model.keras\n",
      "\u001b[1m75/75\u001b[0m \u001b[32m━━━━━━━━━━━━━━━━━━━━\u001b[0m\u001b[37m\u001b[0m \u001b[1m0s\u001b[0m 5ms/step - accuracy: 0.8270 - loss: 0.5052 - val_accuracy: 0.7879 - val_loss: 0.6194\n",
      "Epoch 60/100\n",
      "\u001b[1m70/75\u001b[0m \u001b[32m━━━━━━━━━━━━━━━━━━\u001b[0m\u001b[37m━━\u001b[0m \u001b[1m0s\u001b[0m 4ms/step - accuracy: 0.8353 - loss: 0.4998\n",
      "Epoch 60: saving model to best_model.keras\n",
      "\u001b[1m75/75\u001b[0m \u001b[32m━━━━━━━━━━━━━━━━━━━━\u001b[0m\u001b[37m\u001b[0m \u001b[1m0s\u001b[0m 5ms/step - accuracy: 0.8353 - loss: 0.4999 - val_accuracy: 0.7778 - val_loss: 0.6902\n",
      "Epoch 61/100\n",
      "\u001b[1m69/75\u001b[0m \u001b[32m━━━━━━━━━━━━━━━━━━\u001b[0m\u001b[37m━━\u001b[0m \u001b[1m0s\u001b[0m 4ms/step - accuracy: 0.8332 - loss: 0.5004\n",
      "Epoch 61: saving model to best_model.keras\n",
      "\u001b[1m75/75\u001b[0m \u001b[32m━━━━━━━━━━━━━━━━━━━━\u001b[0m\u001b[37m\u001b[0m \u001b[1m0s\u001b[0m 5ms/step - accuracy: 0.8338 - loss: 0.4984 - val_accuracy: 0.7980 - val_loss: 0.6564\n",
      "Epoch 62/100\n",
      "\u001b[1m71/75\u001b[0m \u001b[32m━━━━━━━━━━━━━━━━━━\u001b[0m\u001b[37m━━\u001b[0m \u001b[1m0s\u001b[0m 4ms/step - accuracy: 0.8288 - loss: 0.4991\n",
      "Epoch 62: saving model to best_model.keras\n",
      "\u001b[1m75/75\u001b[0m \u001b[32m━━━━━━━━━━━━━━━━━━━━\u001b[0m\u001b[37m\u001b[0m \u001b[1m0s\u001b[0m 5ms/step - accuracy: 0.8292 - loss: 0.4984 - val_accuracy: 0.7980 - val_loss: 0.5936\n",
      "Epoch 63/100\n",
      "\u001b[1m69/75\u001b[0m \u001b[32m━━━━━━━━━━━━━━━━━━\u001b[0m\u001b[37m━━\u001b[0m \u001b[1m0s\u001b[0m 4ms/step - accuracy: 0.8333 - loss: 0.4811\n",
      "Epoch 63: saving model to best_model.keras\n",
      "\u001b[1m75/75\u001b[0m \u001b[32m━━━━━━━━━━━━━━━━━━━━\u001b[0m\u001b[37m\u001b[0m \u001b[1m0s\u001b[0m 5ms/step - accuracy: 0.8338 - loss: 0.4802 - val_accuracy: 0.7980 - val_loss: 0.6846\n",
      "Epoch 64/100\n",
      "\u001b[1m66/75\u001b[0m \u001b[32m━━━━━━━━━━━━━━━━━\u001b[0m\u001b[37m━━━\u001b[0m \u001b[1m0s\u001b[0m 4ms/step - accuracy: 0.8421 - loss: 0.4614\n",
      "Epoch 64: saving model to best_model.keras\n",
      "\u001b[1m75/75\u001b[0m \u001b[32m━━━━━━━━━━━━━━━━━━━━\u001b[0m\u001b[37m\u001b[0m \u001b[1m0s\u001b[0m 5ms/step - accuracy: 0.8417 - loss: 0.4630 - val_accuracy: 0.7879 - val_loss: 0.6713\n",
      "Epoch 65/100\n",
      "\u001b[1m69/75\u001b[0m \u001b[32m━━━━━━━━━━━━━━━━━━\u001b[0m\u001b[37m━━\u001b[0m \u001b[1m0s\u001b[0m 4ms/step - accuracy: 0.8381 - loss: 0.4683\n",
      "Epoch 65: saving model to best_model.keras\n",
      "\u001b[1m75/75\u001b[0m \u001b[32m━━━━━━━━━━━━━━━━━━━━\u001b[0m\u001b[37m\u001b[0m \u001b[1m0s\u001b[0m 5ms/step - accuracy: 0.8382 - loss: 0.4683 - val_accuracy: 0.7946 - val_loss: 0.6326\n",
      "Epoch 66/100\n",
      "\u001b[1m71/75\u001b[0m \u001b[32m━━━━━━━━━━━━━━━━━━\u001b[0m\u001b[37m━━\u001b[0m \u001b[1m0s\u001b[0m 4ms/step - accuracy: 0.8489 - loss: 0.4659\n",
      "Epoch 66: saving model to best_model.keras\n",
      "\u001b[1m75/75\u001b[0m \u001b[32m━━━━━━━━━━━━━━━━━━━━\u001b[0m\u001b[37m\u001b[0m \u001b[1m0s\u001b[0m 5ms/step - accuracy: 0.8485 - loss: 0.4658 - val_accuracy: 0.8047 - val_loss: 0.6406\n",
      "Epoch 67/100\n",
      "\u001b[1m71/75\u001b[0m \u001b[32m━━━━━━━━━━━━━━━━━━\u001b[0m\u001b[37m━━\u001b[0m \u001b[1m0s\u001b[0m 4ms/step - accuracy: 0.8512 - loss: 0.4535\n",
      "Epoch 67: saving model to best_model.keras\n",
      "\u001b[1m75/75\u001b[0m \u001b[32m━━━━━━━━━━━━━━━━━━━━\u001b[0m\u001b[37m\u001b[0m \u001b[1m0s\u001b[0m 5ms/step - accuracy: 0.8506 - loss: 0.4543 - val_accuracy: 0.7946 - val_loss: 0.6263\n",
      "Epoch 68/100\n",
      "\u001b[1m70/75\u001b[0m \u001b[32m━━━━━━━━━━━━━━━━━━\u001b[0m\u001b[37m━━\u001b[0m \u001b[1m0s\u001b[0m 4ms/step - accuracy: 0.8385 - loss: 0.4487\n",
      "Epoch 68: saving model to best_model.keras\n",
      "\u001b[1m75/75\u001b[0m \u001b[32m━━━━━━━━━━━━━━━━━━━━\u001b[0m\u001b[37m\u001b[0m \u001b[1m0s\u001b[0m 5ms/step - accuracy: 0.8385 - loss: 0.4492 - val_accuracy: 0.7980 - val_loss: 0.6627\n",
      "Epoch 69/100\n",
      "\u001b[1m70/75\u001b[0m \u001b[32m━━━━━━━━━━━━━━━━━━\u001b[0m\u001b[37m━━\u001b[0m \u001b[1m0s\u001b[0m 4ms/step - accuracy: 0.8512 - loss: 0.4334\n",
      "Epoch 69: saving model to best_model.keras\n",
      "\u001b[1m75/75\u001b[0m \u001b[32m━━━━━━━━━━━━━━━━━━━━\u001b[0m\u001b[37m\u001b[0m \u001b[1m0s\u001b[0m 5ms/step - accuracy: 0.8512 - loss: 0.4339 - val_accuracy: 0.7946 - val_loss: 0.6376\n",
      "Epoch 70/100\n",
      "\u001b[1m71/75\u001b[0m \u001b[32m━━━━━━━━━━━━━━━━━━\u001b[0m\u001b[37m━━\u001b[0m \u001b[1m0s\u001b[0m 4ms/step - accuracy: 0.8304 - loss: 0.4862\n",
      "Epoch 70: saving model to best_model.keras\n",
      "\u001b[1m75/75\u001b[0m \u001b[32m━━━━━━━━━━━━━━━━━━━━\u001b[0m\u001b[37m\u001b[0m \u001b[1m0s\u001b[0m 5ms/step - accuracy: 0.8315 - loss: 0.4841 - val_accuracy: 0.8047 - val_loss: 0.6151\n",
      "Epoch 71/100\n",
      "\u001b[1m70/75\u001b[0m \u001b[32m━━━━━━━━━━━━━━━━━━\u001b[0m\u001b[37m━━\u001b[0m \u001b[1m0s\u001b[0m 4ms/step - accuracy: 0.8482 - loss: 0.4552\n",
      "Epoch 71: saving model to best_model.keras\n",
      "\u001b[1m75/75\u001b[0m \u001b[32m━━━━━━━━━━━━━━━━━━━━\u001b[0m\u001b[37m\u001b[0m \u001b[1m0s\u001b[0m 5ms/step - accuracy: 0.8487 - loss: 0.4537 - val_accuracy: 0.8249 - val_loss: 0.5593\n",
      "Epoch 72/100\n",
      "\u001b[1m70/75\u001b[0m \u001b[32m━━━━━━━━━━━━━━━━━━\u001b[0m\u001b[37m━━\u001b[0m \u001b[1m0s\u001b[0m 4ms/step - accuracy: 0.8480 - loss: 0.4348\n",
      "Epoch 72: saving model to best_model.keras\n",
      "\u001b[1m75/75\u001b[0m \u001b[32m━━━━━━━━━━━━━━━━━━━━\u001b[0m\u001b[37m\u001b[0m \u001b[1m0s\u001b[0m 5ms/step - accuracy: 0.8485 - loss: 0.4336 - val_accuracy: 0.8013 - val_loss: 0.6154\n",
      "Epoch 73/100\n",
      "\u001b[1m71/75\u001b[0m \u001b[32m━━━━━━━━━━━━━━━━━━\u001b[0m\u001b[37m━━\u001b[0m \u001b[1m0s\u001b[0m 4ms/step - accuracy: 0.8567 - loss: 0.4167\n",
      "Epoch 73: saving model to best_model.keras\n",
      "\u001b[1m75/75\u001b[0m \u001b[32m━━━━━━━━━━━━━━━━━━━━\u001b[0m\u001b[37m\u001b[0m \u001b[1m0s\u001b[0m 5ms/step - accuracy: 0.8565 - loss: 0.4175 - val_accuracy: 0.8182 - val_loss: 0.5639\n",
      "Epoch 74/100\n",
      "\u001b[1m69/75\u001b[0m \u001b[32m━━━━━━━━━━━━━━━━━━\u001b[0m\u001b[37m━━\u001b[0m \u001b[1m0s\u001b[0m 4ms/step - accuracy: 0.8588 - loss: 0.4126\n",
      "Epoch 74: saving model to best_model.keras\n",
      "\u001b[1m75/75\u001b[0m \u001b[32m━━━━━━━━━━━━━━━━━━━━\u001b[0m\u001b[37m\u001b[0m \u001b[1m0s\u001b[0m 5ms/step - accuracy: 0.8584 - loss: 0.4137 - val_accuracy: 0.8081 - val_loss: 0.5935\n",
      "Epoch 75/100\n",
      "\u001b[1m69/75\u001b[0m \u001b[32m━━━━━━━━━━━━━━━━━━\u001b[0m\u001b[37m━━\u001b[0m \u001b[1m0s\u001b[0m 4ms/step - accuracy: 0.8604 - loss: 0.4055\n",
      "Epoch 75: saving model to best_model.keras\n",
      "\u001b[1m75/75\u001b[0m \u001b[32m━━━━━━━━━━━━━━━━━━━━\u001b[0m\u001b[37m\u001b[0m \u001b[1m0s\u001b[0m 5ms/step - accuracy: 0.8601 - loss: 0.4060 - val_accuracy: 0.8047 - val_loss: 0.5724\n",
      "Epoch 76/100\n",
      "\u001b[1m70/75\u001b[0m \u001b[32m━━━━━━━━━━━━━━━━━━\u001b[0m\u001b[37m━━\u001b[0m \u001b[1m0s\u001b[0m 4ms/step - accuracy: 0.8505 - loss: 0.4202\n",
      "Epoch 76: saving model to best_model.keras\n",
      "\u001b[1m75/75\u001b[0m \u001b[32m━━━━━━━━━━━━━━━━━━━━\u001b[0m\u001b[37m\u001b[0m \u001b[1m0s\u001b[0m 5ms/step - accuracy: 0.8507 - loss: 0.4201 - val_accuracy: 0.7778 - val_loss: 0.7176\n",
      "Epoch 77/100\n",
      "\u001b[1m70/75\u001b[0m \u001b[32m━━━━━━━━━━━━━━━━━━\u001b[0m\u001b[37m━━\u001b[0m \u001b[1m0s\u001b[0m 4ms/step - accuracy: 0.8650 - loss: 0.4044\n",
      "Epoch 77: saving model to best_model.keras\n",
      "\u001b[1m75/75\u001b[0m \u001b[32m━━━━━━━━━━━━━━━━━━━━\u001b[0m\u001b[37m\u001b[0m \u001b[1m0s\u001b[0m 5ms/step - accuracy: 0.8648 - loss: 0.4045 - val_accuracy: 0.8148 - val_loss: 0.6039\n",
      "Epoch 78/100\n",
      "\u001b[1m70/75\u001b[0m \u001b[32m━━━━━━━━━━━━━━━━━━\u001b[0m\u001b[37m━━\u001b[0m \u001b[1m0s\u001b[0m 4ms/step - accuracy: 0.8589 - loss: 0.4089\n",
      "Epoch 78: saving model to best_model.keras\n",
      "\u001b[1m75/75\u001b[0m \u001b[32m━━━━━━━━━━━━━━━━━━━━\u001b[0m\u001b[37m\u001b[0m \u001b[1m0s\u001b[0m 5ms/step - accuracy: 0.8588 - loss: 0.4092 - val_accuracy: 0.7946 - val_loss: 0.6271\n",
      "Epoch 79/100\n",
      "\u001b[1m70/75\u001b[0m \u001b[32m━━━━━━━━━━━━━━━━━━\u001b[0m\u001b[37m━━\u001b[0m \u001b[1m0s\u001b[0m 4ms/step - accuracy: 0.8599 - loss: 0.4011\n",
      "Epoch 79: saving model to best_model.keras\n",
      "\u001b[1m75/75\u001b[0m \u001b[32m━━━━━━━━━━━━━━━━━━━━\u001b[0m\u001b[37m\u001b[0m \u001b[1m0s\u001b[0m 5ms/step - accuracy: 0.8598 - loss: 0.4013 - val_accuracy: 0.8081 - val_loss: 0.6086\n",
      "Epoch 80/100\n",
      "\u001b[1m71/75\u001b[0m \u001b[32m━━━━━━━━━━━━━━━━━━\u001b[0m\u001b[37m━━\u001b[0m \u001b[1m0s\u001b[0m 4ms/step - accuracy: 0.8667 - loss: 0.3944\n",
      "Epoch 80: saving model to best_model.keras\n",
      "\u001b[1m75/75\u001b[0m \u001b[32m━━━━━━━━━━━━━━━━━━━━\u001b[0m\u001b[37m\u001b[0m \u001b[1m0s\u001b[0m 5ms/step - accuracy: 0.8667 - loss: 0.3944 - val_accuracy: 0.8182 - val_loss: 0.5923\n",
      "Epoch 81/100\n",
      "\u001b[1m68/75\u001b[0m \u001b[32m━━━━━━━━━━━━━━━━━━\u001b[0m\u001b[37m━━\u001b[0m \u001b[1m0s\u001b[0m 4ms/step - accuracy: 0.8602 - loss: 0.3884\n",
      "Epoch 81: saving model to best_model.keras\n",
      "\u001b[1m75/75\u001b[0m \u001b[32m━━━━━━━━━━━━━━━━━━━━\u001b[0m\u001b[37m\u001b[0m \u001b[1m0s\u001b[0m 5ms/step - accuracy: 0.8606 - loss: 0.3889 - val_accuracy: 0.8013 - val_loss: 0.6366\n",
      "Epoch 82/100\n",
      "\u001b[1m69/75\u001b[0m \u001b[32m━━━━━━━━━━━━━━━━━━\u001b[0m\u001b[37m━━\u001b[0m \u001b[1m0s\u001b[0m 4ms/step - accuracy: 0.8738 - loss: 0.3741\n",
      "Epoch 82: saving model to best_model.keras\n",
      "\u001b[1m75/75\u001b[0m \u001b[32m━━━━━━━━━━━━━━━━━━━━\u001b[0m\u001b[37m\u001b[0m \u001b[1m0s\u001b[0m 5ms/step - accuracy: 0.8733 - loss: 0.3745 - val_accuracy: 0.7912 - val_loss: 0.6756\n",
      "Epoch 83/100\n",
      "\u001b[1m70/75\u001b[0m \u001b[32m━━━━━━━━━━━━━━━━━━\u001b[0m\u001b[37m━━\u001b[0m \u001b[1m0s\u001b[0m 4ms/step - accuracy: 0.8693 - loss: 0.3828\n",
      "Epoch 83: saving model to best_model.keras\n",
      "\u001b[1m75/75\u001b[0m \u001b[32m━━━━━━━━━━━━━━━━━━━━\u001b[0m\u001b[37m\u001b[0m \u001b[1m0s\u001b[0m 5ms/step - accuracy: 0.8693 - loss: 0.3835 - val_accuracy: 0.8182 - val_loss: 0.5861\n",
      "Epoch 84/100\n",
      "\u001b[1m70/75\u001b[0m \u001b[32m━━━━━━━━━━━━━━━━━━\u001b[0m\u001b[37m━━\u001b[0m \u001b[1m0s\u001b[0m 4ms/step - accuracy: 0.8634 - loss: 0.3959\n",
      "Epoch 84: saving model to best_model.keras\n",
      "\u001b[1m75/75\u001b[0m \u001b[32m━━━━━━━━━━━━━━━━━━━━\u001b[0m\u001b[37m\u001b[0m \u001b[1m0s\u001b[0m 5ms/step - accuracy: 0.8640 - loss: 0.3951 - val_accuracy: 0.8182 - val_loss: 0.5994\n",
      "Epoch 85/100\n",
      "\u001b[1m70/75\u001b[0m \u001b[32m━━━━━━━━━━━━━━━━━━\u001b[0m\u001b[37m━━\u001b[0m \u001b[1m0s\u001b[0m 4ms/step - accuracy: 0.8672 - loss: 0.3873\n",
      "Epoch 85: saving model to best_model.keras\n",
      "\u001b[1m75/75\u001b[0m \u001b[32m━━━━━━━━━━━━━━━━━━━━\u001b[0m\u001b[37m\u001b[0m \u001b[1m0s\u001b[0m 5ms/step - accuracy: 0.8674 - loss: 0.3871 - val_accuracy: 0.8114 - val_loss: 0.5860\n",
      "Epoch 86/100\n",
      "\u001b[1m70/75\u001b[0m \u001b[32m━━━━━━━━━━━━━━━━━━\u001b[0m\u001b[37m━━\u001b[0m \u001b[1m0s\u001b[0m 4ms/step - accuracy: 0.8792 - loss: 0.3701\n",
      "Epoch 86: saving model to best_model.keras\n",
      "\u001b[1m75/75\u001b[0m \u001b[32m━━━━━━━━━━━━━━━━━━━━\u001b[0m\u001b[37m\u001b[0m \u001b[1m0s\u001b[0m 5ms/step - accuracy: 0.8789 - loss: 0.3695 - val_accuracy: 0.8047 - val_loss: 0.6014\n",
      "Epoch 87/100\n",
      "\u001b[1m70/75\u001b[0m \u001b[32m━━━━━━━━━━━━━━━━━━\u001b[0m\u001b[37m━━\u001b[0m \u001b[1m0s\u001b[0m 4ms/step - accuracy: 0.8700 - loss: 0.3807\n",
      "Epoch 87: saving model to best_model.keras\n",
      "\u001b[1m75/75\u001b[0m \u001b[32m━━━━━━━━━━━━━━━━━━━━\u001b[0m\u001b[37m\u001b[0m \u001b[1m0s\u001b[0m 5ms/step - accuracy: 0.8703 - loss: 0.3797 - val_accuracy: 0.8081 - val_loss: 0.5890\n",
      "Epoch 88/100\n",
      "\u001b[1m71/75\u001b[0m \u001b[32m━━━━━━━━━━━━━━━━━━\u001b[0m\u001b[37m━━\u001b[0m \u001b[1m0s\u001b[0m 4ms/step - accuracy: 0.8797 - loss: 0.3600\n",
      "Epoch 88: saving model to best_model.keras\n",
      "\u001b[1m75/75\u001b[0m \u001b[32m━━━━━━━━━━━━━━━━━━━━\u001b[0m\u001b[37m\u001b[0m \u001b[1m0s\u001b[0m 5ms/step - accuracy: 0.8797 - loss: 0.3599 - val_accuracy: 0.7946 - val_loss: 0.5854\n",
      "Epoch 89/100\n",
      "\u001b[1m70/75\u001b[0m \u001b[32m━━━━━━━━━━━━━━━━━━\u001b[0m\u001b[37m━━\u001b[0m \u001b[1m0s\u001b[0m 4ms/step - accuracy: 0.8766 - loss: 0.3514\n",
      "Epoch 89: saving model to best_model.keras\n",
      "\u001b[1m75/75\u001b[0m \u001b[32m━━━━━━━━━━━━━━━━━━━━\u001b[0m\u001b[37m\u001b[0m \u001b[1m0s\u001b[0m 5ms/step - accuracy: 0.8766 - loss: 0.3522 - val_accuracy: 0.8182 - val_loss: 0.5189\n",
      "Epoch 90/100\n",
      "\u001b[1m69/75\u001b[0m \u001b[32m━━━━━━━━━━━━━━━━━━\u001b[0m\u001b[37m━━\u001b[0m \u001b[1m0s\u001b[0m 4ms/step - accuracy: 0.8891 - loss: 0.3332\n",
      "Epoch 90: saving model to best_model.keras\n",
      "\u001b[1m75/75\u001b[0m \u001b[32m━━━━━━━━━━━━━━━━━━━━\u001b[0m\u001b[37m\u001b[0m \u001b[1m0s\u001b[0m 5ms/step - accuracy: 0.8885 - loss: 0.3349 - val_accuracy: 0.8114 - val_loss: 0.5941\n",
      "Epoch 91/100\n",
      "\u001b[1m69/75\u001b[0m \u001b[32m━━━━━━━━━━━━━━━━━━\u001b[0m\u001b[37m━━\u001b[0m \u001b[1m0s\u001b[0m 4ms/step - accuracy: 0.8777 - loss: 0.3597\n",
      "Epoch 91: saving model to best_model.keras\n",
      "\u001b[1m75/75\u001b[0m \u001b[32m━━━━━━━━━━━━━━━━━━━━\u001b[0m\u001b[37m\u001b[0m \u001b[1m0s\u001b[0m 5ms/step - accuracy: 0.8776 - loss: 0.3593 - val_accuracy: 0.8350 - val_loss: 0.5172\n",
      "Epoch 92/100\n",
      "\u001b[1m67/75\u001b[0m \u001b[32m━━━━━━━━━━━━━━━━━\u001b[0m\u001b[37m━━━\u001b[0m \u001b[1m0s\u001b[0m 4ms/step - accuracy: 0.8923 - loss: 0.3309\n",
      "Epoch 92: saving model to best_model.keras\n",
      "\u001b[1m75/75\u001b[0m \u001b[32m━━━━━━━━━━━━━━━━━━━━\u001b[0m\u001b[37m\u001b[0m \u001b[1m0s\u001b[0m 5ms/step - accuracy: 0.8923 - loss: 0.3315 - val_accuracy: 0.8249 - val_loss: 0.5349\n",
      "Epoch 93/100\n",
      "\u001b[1m70/75\u001b[0m \u001b[32m━━━━━━━━━━━━━━━━━━\u001b[0m\u001b[37m━━\u001b[0m \u001b[1m0s\u001b[0m 4ms/step - accuracy: 0.8778 - loss: 0.3543\n",
      "Epoch 93: saving model to best_model.keras\n",
      "\u001b[1m75/75\u001b[0m \u001b[32m━━━━━━━━━━━━━━━━━━━━\u001b[0m\u001b[37m\u001b[0m \u001b[1m0s\u001b[0m 5ms/step - accuracy: 0.8781 - loss: 0.3544 - val_accuracy: 0.8350 - val_loss: 0.5236\n",
      "Epoch 94/100\n",
      "\u001b[1m68/75\u001b[0m \u001b[32m━━━━━━━━━━━━━━━━━━\u001b[0m\u001b[37m━━\u001b[0m \u001b[1m0s\u001b[0m 4ms/step - accuracy: 0.8802 - loss: 0.3411\n",
      "Epoch 94: saving model to best_model.keras\n",
      "\u001b[1m75/75\u001b[0m \u001b[32m━━━━━━━━━━━━━━━━━━━━\u001b[0m\u001b[37m\u001b[0m \u001b[1m0s\u001b[0m 5ms/step - accuracy: 0.8803 - loss: 0.3417 - val_accuracy: 0.7710 - val_loss: 0.6848\n",
      "Epoch 95/100\n",
      "\u001b[1m67/75\u001b[0m \u001b[32m━━━━━━━━━━━━━━━━━\u001b[0m\u001b[37m━━━\u001b[0m \u001b[1m0s\u001b[0m 4ms/step - accuracy: 0.8913 - loss: 0.3292\n",
      "Epoch 95: saving model to best_model.keras\n",
      "\u001b[1m75/75\u001b[0m \u001b[32m━━━━━━━━━━━━━━━━━━━━\u001b[0m\u001b[37m\u001b[0m \u001b[1m0s\u001b[0m 5ms/step - accuracy: 0.8908 - loss: 0.3287 - val_accuracy: 0.7946 - val_loss: 0.6261\n",
      "Epoch 96/100\n",
      "\u001b[1m71/75\u001b[0m \u001b[32m━━━━━━━━━━━━━━━━━━\u001b[0m\u001b[37m━━\u001b[0m \u001b[1m0s\u001b[0m 4ms/step - accuracy: 0.8881 - loss: 0.3272\n",
      "Epoch 96: saving model to best_model.keras\n",
      "\u001b[1m75/75\u001b[0m \u001b[32m━━━━━━━━━━━━━━━━━━━━\u001b[0m\u001b[37m\u001b[0m \u001b[1m0s\u001b[0m 5ms/step - accuracy: 0.8881 - loss: 0.3271 - val_accuracy: 0.7879 - val_loss: 0.6331\n",
      "Epoch 97/100\n",
      "\u001b[1m69/75\u001b[0m \u001b[32m━━━━━━━━━━━━━━━━━━\u001b[0m\u001b[37m━━\u001b[0m \u001b[1m0s\u001b[0m 4ms/step - accuracy: 0.8869 - loss: 0.3559\n",
      "Epoch 97: saving model to best_model.keras\n",
      "\u001b[1m75/75\u001b[0m \u001b[32m━━━━━━━━━━━━━━━━━━━━\u001b[0m\u001b[37m\u001b[0m \u001b[1m0s\u001b[0m 5ms/step - accuracy: 0.8872 - loss: 0.3537 - val_accuracy: 0.8114 - val_loss: 0.5780\n",
      "Epoch 98/100\n",
      "\u001b[1m68/75\u001b[0m \u001b[32m━━━━━━━━━━━━━━━━━━\u001b[0m\u001b[37m━━\u001b[0m \u001b[1m0s\u001b[0m 4ms/step - accuracy: 0.8797 - loss: 0.3347\n",
      "Epoch 98: saving model to best_model.keras\n",
      "\u001b[1m75/75\u001b[0m \u001b[32m━━━━━━━━━━━━━━━━━━━━\u001b[0m\u001b[37m\u001b[0m \u001b[1m0s\u001b[0m 5ms/step - accuracy: 0.8799 - loss: 0.3353 - val_accuracy: 0.7845 - val_loss: 0.6786\n",
      "Epoch 99/100\n",
      "\u001b[1m67/75\u001b[0m \u001b[32m━━━━━━━━━━━━━━━━━\u001b[0m\u001b[37m━━━\u001b[0m \u001b[1m0s\u001b[0m 4ms/step - accuracy: 0.8936 - loss: 0.3173\n",
      "Epoch 99: saving model to best_model.keras\n",
      "\u001b[1m75/75\u001b[0m \u001b[32m━━━━━━━━━━━━━━━━━━━━\u001b[0m\u001b[37m\u001b[0m \u001b[1m0s\u001b[0m 5ms/step - accuracy: 0.8937 - loss: 0.3179 - val_accuracy: 0.7879 - val_loss: 0.6358\n",
      "Epoch 100/100\n",
      "\u001b[1m70/75\u001b[0m \u001b[32m━━━━━━━━━━━━━━━━━━\u001b[0m\u001b[37m━━\u001b[0m \u001b[1m0s\u001b[0m 4ms/step - accuracy: 0.8879 - loss: 0.3206\n",
      "Epoch 100: saving model to best_model.keras\n",
      "\u001b[1m75/75\u001b[0m \u001b[32m━━━━━━━━━━━━━━━━━━━━\u001b[0m\u001b[37m\u001b[0m \u001b[1m0s\u001b[0m 5ms/step - accuracy: 0.8875 - loss: 0.3211 - val_accuracy: 0.8081 - val_loss: 0.5718\n"
     ]
    }
   ],
   "source": [
    "from tensorflow.keras.callbacks import EarlyStopping, ModelCheckpoint\n",
    "import os\n",
    "\n",
    "save_dir = './models/'\n",
    "\n",
    "os.makedirs(save_dir, exist_ok=True)\n",
    "model_checkpoint = ModelCheckpoint(\n",
    "    'best_model.keras',\n",
    "    save_best_only=False,\n",
    "    save_weights_only=False,\n",
    "    monitor='val_loss',\n",
    "    mode='min',\n",
    "    verbose=1\n",
    ")\n",
    "\n",
    "early_stopping = EarlyStopping(\n",
    "    monitor='val_loss',\n",
    "    patience=20,\n",
    "    min_delta=0\n",
    ")\n",
    "\n",
    "y_train_int = np.argmax(y_train, axis=1)\n",
    "y_validation_int = np.argmax(y_validation, axis=1)\n",
    "y_test_int = np.argmax(y_test, axis=1)\n",
    "\n",
    "\n",
    "history = model.fit(\n",
    "    X_train, y_train_int,\n",
    "    validation_data=(X_validation, y_validation_int),\n",
    "    epochs=100,\n",
    "    batch_size=64,\n",
    "    callbacks=[model_checkpoint, early_stopping]\n",
    ")"
   ]
  },
  {
   "cell_type": "markdown",
   "metadata": {
    "id": "zAeCCzry30CB"
   },
   "source": [
    "### Step 6: Evaluate the Model\n",
    "\n",
    "- Label Preparation:\n",
    "\n",
    "  - Converting y_test to integer labels: Necessary for evaluation since the model expects integer labels.\n",
    "- Model Evaluation:\n",
    "\n",
    "- model.evaluate(X_test, y_test_int): Computes the loss and accuracy on the test set.\n",
    "- Prints Test Accuracy: Provides a quick metric to assess model performance.\n",
    "- Generating Predictions:\n",
    "\n",
    "  - model.predict(X_test): Generates predicted probabilities for each class.\n",
    "  - np.argmax(y_pred, axis=1): Converts probabilities to predicted class labels.\n",
    "  - y_true: Actual class labels.\n",
    "- Classification Report:\n",
    "\n",
    "  - classification_report(y_true, y_pred_classes): Provides precision, recall, F1-score, and support for each class.\n",
    "  - Confusion Matrix:\n",
    "\n",
    "    - confusion_matrix(y_true, y_pred_classes): Computes a confusion matrix to visualize the performance.\n",
    "  - Plotting:\n",
    "    - plt.figure(figsize=(10, 8)): Sets the size of the plot.\n",
    "    - sns.heatmap: Creates a heatmap of the confusion matrix.\n",
    "- Justification:\n",
    "\n",
    "  - Performance Assessment: Evaluating on the test set provides an unbiased estimate of model performance.\n",
    "  - Detailed Metrics: The classification report and confusion matrix give insights into how the model performs on each class.\n",
    "  - Visualization: Helps in identifying specific classes where the model may be underperforming."
   ]
  },
  {
   "cell_type": "code",
   "execution_count": 79,
   "metadata": {
    "colab": {
     "base_uri": "https://localhost:8080/",
     "height": 1000
    },
    "id": "nDGh1lG634PX",
    "outputId": "04808e6f-c87f-48cf-bca5-59d32bd99329"
   },
   "outputs": [
    {
     "name": "stdout",
     "output_type": "stream",
     "text": [
      "\u001b[1m10/10\u001b[0m \u001b[32m━━━━━━━━━━━━━━━━━━━━\u001b[0m\u001b[37m\u001b[0m \u001b[1m2s\u001b[0m 84ms/step - accuracy: 0.8059 - loss: 0.4912\n",
      "Test Accuracy: 82.49%\n",
      "\u001b[1m10/10\u001b[0m \u001b[32m━━━━━━━━━━━━━━━━━━━━\u001b[0m\u001b[37m\u001b[0m \u001b[1m1s\u001b[0m 49ms/step\n",
      "              precision    recall  f1-score   support\n",
      "\n",
      "           0       0.80      1.00      0.89        36\n",
      "           1       1.00      0.83      0.91        29\n",
      "           2       0.69      0.67      0.68        27\n",
      "           3       0.61      0.88      0.72        26\n",
      "           4       1.00      0.83      0.91        30\n",
      "           5       0.81      0.79      0.80        33\n",
      "           6       1.00      0.53      0.70        30\n",
      "           7       0.88      0.97      0.92        30\n",
      "           8       0.96      0.85      0.90        26\n",
      "           9       0.74      0.87      0.80        30\n",
      "\n",
      "    accuracy                           0.82       297\n",
      "   macro avg       0.85      0.82      0.82       297\n",
      "weighted avg       0.85      0.82      0.82       297\n",
      "\n"
     ]
    },
    {
     "data": {
      "image/png": "[encoded data removed]",
      "text/plain": [
       "<Figure size 1000x800 with 2 Axes>"
      ]
     },
     "metadata": {},
     "output_type": "display_data"
    }
   ],
   "source": [
    "from tensorflow import keras\n",
    "import numpy as np\n",
    "import matplotlib.pyplot as plt\n",
    "import seaborn as sns\n",
    "from sklearn.metrics import classification_report, confusion_matrix\n",
    "\n",
    "model = keras.models.load_model('best_model.keras')\n",
    "\n",
    "y_test_int = np.argmax(y_test, axis=1)\n",
    "\n",
    "test_loss, test_accuracy = model.evaluate(X_test, y_test_int)\n",
    "print(f'Test Accuracy: {test_accuracy:.2%}')\n",
    "\n",
    "y_pred = model.predict(X_test)\n",
    "y_pred_classes = np.argmax(y_pred, axis=1)\n",
    "y_true = y_test_int\n",
    "\n",
    "print(classification_report(y_true, y_pred_classes))\n",
    "\n",
    "conf_mat = confusion_matrix(y_true, y_pred_classes)\n",
    "\n",
    "plt.figure(figsize=(10, 8))\n",
    "sns.heatmap(conf_mat, annot=True, fmt='d', cmap='Blues')\n",
    "plt.title('Confusion Matrix')\n",
    "plt.xlabel('Predicted Label')\n",
    "plt.ylabel('True Label')\n",
    "plt.show()\n"
   ]
  },
  {
   "cell_type": "markdown",
   "metadata": {
    "id": "D9slFHK74JDD"
   },
   "source": [
    "### Step 7: Visualize Training History\n",
    "- Purpose: To visualize how the model's performance changes over epochs.\n",
    "\n",
    "- Plotting Training and Validation Metrics:\n",
    "\n",
    "  - Accuracy: Helps assess if the model is learning and generalizing well.\n",
    "  - Loss: Provides insights into how well the model is optimizing the loss function.\n",
    "- Interpreting the Plots:\n",
    "\n",
    "  - Overfitting: If the training accuracy continues to improve while validation accuracy plateaus or decreases.\n",
    "  - Underfitting: If both training and validation accuracy are low.\n",
    "- Justification:\n",
    "\n",
    "  - Model Diagnostics: Visualizations are essential for diagnosing issues like overfitting or underfitting.\n",
    "  - Guiding Model Improvements: Based on the plots, decisions can be made to adjust hyperparameters or modify the model architecture."
   ]
  },
  {
   "cell_type": "markdown",
   "metadata": {
    "id": "030fbOAt4Rr6"
   },
   "source": [
    "Accuracy:"
   ]
  },
  {
   "cell_type": "code",
   "execution_count": 80,
   "metadata": {
    "colab": {
     "base_uri": "https://localhost:8080/",
     "height": 302
    },
    "id": "8dRsVYJX4NII",
    "outputId": "3494758d-ce83-4f02-e69b-f35110c895eb"
   },
   "outputs": [
    {
     "data": {
      "image/png": "[encoded data removed]",
      "text/plain": [
       "<Figure size 1200x400 with 1 Axes>"
      ]
     },
     "metadata": {},
     "output_type": "display_data"
    }
   ],
   "source": [
    "plt.figure(figsize=(12, 4))\n",
    "plt.plot(history.history['accuracy'], label='Training Accuracy')\n",
    "plt.plot(history.history['val_accuracy'], label='Validation Accuracy')\n",
    "plt.title('Model Accuracy')\n",
    "plt.xlabel('Epoch')\n",
    "plt.ylabel('Accuracy')\n",
    "plt.legend()\n",
    "plt.show()"
   ]
  },
  {
   "cell_type": "markdown",
   "metadata": {
    "id": "kipgPc8Y4THc"
   },
   "source": [
    "Loss:"
   ]
  },
  {
   "cell_type": "code",
   "execution_count": 81,
   "metadata": {
    "colab": {
     "base_uri": "https://localhost:8080/",
     "height": 300
    },
    "id": "8Bj5Mx1x4PlL",
    "outputId": "e06ea7b6-4445-4754-9378-7a135d6d6a53"
   },
   "outputs": [
    {
     "data": {
      "image/png": "[encoded data removed]",
      "text/plain": [
       "<Figure size 1200x400 with 1 Axes>"
      ]
     },
     "metadata": {},
     "output_type": "display_data"
    }
   ],
   "source": [
    "plt.figure(figsize=(12, 4))\n",
    "plt.plot(history.history['loss'], label='Training Loss')\n",
    "plt.plot(history.history['val_loss'], label='Validation Loss')\n",
    "plt.title('Model Loss')\n",
    "plt.xlabel('Epoch')\n",
    "plt.ylabel('Loss')\n",
    "plt.legend()\n",
    "plt.show()"
   ]
  },
  {
   "cell_type": "markdown",
   "metadata": {
    "id": "IWVoWd454WPd"
   },
   "source": [
    "### Step 8: Save Model"
   ]
  },
  {
   "cell_type": "markdown",
   "metadata": {
    "id": "blZyiOHWvCj9"
   },
   "source": []
  },
  {
   "cell_type": "code",
   "execution_count": 83,
   "metadata": {
    "id": "tx6oRvIT4fDR"
   },
   "outputs": [],
   "source": [
    "model.save('my_genre_classification_model.keras')\n"
   ]
  },
  {
   "cell_type": "code",
   "execution_count": null,
   "metadata": {
    "id": "0dQkFl2l8hW8"
   },
   "outputs": [],
   "source": []
  }
 ],
 "metadata": {
  "accelerator": "GPU",
  "colab": {
   "gpuType": "A100",
   "machine_shape": "hm",
   "provenance": []
  },
  "kernelspec": {
   "display_name": "Python 3",
   "name": "python3"
  },
  "language_info": {
   "name": "python"
  }
 },
 "nbformat": 4,
 "nbformat_minor": 0
}
