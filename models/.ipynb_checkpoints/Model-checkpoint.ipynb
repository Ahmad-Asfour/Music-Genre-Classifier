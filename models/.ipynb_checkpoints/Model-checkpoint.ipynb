{
 "cells": [
  {
   "cell_type": "markdown",
   "metadata": {
    "id": "H_-Fq17tzLSV"
   },
   "source": [
    "# The CNN\n"
   ]
  },
  {
   "cell_type": "markdown",
   "metadata": {
    "id": "KROE0JfGzW-g"
   },
   "source": [
    "## Setting up the model"
   ]
  },
  {
   "cell_type": "markdown",
   "metadata": {
    "id": "xyj6QLotzYGJ"
   },
   "source": [
    "### Step 1: Import Necessary Libraries"
   ]
  },
  {
   "cell_type": "code",
   "execution_count": 2,
   "metadata": {
    "id": "GrPnaDSLzKmo"
   },
   "outputs": [],
   "source": [
    "import numpy as np\n",
    "import tensorflow as tf\n",
    "from tensorflow import keras\n",
    "from tensorflow.keras import layers\n"
   ]
  },
  {
   "cell_type": "markdown",
   "metadata": {
    "id": "hbIAineD0fKw"
   },
   "source": [
    "### Step 2: Load The Preprocessed and Augmented Data"
   ]
  },
  {
   "cell_type": "code",
   "execution_count": 4,
   "metadata": {
    "id": "Qf47E1UF2mGE"
   },
   "outputs": [],
   "source": [
    "import zipfile\n",
    "\n",
    "zip_file_name = '../data/npy_files.zip'\n",
    "extract_dir = './data'\n",
    "\n",
    "with zipfile.ZipFile(zip_file_name, 'r') as zip_ref:\n",
    "    zip_ref.extractall(extract_dir)"
   ]
  },
  {
   "cell_type": "code",
   "execution_count": 5,
   "metadata": {
    "id": "rLrO4jOTzVMh"
   },
   "outputs": [],
   "source": [
    "data_dir = './data'\n",
    "\n",
    "X_train = np.load(f'{data_dir}/X_train_augmented.npy')\n",
    "y_train = np.load(f'{data_dir}/y_train_augmented.npy')\n",
    "\n",
    "X_validation = np.load(f'{data_dir}/X_validation.npy')\n",
    "y_validation = np.load(f'{data_dir}/y_validation.npy')\n",
    "\n",
    "X_test = np.load(f'{data_dir}/X_test.npy')\n",
    "y_test = np.load(f'{data_dir}/y_test.npy')"
   ]
  },
  {
   "cell_type": "code",
   "execution_count": 7,
   "metadata": {
    "colab": {
     "base_uri": "https://localhost:8080/"
    },
    "id": "r_vM4K5k2ry8",
    "outputId": "3ea1a828-b677-48ed-d6bd-3b5fbf004d22"
   },
   "outputs": [
    {
     "name": "stdout",
     "output_type": "stream",
     "text": [
      "X_train shape: (4756, 431, 13, 1)\n",
      "y_train shape: (4756,)\n",
      "X_validation shape: (297, 431, 13, 1)\n",
      "y_validation shape: (297,)\n",
      "X_test shape: (298, 431, 13, 1)\n",
      "y_test shape: (298,)\n"
     ]
    }
   ],
   "source": [
    "print('X_train shape:', X_train.shape)\n",
    "print('y_train shape:', y_train.shape)\n",
    "print('X_validation shape:', X_validation.shape)\n",
    "print('y_validation shape:', y_validation.shape)\n",
    "print('X_test shape:', X_test.shape)\n",
    "print('y_test shape:', y_test.shape)"
   ]
  },
  {
   "cell_type": "markdown",
   "metadata": {
    "id": "WoqM-UOc2gss"
   },
   "source": [
    "### Step 3: Encode Labels to Categorical Format\n",
    "\n",
    "- to_categorical: Converts integer labels into one-hot encoded vectors.\n",
    "\n",
    " - Example: If there are 10 classes, label 3 becomes [0, 0, 0, 1, 0, 0, 0, 0, 0, 0].\n",
    "- Calculating num_classes:\n",
    "\n",
    "  - np.unique(y_train): Finds all unique classes in y_train.\n",
    "  - len(): Determines the number of unique classes.\n",
    "  - Purpose: Needed to correctly one-hot encode the labels and to define the output layer of the model.\n",
    "- Converting Labels:\n",
    "\n",
    "  - y_train, y_validation, y_test: All labels are converted to one-hot encoded format for compatibility with the loss function and the model's expected output.\n",
    "- Printing Shapes:\n",
    "\n",
    "  - Purpose: To confirm that the labels have been correctly converted and to check the new dimensions.\n",
    "- Justification:\n",
    "\n",
    "  - Model Compatibility: The model outputs probability distributions over classes (one-hot vectors), so labels must be in the same format.\n",
    "  - Loss Function: When using categorical_crossentropy, labels need to be one-hot encoded."
   ]
  },
  {
   "cell_type": "code",
   "execution_count": 8,
   "metadata": {
    "colab": {
     "base_uri": "https://localhost:8080/"
    },
    "id": "Ax1EBRyf2wOE",
    "outputId": "591fa0f2-c122-413b-a0b4-0a0c70f57d7c"
   },
   "outputs": [
    {
     "name": "stdout",
     "output_type": "stream",
     "text": [
      "Number of classes: 10\n",
      "y_train shape after to_categorical: (4756, 10)\n",
      "y_validation shape after to_categorical: (297, 10)\n",
      "y_test shape after to_categorical: (298, 10)\n"
     ]
    }
   ],
   "source": [
    "from tensorflow.keras.utils import to_categorical\n",
    "\n",
    "num_classes = len(np.unique(y_train))\n",
    "print('Number of classes:', num_classes)\n",
    "\n",
    "y_train = to_categorical(y_train, num_classes=num_classes)\n",
    "y_validation = to_categorical(y_validation, num_classes=num_classes)\n",
    "y_test = to_categorical(y_test, num_classes=num_classes)\n",
    "\n",
    "print('y_train shape after to_categorical:', y_train.shape)\n",
    "print('y_validation shape after to_categorical:', y_validation.shape)\n",
    "print('y_test shape after to_categorical:', y_test.shape)"
   ]
  },
  {
   "cell_type": "markdown",
   "metadata": {
    "id": "jVtEzeeM3Ao-"
   },
   "source": [
    "### Step 4: Define the Model Architecture"
   ]
  },
  {
   "cell_type": "markdown",
   "metadata": {
    "id": "JNFOGN-c3MWz"
   },
   "source": [
    "- Model Type: Sequential model, which is a linear stack of layers.\n",
    "\n",
    "- Layer-by-Layer Explanation:\n",
    "\n",
    " 1. First Convolutional Block:\n",
    "\n",
    "    - Conv2D(32, (3, 3), activation='relu', padding='same', input_shape=input_shape)\n",
    "      - 32 Filters: Learns 32 different filters.\n",
    "      - Kernel Size (3, 3): Each filter is of size 3x3.\n",
    "      - Activation 'relu': Introduces non-linearity.\n",
    "      - Padding 'same': Output feature map has the same dimensions as the input.\n",
    "      - input_shape: Specifies the shape of the input data (required for the first layer).\n",
    "    - BatchNormalization(): Normalizes the outputs of the previous layer to stabilize and accelerate training.\n",
    "    - MaxPooling2D((2, 2)): Reduces the spatial dimensions by half, helping to decrease computational load and prevent overfitting.\n",
    "    - Dropout(0.3): Randomly sets 30% of the inputs to zero during training, helping to prevent overfitting.\n",
    "  2. Second Convolutional Block:\n",
    "\n",
    "    - Conv2D(64, (3, 3), activation='relu', padding='same')\n",
    "      - 64 Filters: Learns more complex features.\n",
    "    - Other layers: Same as the first block but with increased filter count.\n",
    "  3. Third Convolutional Block:\n",
    "\n",
    "    - Similar to the second block but maintains the number of filters.\n",
    "  4. Global Average Pooling:\n",
    "\n",
    "    - GlobalAveragePooling2D(): Reduces each feature map to a single number by taking the average over all spatial locations.\n",
    "    - Justification: Reduces the number of parameters and helps prevent overfitting compared to a Flatten layer followed by Dense layers.\n",
    "  5. Fully Connected Layers:\n",
    "\n",
    "    - Dense(128, activation='relu'): Learns complex combinations of the features extracted by convolutional layers.\n",
    "    - Dropout(0.4): Higher dropout rate to further prevent overfitting.\n",
    "    - Dense(num_classes, activation='softmax'): Output layer that produces probabilities for each class.\n",
    "- model.summary(): Prints a summary of the model architecture, including output shapes and the number of parameters at each layer.\n",
    "\n",
    "- Justification:\n",
    "\n",
    "- Convolutional Layers: Capture local spatial patterns in the MFCC inputs.\n",
    "Increasing Filters: Allows the model to learn more complex features at deeper layers.\n",
    "- Batch Normalization: Improves training speed and stability.\n",
    "- Pooling Layers: Reduce spatial dimensions, controlling overfitting and computational requirements.\n",
    "- Dropout: Regularization technique to prevent overfitting by making the network more robust.\n",
    "- Global Average Pooling vs. Flatten:\n",
    "  - Global Average Pooling: Reduces parameters, lowering the risk of overfitting.\n",
    "  - Flatten: Could lead to a very large number of parameters, especially with large feature maps.\n"
   ]
  },
  {
   "cell_type": "code",
   "execution_count": 11,
   "metadata": {
    "colab": {
     "base_uri": "https://localhost:8080/",
     "height": 775
    },
    "id": "vmPnM8Zy3EfH",
    "outputId": "b5569cb9-24f4-480e-c3df-9e8269fa0342"
   },
   "outputs": [
    {
     "data": {
      "text/html": [
       "<pre style=\"white-space:pre;overflow-x:auto;line-height:normal;font-family:Menlo,'DejaVu Sans Mono',consolas,'Courier New',monospace\"><span style=\"font-weight: bold\">Model: \"sequential\"</span>\n",
       "</pre>\n"
      ],
      "text/plain": [
       "\u001b[1mModel: \"sequential\"\u001b[0m\n"
      ]
     },
     "metadata": {},
     "output_type": "display_data"
    },
    {
     "data": {
      "text/html": [
       "<pre style=\"white-space:pre;overflow-x:auto;line-height:normal;font-family:Menlo,'DejaVu Sans Mono',consolas,'Courier New',monospace\">┏━━━━━━━━━━━━━━━━━━━━━━━━━━━━━━━━━┳━━━━━━━━━━━━━━━━━━━━━━━━┳━━━━━━━━━━━━━━━┓\n",
       "┃<span style=\"font-weight: bold\"> Layer (type)                    </span>┃<span style=\"font-weight: bold\"> Output Shape           </span>┃<span style=\"font-weight: bold\">       Param # </span>┃\n",
       "┡━━━━━━━━━━━━━━━━━━━━━━━━━━━━━━━━━╇━━━━━━━━━━━━━━━━━━━━━━━━╇━━━━━━━━━━━━━━━┩\n",
       "│ conv2d (<span style=\"color: #0087ff; text-decoration-color: #0087ff\">Conv2D</span>)                 │ ?                      │   <span style=\"color: #00af00; text-decoration-color: #00af00\">0</span> (unbuilt) │\n",
       "├─────────────────────────────────┼────────────────────────┼───────────────┤\n",
       "│ batch_normalization             │ ?                      │   <span style=\"color: #00af00; text-decoration-color: #00af00\">0</span> (unbuilt) │\n",
       "│ (<span style=\"color: #0087ff; text-decoration-color: #0087ff\">BatchNormalization</span>)            │                        │               │\n",
       "├─────────────────────────────────┼────────────────────────┼───────────────┤\n",
       "│ max_pooling2d (<span style=\"color: #0087ff; text-decoration-color: #0087ff\">MaxPooling2D</span>)    │ ?                      │             <span style=\"color: #00af00; text-decoration-color: #00af00\">0</span> │\n",
       "├─────────────────────────────────┼────────────────────────┼───────────────┤\n",
       "│ dropout (<span style=\"color: #0087ff; text-decoration-color: #0087ff\">Dropout</span>)               │ ?                      │             <span style=\"color: #00af00; text-decoration-color: #00af00\">0</span> │\n",
       "├─────────────────────────────────┼────────────────────────┼───────────────┤\n",
       "│ conv2d_1 (<span style=\"color: #0087ff; text-decoration-color: #0087ff\">Conv2D</span>)               │ ?                      │   <span style=\"color: #00af00; text-decoration-color: #00af00\">0</span> (unbuilt) │\n",
       "├─────────────────────────────────┼────────────────────────┼───────────────┤\n",
       "│ batch_normalization_1           │ ?                      │   <span style=\"color: #00af00; text-decoration-color: #00af00\">0</span> (unbuilt) │\n",
       "│ (<span style=\"color: #0087ff; text-decoration-color: #0087ff\">BatchNormalization</span>)            │                        │               │\n",
       "├─────────────────────────────────┼────────────────────────┼───────────────┤\n",
       "│ max_pooling2d_1 (<span style=\"color: #0087ff; text-decoration-color: #0087ff\">MaxPooling2D</span>)  │ ?                      │             <span style=\"color: #00af00; text-decoration-color: #00af00\">0</span> │\n",
       "├─────────────────────────────────┼────────────────────────┼───────────────┤\n",
       "│ dropout_1 (<span style=\"color: #0087ff; text-decoration-color: #0087ff\">Dropout</span>)             │ ?                      │             <span style=\"color: #00af00; text-decoration-color: #00af00\">0</span> │\n",
       "├─────────────────────────────────┼────────────────────────┼───────────────┤\n",
       "│ conv2d_2 (<span style=\"color: #0087ff; text-decoration-color: #0087ff\">Conv2D</span>)               │ ?                      │   <span style=\"color: #00af00; text-decoration-color: #00af00\">0</span> (unbuilt) │\n",
       "├─────────────────────────────────┼────────────────────────┼───────────────┤\n",
       "│ batch_normalization_2           │ ?                      │   <span style=\"color: #00af00; text-decoration-color: #00af00\">0</span> (unbuilt) │\n",
       "│ (<span style=\"color: #0087ff; text-decoration-color: #0087ff\">BatchNormalization</span>)            │                        │               │\n",
       "├─────────────────────────────────┼────────────────────────┼───────────────┤\n",
       "│ max_pooling2d_2 (<span style=\"color: #0087ff; text-decoration-color: #0087ff\">MaxPooling2D</span>)  │ ?                      │             <span style=\"color: #00af00; text-decoration-color: #00af00\">0</span> │\n",
       "├─────────────────────────────────┼────────────────────────┼───────────────┤\n",
       "│ dropout_2 (<span style=\"color: #0087ff; text-decoration-color: #0087ff\">Dropout</span>)             │ ?                      │             <span style=\"color: #00af00; text-decoration-color: #00af00\">0</span> │\n",
       "├─────────────────────────────────┼────────────────────────┼───────────────┤\n",
       "│ global_average_pooling2d        │ ?                      │             <span style=\"color: #00af00; text-decoration-color: #00af00\">0</span> │\n",
       "│ (<span style=\"color: #0087ff; text-decoration-color: #0087ff\">GlobalAveragePooling2D</span>)        │                        │               │\n",
       "├─────────────────────────────────┼────────────────────────┼───────────────┤\n",
       "│ dense (<span style=\"color: #0087ff; text-decoration-color: #0087ff\">Dense</span>)                   │ ?                      │   <span style=\"color: #00af00; text-decoration-color: #00af00\">0</span> (unbuilt) │\n",
       "├─────────────────────────────────┼────────────────────────┼───────────────┤\n",
       "│ dropout_3 (<span style=\"color: #0087ff; text-decoration-color: #0087ff\">Dropout</span>)             │ ?                      │             <span style=\"color: #00af00; text-decoration-color: #00af00\">0</span> │\n",
       "├─────────────────────────────────┼────────────────────────┼───────────────┤\n",
       "│ dense_1 (<span style=\"color: #0087ff; text-decoration-color: #0087ff\">Dense</span>)                 │ ?                      │   <span style=\"color: #00af00; text-decoration-color: #00af00\">0</span> (unbuilt) │\n",
       "└─────────────────────────────────┴────────────────────────┴───────────────┘\n",
       "</pre>\n"
      ],
      "text/plain": [
       "┏━━━━━━━━━━━━━━━━━━━━━━━━━━━━━━━━━┳━━━━━━━━━━━━━━━━━━━━━━━━┳━━━━━━━━━━━━━━━┓\n",
       "┃\u001b[1m \u001b[0m\u001b[1mLayer (type)                   \u001b[0m\u001b[1m \u001b[0m┃\u001b[1m \u001b[0m\u001b[1mOutput Shape          \u001b[0m\u001b[1m \u001b[0m┃\u001b[1m \u001b[0m\u001b[1m      Param #\u001b[0m\u001b[1m \u001b[0m┃\n",
       "┡━━━━━━━━━━━━━━━━━━━━━━━━━━━━━━━━━╇━━━━━━━━━━━━━━━━━━━━━━━━╇━━━━━━━━━━━━━━━┩\n",
       "│ conv2d (\u001b[38;5;33mConv2D\u001b[0m)                 │ ?                      │   \u001b[38;5;34m0\u001b[0m (unbuilt) │\n",
       "├─────────────────────────────────┼────────────────────────┼───────────────┤\n",
       "│ batch_normalization             │ ?                      │   \u001b[38;5;34m0\u001b[0m (unbuilt) │\n",
       "│ (\u001b[38;5;33mBatchNormalization\u001b[0m)            │                        │               │\n",
       "├─────────────────────────────────┼────────────────────────┼───────────────┤\n",
       "│ max_pooling2d (\u001b[38;5;33mMaxPooling2D\u001b[0m)    │ ?                      │             \u001b[38;5;34m0\u001b[0m │\n",
       "├─────────────────────────────────┼────────────────────────┼───────────────┤\n",
       "│ dropout (\u001b[38;5;33mDropout\u001b[0m)               │ ?                      │             \u001b[38;5;34m0\u001b[0m │\n",
       "├─────────────────────────────────┼────────────────────────┼───────────────┤\n",
       "│ conv2d_1 (\u001b[38;5;33mConv2D\u001b[0m)               │ ?                      │   \u001b[38;5;34m0\u001b[0m (unbuilt) │\n",
       "├─────────────────────────────────┼────────────────────────┼───────────────┤\n",
       "│ batch_normalization_1           │ ?                      │   \u001b[38;5;34m0\u001b[0m (unbuilt) │\n",
       "│ (\u001b[38;5;33mBatchNormalization\u001b[0m)            │                        │               │\n",
       "├─────────────────────────────────┼────────────────────────┼───────────────┤\n",
       "│ max_pooling2d_1 (\u001b[38;5;33mMaxPooling2D\u001b[0m)  │ ?                      │             \u001b[38;5;34m0\u001b[0m │\n",
       "├─────────────────────────────────┼────────────────────────┼───────────────┤\n",
       "│ dropout_1 (\u001b[38;5;33mDropout\u001b[0m)             │ ?                      │             \u001b[38;5;34m0\u001b[0m │\n",
       "├─────────────────────────────────┼────────────────────────┼───────────────┤\n",
       "│ conv2d_2 (\u001b[38;5;33mConv2D\u001b[0m)               │ ?                      │   \u001b[38;5;34m0\u001b[0m (unbuilt) │\n",
       "├─────────────────────────────────┼────────────────────────┼───────────────┤\n",
       "│ batch_normalization_2           │ ?                      │   \u001b[38;5;34m0\u001b[0m (unbuilt) │\n",
       "│ (\u001b[38;5;33mBatchNormalization\u001b[0m)            │                        │               │\n",
       "├─────────────────────────────────┼────────────────────────┼───────────────┤\n",
       "│ max_pooling2d_2 (\u001b[38;5;33mMaxPooling2D\u001b[0m)  │ ?                      │             \u001b[38;5;34m0\u001b[0m │\n",
       "├─────────────────────────────────┼────────────────────────┼───────────────┤\n",
       "│ dropout_2 (\u001b[38;5;33mDropout\u001b[0m)             │ ?                      │             \u001b[38;5;34m0\u001b[0m │\n",
       "├─────────────────────────────────┼────────────────────────┼───────────────┤\n",
       "│ global_average_pooling2d        │ ?                      │             \u001b[38;5;34m0\u001b[0m │\n",
       "│ (\u001b[38;5;33mGlobalAveragePooling2D\u001b[0m)        │                        │               │\n",
       "├─────────────────────────────────┼────────────────────────┼───────────────┤\n",
       "│ dense (\u001b[38;5;33mDense\u001b[0m)                   │ ?                      │   \u001b[38;5;34m0\u001b[0m (unbuilt) │\n",
       "├─────────────────────────────────┼────────────────────────┼───────────────┤\n",
       "│ dropout_3 (\u001b[38;5;33mDropout\u001b[0m)             │ ?                      │             \u001b[38;5;34m0\u001b[0m │\n",
       "├─────────────────────────────────┼────────────────────────┼───────────────┤\n",
       "│ dense_1 (\u001b[38;5;33mDense\u001b[0m)                 │ ?                      │   \u001b[38;5;34m0\u001b[0m (unbuilt) │\n",
       "└─────────────────────────────────┴────────────────────────┴───────────────┘\n"
      ]
     },
     "metadata": {},
     "output_type": "display_data"
    },
    {
     "data": {
      "text/html": [
       "<pre style=\"white-space:pre;overflow-x:auto;line-height:normal;font-family:Menlo,'DejaVu Sans Mono',consolas,'Courier New',monospace\"><span style=\"font-weight: bold\"> Total params: </span><span style=\"color: #00af00; text-decoration-color: #00af00\">0</span> (0.00 B)\n",
       "</pre>\n"
      ],
      "text/plain": [
       "\u001b[1m Total params: \u001b[0m\u001b[38;5;34m0\u001b[0m (0.00 B)\n"
      ]
     },
     "metadata": {},
     "output_type": "display_data"
    },
    {
     "data": {
      "text/html": [
       "<pre style=\"white-space:pre;overflow-x:auto;line-height:normal;font-family:Menlo,'DejaVu Sans Mono',consolas,'Courier New',monospace\"><span style=\"font-weight: bold\"> Trainable params: </span><span style=\"color: #00af00; text-decoration-color: #00af00\">0</span> (0.00 B)\n",
       "</pre>\n"
      ],
      "text/plain": [
       "\u001b[1m Trainable params: \u001b[0m\u001b[38;5;34m0\u001b[0m (0.00 B)\n"
      ]
     },
     "metadata": {},
     "output_type": "display_data"
    },
    {
     "data": {
      "text/html": [
       "<pre style=\"white-space:pre;overflow-x:auto;line-height:normal;font-family:Menlo,'DejaVu Sans Mono',consolas,'Courier New',monospace\"><span style=\"font-weight: bold\"> Non-trainable params: </span><span style=\"color: #00af00; text-decoration-color: #00af00\">0</span> (0.00 B)\n",
       "</pre>\n"
      ],
      "text/plain": [
       "\u001b[1m Non-trainable params: \u001b[0m\u001b[38;5;34m0\u001b[0m (0.00 B)\n"
      ]
     },
     "metadata": {},
     "output_type": "display_data"
    }
   ],
   "source": [
    "from tensorflow.keras import layers\n",
    "\n",
    "model = keras.Sequential([\n",
    "    layers.Conv2D(32, (3, 3), activation='relu', padding='same'),\n",
    "    layers.BatchNormalization(),\n",
    "    layers.MaxPooling2D((2, 2)),\n",
    "    layers.Dropout(0.3),\n",
    "\n",
    "    layers.Conv2D(64, (3, 3), activation='relu', padding='same'),\n",
    "    layers.BatchNormalization(),\n",
    "    layers.MaxPooling2D((2, 2)),\n",
    "    layers.Dropout(0.3),\n",
    "\n",
    "    layers.Conv2D(64, (3, 3), activation='relu', padding='same'),\n",
    "    layers.BatchNormalization(),\n",
    "    layers.MaxPooling2D((2, 2)),\n",
    "    layers.Dropout(0.3),\n",
    "\n",
    "    layers.GlobalAveragePooling2D(),\n",
    "\n",
    "    layers.Dense(128, activation='relu'),\n",
    "    layers.Dropout(0.4),\n",
    "    layers.Dense(num_classes, activation='softmax')\n",
    "])\n",
    "\n",
    "\n",
    "model.summary()\n"
   ]
  },
  {
   "cell_type": "markdown",
   "metadata": {
    "id": "QxpN1zoc3W3k"
   },
   "source": [
    "### Step 5: Compile the model\n",
    "\n",
    "- Optimizer: Adam optimizer is used with a learning rate of 0.0001.\n",
    "  - Adam: An adaptive learning rate optimization algorithm that combines the benefits of AdaGrad and RMSProp.\n",
    "  - Learning Rate: A small learning rate is chosen to ensure stable convergence.\n",
    "- Loss Function: 'sparse_categorical_crossentropy' is specified.\n",
    "  - Note: This loss function expects integer labels, not one-hot encoded labels.\n",
    "- Metrics: ['accuracy'] is specified to monitor the accuracy during training and validation."
   ]
  },
  {
   "cell_type": "code",
   "execution_count": 12,
   "metadata": {
    "id": "L0yJhOq83ZiB"
   },
   "outputs": [],
   "source": [
    "from tensorflow.keras.optimizers import Adam\n",
    "model.compile(\n",
    "    optimizer=Adam(learning_rate=0.0001),\n",
    "    loss='sparse_categorical_crossentropy',\n",
    "    metrics=['accuracy']\n",
    ")"
   ]
  },
  {
   "cell_type": "markdown",
   "metadata": {
    "id": "aicw132s_cGg"
   },
   "source": [
    "- ModelCheckpoint:\n",
    "  - Purpose: Saves the model at the end of every epoch.\n",
    "  - Parameters:\n",
    "    - filepath: Where to save the model.\n",
    "    - save_best_only=False: Saves the model at every epoch, not just when there's an improvement.\n",
    "    - monitor='val_loss': Monitors validation loss to determine when to save.\n",
    "    - mode='min': Looks for minimum validation loss.\n",
    "    - verbose=1: Provides output when the model is saved.\n",
    "- EarlyStopping:\n",
    "  - Purpose: Stops training when the monitored metric (validation loss) stops improving.\n",
    "  - Parameters:\n",
    "    - monitor='val_loss': Monitors validation loss.\n",
    "    - patience=20: Waits for 20 epochs without improvement before stopping.\n",
    "    - min_delta=0: Minimum change in the monitored metric to qualify as an improvement.\n",
    "    - Directory Creation:\n",
    "    - os.makedirs(save_dir, exist_ok=True): Ensures that the directory for saving models exists.\n",
    "- Justification:\n",
    "\n",
    "  - ModelCheckpoint: Useful for saving the model at different stages, allowing for rollback if needed.\n",
    "  - EarlyStopping: Helps prevent overfitting by stopping training once the model stops improving on the validation set.\n",
    "  - Directory Management: Ensures that file operations do not fail due to missing directories.\n",
    "\n",
    "\n",
    "\n",
    "- model.fit(): Trains the model on the training data.\n",
    "\n",
    "- Parameters:\n",
    "\n",
    "  - X_train, y_train_int: Training data and integer labels.\n",
    "  - validation_data: Tuple of validation data and labels for evaluating the model during training.\n",
    "  - epochs=100: The model will train for up to 100 epochs unless early stopping is triggered.\n",
    "  - batch_size=64: Number of samples per gradient update.\n",
    "  - callbacks: List of callbacks to apply during training.\n",
    "- Justification:\n",
    "\n",
    "  - Epochs: A high number to allow the model to train thoroughly, with early stopping to prevent overfitting.\n",
    "  - Batch Size: A balance between training speed and stability.\n",
    "  - Callbacks: Improve training efficiency and model management."
   ]
  },
  {
   "cell_type": "code",
   "execution_count": 13,
   "metadata": {
    "colab": {
     "base_uri": "https://localhost:8080/"
    },
    "id": "hN7M6Mjt3enY",
    "outputId": "ff2e4d9d-0ca9-468b-bbf6-062fb3b11af7"
   },
   "outputs": [
    {
     "name": "stdout",
     "output_type": "stream",
     "text": [
      "Epoch 1/100\n",
      "\u001b[1m75/75\u001b[0m \u001b[32m━━━━━━━━━━━━━━━━━━━━\u001b[0m\u001b[37m\u001b[0m \u001b[1m0s\u001b[0m 254ms/step - accuracy: 0.1697 - loss: 2.5250\n",
      "Epoch 1: saving model to best_model.keras\n",
      "\u001b[1m75/75\u001b[0m \u001b[32m━━━━━━━━━━━━━━━━━━━━\u001b[0m\u001b[37m\u001b[0m \u001b[1m24s\u001b[0m 262ms/step - accuracy: 0.1704 - loss: 2.5216 - val_accuracy: 0.2222 - val_loss: 2.1259\n",
      "Epoch 2/100\n",
      "\u001b[1m75/75\u001b[0m \u001b[32m━━━━━━━━━━━━━━━━━━━━\u001b[0m\u001b[37m\u001b[0m \u001b[1m0s\u001b[0m 256ms/step - accuracy: 0.3016 - loss: 1.9091\n",
      "Epoch 2: saving model to best_model.keras\n",
      "\u001b[1m75/75\u001b[0m \u001b[32m━━━━━━━━━━━━━━━━━━━━\u001b[0m\u001b[37m\u001b[0m \u001b[1m20s\u001b[0m 260ms/step - accuracy: 0.3019 - loss: 1.9085 - val_accuracy: 0.2492 - val_loss: 1.9957\n",
      "Epoch 3/100\n",
      "\u001b[1m75/75\u001b[0m \u001b[32m━━━━━━━━━━━━━━━━━━━━\u001b[0m\u001b[37m\u001b[0m \u001b[1m0s\u001b[0m 253ms/step - accuracy: 0.3748 - loss: 1.7409\n",
      "Epoch 3: saving model to best_model.keras\n",
      "\u001b[1m75/75\u001b[0m \u001b[32m━━━━━━━━━━━━━━━━━━━━\u001b[0m\u001b[37m\u001b[0m \u001b[1m19s\u001b[0m 257ms/step - accuracy: 0.3749 - loss: 1.7406 - val_accuracy: 0.3569 - val_loss: 1.8445\n",
      "Epoch 4/100\n",
      "\u001b[1m75/75\u001b[0m \u001b[32m━━━━━━━━━━━━━━━━━━━━\u001b[0m\u001b[37m\u001b[0m \u001b[1m0s\u001b[0m 251ms/step - accuracy: 0.4106 - loss: 1.6464\n",
      "Epoch 4: saving model to best_model.keras\n",
      "\u001b[1m75/75\u001b[0m \u001b[32m━━━━━━━━━━━━━━━━━━━━\u001b[0m\u001b[37m\u001b[0m \u001b[1m19s\u001b[0m 255ms/step - accuracy: 0.4109 - loss: 1.6456 - val_accuracy: 0.4276 - val_loss: 1.7204\n",
      "Epoch 5/100\n",
      "\u001b[1m75/75\u001b[0m \u001b[32m━━━━━━━━━━━━━━━━━━━━\u001b[0m\u001b[37m\u001b[0m \u001b[1m0s\u001b[0m 254ms/step - accuracy: 0.4572 - loss: 1.5151\n",
      "Epoch 5: saving model to best_model.keras\n",
      "\u001b[1m75/75\u001b[0m \u001b[32m━━━━━━━━━━━━━━━━━━━━\u001b[0m\u001b[37m\u001b[0m \u001b[1m19s\u001b[0m 258ms/step - accuracy: 0.4573 - loss: 1.5150 - val_accuracy: 0.4242 - val_loss: 1.6522\n",
      "Epoch 6/100\n",
      "\u001b[1m75/75\u001b[0m \u001b[32m━━━━━━━━━━━━━━━━━━━━\u001b[0m\u001b[37m\u001b[0m \u001b[1m0s\u001b[0m 265ms/step - accuracy: 0.4863 - loss: 1.4332\n",
      "Epoch 6: saving model to best_model.keras\n",
      "\u001b[1m75/75\u001b[0m \u001b[32m━━━━━━━━━━━━━━━━━━━━\u001b[0m\u001b[37m\u001b[0m \u001b[1m21s\u001b[0m 274ms/step - accuracy: 0.4864 - loss: 1.4329 - val_accuracy: 0.4343 - val_loss: 1.5802\n",
      "Epoch 7/100\n",
      "\u001b[1m75/75\u001b[0m \u001b[32m━━━━━━━━━━━━━━━━━━━━\u001b[0m\u001b[37m\u001b[0m \u001b[1m0s\u001b[0m 280ms/step - accuracy: 0.5131 - loss: 1.3785\n",
      "Epoch 7: saving model to best_model.keras\n",
      "\u001b[1m75/75\u001b[0m \u001b[32m━━━━━━━━━━━━━━━━━━━━\u001b[0m\u001b[37m\u001b[0m \u001b[1m21s\u001b[0m 284ms/step - accuracy: 0.5131 - loss: 1.3785 - val_accuracy: 0.4444 - val_loss: 1.5563\n",
      "Epoch 8/100\n",
      "\u001b[1m75/75\u001b[0m \u001b[32m━━━━━━━━━━━━━━━━━━━━\u001b[0m\u001b[37m\u001b[0m \u001b[1m0s\u001b[0m 259ms/step - accuracy: 0.5291 - loss: 1.3261\n",
      "Epoch 8: saving model to best_model.keras\n",
      "\u001b[1m75/75\u001b[0m \u001b[32m━━━━━━━━━━━━━━━━━━━━\u001b[0m\u001b[37m\u001b[0m \u001b[1m20s\u001b[0m 264ms/step - accuracy: 0.5292 - loss: 1.3257 - val_accuracy: 0.4545 - val_loss: 1.5140\n",
      "Epoch 9/100\n",
      "\u001b[1m75/75\u001b[0m \u001b[32m━━━━━━━━━━━━━━━━━━━━\u001b[0m\u001b[37m\u001b[0m \u001b[1m0s\u001b[0m 253ms/step - accuracy: 0.5532 - loss: 1.2500\n",
      "Epoch 9: saving model to best_model.keras\n",
      "\u001b[1m75/75\u001b[0m \u001b[32m━━━━━━━━━━━━━━━━━━━━\u001b[0m\u001b[37m\u001b[0m \u001b[1m19s\u001b[0m 258ms/step - accuracy: 0.5532 - loss: 1.2499 - val_accuracy: 0.4848 - val_loss: 1.4825\n",
      "Epoch 10/100\n",
      "\u001b[1m75/75\u001b[0m \u001b[32m━━━━━━━━━━━━━━━━━━━━\u001b[0m\u001b[37m\u001b[0m \u001b[1m0s\u001b[0m 250ms/step - accuracy: 0.5581 - loss: 1.2096\n",
      "Epoch 10: saving model to best_model.keras\n",
      "\u001b[1m75/75\u001b[0m \u001b[32m━━━━━━━━━━━━━━━━━━━━\u001b[0m\u001b[37m\u001b[0m \u001b[1m19s\u001b[0m 254ms/step - accuracy: 0.5582 - loss: 1.2096 - val_accuracy: 0.5084 - val_loss: 1.4347\n",
      "Epoch 11/100\n",
      "\u001b[1m75/75\u001b[0m \u001b[32m━━━━━━━━━━━━━━━━━━━━\u001b[0m\u001b[37m\u001b[0m \u001b[1m0s\u001b[0m 249ms/step - accuracy: 0.5844 - loss: 1.1627\n",
      "Epoch 11: saving model to best_model.keras\n",
      "\u001b[1m75/75\u001b[0m \u001b[32m━━━━━━━━━━━━━━━━━━━━\u001b[0m\u001b[37m\u001b[0m \u001b[1m19s\u001b[0m 253ms/step - accuracy: 0.5844 - loss: 1.1629 - val_accuracy: 0.5387 - val_loss: 1.3126\n",
      "Epoch 12/100\n",
      "\u001b[1m75/75\u001b[0m \u001b[32m━━━━━━━━━━━━━━━━━━━━\u001b[0m\u001b[37m\u001b[0m \u001b[1m0s\u001b[0m 253ms/step - accuracy: 0.5812 - loss: 1.1611\n",
      "Epoch 12: saving model to best_model.keras\n",
      "\u001b[1m75/75\u001b[0m \u001b[32m━━━━━━━━━━━━━━━━━━━━\u001b[0m\u001b[37m\u001b[0m \u001b[1m19s\u001b[0m 257ms/step - accuracy: 0.5814 - loss: 1.1607 - val_accuracy: 0.5017 - val_loss: 1.3788\n",
      "Epoch 13/100\n",
      "\u001b[1m75/75\u001b[0m \u001b[32m━━━━━━━━━━━━━━━━━━━━\u001b[0m\u001b[37m\u001b[0m \u001b[1m0s\u001b[0m 250ms/step - accuracy: 0.6108 - loss: 1.0841\n",
      "Epoch 13: saving model to best_model.keras\n",
      "\u001b[1m75/75\u001b[0m \u001b[32m━━━━━━━━━━━━━━━━━━━━\u001b[0m\u001b[37m\u001b[0m \u001b[1m19s\u001b[0m 254ms/step - accuracy: 0.6109 - loss: 1.0841 - val_accuracy: 0.5724 - val_loss: 1.2510\n",
      "Epoch 14/100\n",
      "\u001b[1m75/75\u001b[0m \u001b[32m━━━━━━━━━━━━━━━━━━━━\u001b[0m\u001b[37m\u001b[0m \u001b[1m0s\u001b[0m 249ms/step - accuracy: 0.6201 - loss: 1.0717\n",
      "Epoch 14: saving model to best_model.keras\n",
      "\u001b[1m75/75\u001b[0m \u001b[32m━━━━━━━━━━━━━━━━━━━━\u001b[0m\u001b[37m\u001b[0m \u001b[1m19s\u001b[0m 253ms/step - accuracy: 0.6202 - loss: 1.0716 - val_accuracy: 0.5724 - val_loss: 1.1903\n",
      "Epoch 15/100\n",
      "\u001b[1m75/75\u001b[0m \u001b[32m━━━━━━━━━━━━━━━━━━━━\u001b[0m\u001b[37m\u001b[0m \u001b[1m0s\u001b[0m 250ms/step - accuracy: 0.6394 - loss: 1.0073\n",
      "Epoch 15: saving model to best_model.keras\n",
      "\u001b[1m75/75\u001b[0m \u001b[32m━━━━━━━━━━━━━━━━━━━━\u001b[0m\u001b[37m\u001b[0m \u001b[1m19s\u001b[0m 254ms/step - accuracy: 0.6394 - loss: 1.0075 - val_accuracy: 0.5623 - val_loss: 1.2521\n",
      "Epoch 16/100\n",
      "\u001b[1m75/75\u001b[0m \u001b[32m━━━━━━━━━━━━━━━━━━━━\u001b[0m\u001b[37m\u001b[0m \u001b[1m0s\u001b[0m 249ms/step - accuracy: 0.6361 - loss: 1.0164\n",
      "Epoch 16: saving model to best_model.keras\n",
      "\u001b[1m75/75\u001b[0m \u001b[32m━━━━━━━━━━━━━━━━━━━━\u001b[0m\u001b[37m\u001b[0m \u001b[1m19s\u001b[0m 253ms/step - accuracy: 0.6362 - loss: 1.0163 - val_accuracy: 0.5892 - val_loss: 1.1949\n",
      "Epoch 17/100\n",
      "\u001b[1m75/75\u001b[0m \u001b[32m━━━━━━━━━━━━━━━━━━━━\u001b[0m\u001b[37m\u001b[0m \u001b[1m0s\u001b[0m 248ms/step - accuracy: 0.6570 - loss: 0.9658\n",
      "Epoch 17: saving model to best_model.keras\n",
      "\u001b[1m75/75\u001b[0m \u001b[32m━━━━━━━━━━━━━━━━━━━━\u001b[0m\u001b[37m\u001b[0m \u001b[1m19s\u001b[0m 252ms/step - accuracy: 0.6570 - loss: 0.9659 - val_accuracy: 0.6364 - val_loss: 1.1179\n",
      "Epoch 18/100\n",
      "\u001b[1m75/75\u001b[0m \u001b[32m━━━━━━━━━━━━━━━━━━━━\u001b[0m\u001b[37m\u001b[0m \u001b[1m0s\u001b[0m 248ms/step - accuracy: 0.6783 - loss: 0.9260\n",
      "Epoch 18: saving model to best_model.keras\n",
      "\u001b[1m75/75\u001b[0m \u001b[32m━━━━━━━━━━━━━━━━━━━━\u001b[0m\u001b[37m\u001b[0m \u001b[1m19s\u001b[0m 252ms/step - accuracy: 0.6783 - loss: 0.9262 - val_accuracy: 0.6700 - val_loss: 1.0748\n",
      "Epoch 19/100\n",
      "\u001b[1m75/75\u001b[0m \u001b[32m━━━━━━━━━━━━━━━━━━━━\u001b[0m\u001b[37m\u001b[0m \u001b[1m0s\u001b[0m 248ms/step - accuracy: 0.6693 - loss: 0.9478\n",
      "Epoch 19: saving model to best_model.keras\n",
      "\u001b[1m75/75\u001b[0m \u001b[32m━━━━━━━━━━━━━━━━━━━━\u001b[0m\u001b[37m\u001b[0m \u001b[1m19s\u001b[0m 252ms/step - accuracy: 0.6694 - loss: 0.9476 - val_accuracy: 0.6229 - val_loss: 1.1002\n",
      "Epoch 20/100\n",
      "\u001b[1m75/75\u001b[0m \u001b[32m━━━━━━━━━━━━━━━━━━━━\u001b[0m\u001b[37m\u001b[0m \u001b[1m0s\u001b[0m 248ms/step - accuracy: 0.6845 - loss: 0.9097\n",
      "Epoch 20: saving model to best_model.keras\n",
      "\u001b[1m75/75\u001b[0m \u001b[32m━━━━━━━━━━━━━━━━━━━━\u001b[0m\u001b[37m\u001b[0m \u001b[1m19s\u001b[0m 252ms/step - accuracy: 0.6844 - loss: 0.9097 - val_accuracy: 0.6397 - val_loss: 1.0579\n",
      "Epoch 21/100\n",
      "\u001b[1m75/75\u001b[0m \u001b[32m━━━━━━━━━━━━━━━━━━━━\u001b[0m\u001b[37m\u001b[0m \u001b[1m0s\u001b[0m 251ms/step - accuracy: 0.6939 - loss: 0.8954\n",
      "Epoch 21: saving model to best_model.keras\n",
      "\u001b[1m75/75\u001b[0m \u001b[32m━━━━━━━━━━━━━━━━━━━━\u001b[0m\u001b[37m\u001b[0m \u001b[1m19s\u001b[0m 255ms/step - accuracy: 0.6939 - loss: 0.8953 - val_accuracy: 0.6498 - val_loss: 1.0560\n",
      "Epoch 22/100\n",
      "\u001b[1m75/75\u001b[0m \u001b[32m━━━━━━━━━━━━━━━━━━━━\u001b[0m\u001b[37m\u001b[0m \u001b[1m0s\u001b[0m 250ms/step - accuracy: 0.7164 - loss: 0.8215\n",
      "Epoch 22: saving model to best_model.keras\n",
      "\u001b[1m75/75\u001b[0m \u001b[32m━━━━━━━━━━━━━━━━━━━━\u001b[0m\u001b[37m\u001b[0m \u001b[1m19s\u001b[0m 254ms/step - accuracy: 0.7162 - loss: 0.8221 - val_accuracy: 0.6532 - val_loss: 1.0318\n",
      "Epoch 23/100\n",
      "\u001b[1m75/75\u001b[0m \u001b[32m━━━━━━━━━━━━━━━━━━━━\u001b[0m\u001b[37m\u001b[0m \u001b[1m0s\u001b[0m 248ms/step - accuracy: 0.7087 - loss: 0.8578\n",
      "Epoch 23: saving model to best_model.keras\n",
      "\u001b[1m75/75\u001b[0m \u001b[32m━━━━━━━━━━━━━━━━━━━━\u001b[0m\u001b[37m\u001b[0m \u001b[1m19s\u001b[0m 252ms/step - accuracy: 0.7086 - loss: 0.8578 - val_accuracy: 0.6667 - val_loss: 0.9955\n",
      "Epoch 24/100\n",
      "\u001b[1m75/75\u001b[0m \u001b[32m━━━━━━━━━━━━━━━━━━━━\u001b[0m\u001b[37m\u001b[0m \u001b[1m0s\u001b[0m 250ms/step - accuracy: 0.7235 - loss: 0.8343\n",
      "Epoch 24: saving model to best_model.keras\n",
      "\u001b[1m75/75\u001b[0m \u001b[32m━━━━━━━━━━━━━━━━━━━━\u001b[0m\u001b[37m\u001b[0m \u001b[1m19s\u001b[0m 254ms/step - accuracy: 0.7233 - loss: 0.8344 - val_accuracy: 0.6633 - val_loss: 0.9969\n",
      "Epoch 25/100\n",
      "\u001b[1m75/75\u001b[0m \u001b[32m━━━━━━━━━━━━━━━━━━━━\u001b[0m\u001b[37m\u001b[0m \u001b[1m0s\u001b[0m 251ms/step - accuracy: 0.7282 - loss: 0.8112\n",
      "Epoch 25: saving model to best_model.keras\n",
      "\u001b[1m75/75\u001b[0m \u001b[32m━━━━━━━━━━━━━━━━━━━━\u001b[0m\u001b[37m\u001b[0m \u001b[1m19s\u001b[0m 255ms/step - accuracy: 0.7282 - loss: 0.8111 - val_accuracy: 0.6296 - val_loss: 1.0554\n",
      "Epoch 26/100\n",
      "\u001b[1m75/75\u001b[0m \u001b[32m━━━━━━━━━━━━━━━━━━━━\u001b[0m\u001b[37m\u001b[0m \u001b[1m0s\u001b[0m 248ms/step - accuracy: 0.7203 - loss: 0.7980\n",
      "Epoch 26: saving model to best_model.keras\n",
      "\u001b[1m75/75\u001b[0m \u001b[32m━━━━━━━━━━━━━━━━━━━━\u001b[0m\u001b[37m\u001b[0m \u001b[1m19s\u001b[0m 252ms/step - accuracy: 0.7204 - loss: 0.7981 - val_accuracy: 0.6566 - val_loss: 1.0124\n",
      "Epoch 27/100\n",
      "\u001b[1m75/75\u001b[0m \u001b[32m━━━━━━━━━━━━━━━━━━━━\u001b[0m\u001b[37m\u001b[0m \u001b[1m0s\u001b[0m 247ms/step - accuracy: 0.7294 - loss: 0.7935\n",
      "Epoch 27: saving model to best_model.keras\n",
      "\u001b[1m75/75\u001b[0m \u001b[32m━━━━━━━━━━━━━━━━━━━━\u001b[0m\u001b[37m\u001b[0m \u001b[1m19s\u001b[0m 251ms/step - accuracy: 0.7294 - loss: 0.7934 - val_accuracy: 0.6902 - val_loss: 0.9498\n",
      "Epoch 28/100\n",
      "\u001b[1m75/75\u001b[0m \u001b[32m━━━━━━━━━━━━━━━━━━━━\u001b[0m\u001b[37m\u001b[0m \u001b[1m0s\u001b[0m 247ms/step - accuracy: 0.7336 - loss: 0.7829\n",
      "Epoch 28: saving model to best_model.keras\n",
      "\u001b[1m75/75\u001b[0m \u001b[32m━━━━━━━━━━━━━━━━━━━━\u001b[0m\u001b[37m\u001b[0m \u001b[1m19s\u001b[0m 251ms/step - accuracy: 0.7336 - loss: 0.7828 - val_accuracy: 0.6970 - val_loss: 0.8906\n",
      "Epoch 29/100\n",
      "\u001b[1m75/75\u001b[0m \u001b[32m━━━━━━━━━━━━━━━━━━━━\u001b[0m\u001b[37m\u001b[0m \u001b[1m0s\u001b[0m 248ms/step - accuracy: 0.7492 - loss: 0.7422\n",
      "Epoch 29: saving model to best_model.keras\n",
      "\u001b[1m75/75\u001b[0m \u001b[32m━━━━━━━━━━━━━━━━━━━━\u001b[0m\u001b[37m\u001b[0m \u001b[1m19s\u001b[0m 252ms/step - accuracy: 0.7492 - loss: 0.7423 - val_accuracy: 0.6835 - val_loss: 0.8897\n",
      "Epoch 30/100\n",
      "\u001b[1m75/75\u001b[0m \u001b[32m━━━━━━━━━━━━━━━━━━━━\u001b[0m\u001b[37m\u001b[0m \u001b[1m0s\u001b[0m 248ms/step - accuracy: 0.7385 - loss: 0.7704\n",
      "Epoch 30: saving model to best_model.keras\n",
      "\u001b[1m75/75\u001b[0m \u001b[32m━━━━━━━━━━━━━━━━━━━━\u001b[0m\u001b[37m\u001b[0m \u001b[1m19s\u001b[0m 252ms/step - accuracy: 0.7385 - loss: 0.7702 - val_accuracy: 0.6902 - val_loss: 0.9731\n",
      "Epoch 31/100\n",
      "\u001b[1m75/75\u001b[0m \u001b[32m━━━━━━━━━━━━━━━━━━━━\u001b[0m\u001b[37m\u001b[0m \u001b[1m0s\u001b[0m 248ms/step - accuracy: 0.7570 - loss: 0.7198\n",
      "Epoch 31: saving model to best_model.keras\n",
      "\u001b[1m75/75\u001b[0m \u001b[32m━━━━━━━━━━━━━━━━━━━━\u001b[0m\u001b[37m\u001b[0m \u001b[1m19s\u001b[0m 252ms/step - accuracy: 0.7570 - loss: 0.7199 - val_accuracy: 0.6970 - val_loss: 0.8771\n",
      "Epoch 32/100\n",
      "\u001b[1m75/75\u001b[0m \u001b[32m━━━━━━━━━━━━━━━━━━━━\u001b[0m\u001b[37m\u001b[0m \u001b[1m0s\u001b[0m 247ms/step - accuracy: 0.7486 - loss: 0.7312\n",
      "Epoch 32: saving model to best_model.keras\n",
      "\u001b[1m75/75\u001b[0m \u001b[32m━━━━━━━━━━━━━━━━━━━━\u001b[0m\u001b[37m\u001b[0m \u001b[1m19s\u001b[0m 251ms/step - accuracy: 0.7487 - loss: 0.7312 - val_accuracy: 0.7172 - val_loss: 0.8674\n",
      "Epoch 33/100\n",
      "\u001b[1m75/75\u001b[0m \u001b[32m━━━━━━━━━━━━━━━━━━━━\u001b[0m\u001b[37m\u001b[0m \u001b[1m0s\u001b[0m 247ms/step - accuracy: 0.7607 - loss: 0.6917\n",
      "Epoch 33: saving model to best_model.keras\n",
      "\u001b[1m75/75\u001b[0m \u001b[32m━━━━━━━━━━━━━━━━━━━━\u001b[0m\u001b[37m\u001b[0m \u001b[1m19s\u001b[0m 251ms/step - accuracy: 0.7607 - loss: 0.6919 - val_accuracy: 0.6835 - val_loss: 0.8943\n",
      "Epoch 34/100\n",
      "\u001b[1m75/75\u001b[0m \u001b[32m━━━━━━━━━━━━━━━━━━━━\u001b[0m\u001b[37m\u001b[0m \u001b[1m0s\u001b[0m 248ms/step - accuracy: 0.7763 - loss: 0.6914\n",
      "Epoch 34: saving model to best_model.keras\n",
      "\u001b[1m75/75\u001b[0m \u001b[32m━━━━━━━━━━━━━━━━━━━━\u001b[0m\u001b[37m\u001b[0m \u001b[1m19s\u001b[0m 252ms/step - accuracy: 0.7763 - loss: 0.6914 - val_accuracy: 0.7104 - val_loss: 0.8847\n",
      "Epoch 35/100\n",
      "\u001b[1m75/75\u001b[0m \u001b[32m━━━━━━━━━━━━━━━━━━━━\u001b[0m\u001b[37m\u001b[0m \u001b[1m0s\u001b[0m 247ms/step - accuracy: 0.7668 - loss: 0.6708\n",
      "Epoch 35: saving model to best_model.keras\n",
      "\u001b[1m75/75\u001b[0m \u001b[32m━━━━━━━━━━━━━━━━━━━━\u001b[0m\u001b[37m\u001b[0m \u001b[1m19s\u001b[0m 251ms/step - accuracy: 0.7668 - loss: 0.6710 - val_accuracy: 0.7037 - val_loss: 0.8973\n",
      "Epoch 36/100\n",
      "\u001b[1m75/75\u001b[0m \u001b[32m━━━━━━━━━━━━━━━━━━━━\u001b[0m\u001b[37m\u001b[0m \u001b[1m0s\u001b[0m 247ms/step - accuracy: 0.7707 - loss: 0.6820\n",
      "Epoch 36: saving model to best_model.keras\n",
      "\u001b[1m75/75\u001b[0m \u001b[32m━━━━━━━━━━━━━━━━━━━━\u001b[0m\u001b[37m\u001b[0m \u001b[1m19s\u001b[0m 251ms/step - accuracy: 0.7709 - loss: 0.6817 - val_accuracy: 0.6970 - val_loss: 0.8644\n",
      "Epoch 37/100\n",
      "\u001b[1m75/75\u001b[0m \u001b[32m━━━━━━━━━━━━━━━━━━━━\u001b[0m\u001b[37m\u001b[0m \u001b[1m0s\u001b[0m 252ms/step - accuracy: 0.7892 - loss: 0.6572\n",
      "Epoch 37: saving model to best_model.keras\n",
      "\u001b[1m75/75\u001b[0m \u001b[32m━━━━━━━━━━━━━━━━━━━━\u001b[0m\u001b[37m\u001b[0m \u001b[1m19s\u001b[0m 256ms/step - accuracy: 0.7892 - loss: 0.6571 - val_accuracy: 0.7273 - val_loss: 0.8458\n",
      "Epoch 38/100\n",
      "\u001b[1m75/75\u001b[0m \u001b[32m━━━━━━━━━━━━━━━━━━━━\u001b[0m\u001b[37m\u001b[0m \u001b[1m0s\u001b[0m 263ms/step - accuracy: 0.7880 - loss: 0.6256\n",
      "Epoch 38: saving model to best_model.keras\n",
      "\u001b[1m75/75\u001b[0m \u001b[32m━━━━━━━━━━━━━━━━━━━━\u001b[0m\u001b[37m\u001b[0m \u001b[1m20s\u001b[0m 267ms/step - accuracy: 0.7880 - loss: 0.6258 - val_accuracy: 0.7407 - val_loss: 0.8006\n",
      "Epoch 39/100\n",
      "\u001b[1m75/75\u001b[0m \u001b[32m━━━━━━━━━━━━━━━━━━━━\u001b[0m\u001b[37m\u001b[0m \u001b[1m0s\u001b[0m 249ms/step - accuracy: 0.7933 - loss: 0.6261\n",
      "Epoch 39: saving model to best_model.keras\n",
      "\u001b[1m75/75\u001b[0m \u001b[32m━━━━━━━━━━━━━━━━━━━━\u001b[0m\u001b[37m\u001b[0m \u001b[1m19s\u001b[0m 253ms/step - accuracy: 0.7932 - loss: 0.6263 - val_accuracy: 0.6936 - val_loss: 0.8845\n",
      "Epoch 40/100\n",
      "\u001b[1m75/75\u001b[0m \u001b[32m━━━━━━━━━━━━━━━━━━━━\u001b[0m\u001b[37m\u001b[0m \u001b[1m0s\u001b[0m 249ms/step - accuracy: 0.7916 - loss: 0.6305\n",
      "Epoch 40: saving model to best_model.keras\n",
      "\u001b[1m75/75\u001b[0m \u001b[32m━━━━━━━━━━━━━━━━━━━━\u001b[0m\u001b[37m\u001b[0m \u001b[1m19s\u001b[0m 253ms/step - accuracy: 0.7916 - loss: 0.6303 - val_accuracy: 0.7239 - val_loss: 0.8027\n",
      "Epoch 41/100\n",
      "\u001b[1m75/75\u001b[0m \u001b[32m━━━━━━━━━━━━━━━━━━━━\u001b[0m\u001b[37m\u001b[0m \u001b[1m0s\u001b[0m 248ms/step - accuracy: 0.7970 - loss: 0.6129\n",
      "Epoch 41: saving model to best_model.keras\n",
      "\u001b[1m75/75\u001b[0m \u001b[32m━━━━━━━━━━━━━━━━━━━━\u001b[0m\u001b[37m\u001b[0m \u001b[1m19s\u001b[0m 252ms/step - accuracy: 0.7969 - loss: 0.6130 - val_accuracy: 0.7071 - val_loss: 0.9160\n",
      "Epoch 42/100\n",
      "\u001b[1m75/75\u001b[0m \u001b[32m━━━━━━━━━━━━━━━━━━━━\u001b[0m\u001b[37m\u001b[0m \u001b[1m0s\u001b[0m 248ms/step - accuracy: 0.8084 - loss: 0.5705\n",
      "Epoch 42: saving model to best_model.keras\n",
      "\u001b[1m75/75\u001b[0m \u001b[32m━━━━━━━━━━━━━━━━━━━━\u001b[0m\u001b[37m\u001b[0m \u001b[1m19s\u001b[0m 252ms/step - accuracy: 0.8083 - loss: 0.5709 - val_accuracy: 0.7138 - val_loss: 0.8477\n",
      "Epoch 43/100\n",
      "\u001b[1m75/75\u001b[0m \u001b[32m━━━━━━━━━━━━━━━━━━━━\u001b[0m\u001b[37m\u001b[0m \u001b[1m0s\u001b[0m 247ms/step - accuracy: 0.7942 - loss: 0.5947\n",
      "Epoch 43: saving model to best_model.keras\n",
      "\u001b[1m75/75\u001b[0m \u001b[32m━━━━━━━━━━━━━━━━━━━━\u001b[0m\u001b[37m\u001b[0m \u001b[1m19s\u001b[0m 251ms/step - accuracy: 0.7942 - loss: 0.5947 - val_accuracy: 0.7475 - val_loss: 0.7524\n",
      "Epoch 44/100\n",
      "\u001b[1m75/75\u001b[0m \u001b[32m━━━━━━━━━━━━━━━━━━━━\u001b[0m\u001b[37m\u001b[0m \u001b[1m0s\u001b[0m 248ms/step - accuracy: 0.8100 - loss: 0.5743\n",
      "Epoch 44: saving model to best_model.keras\n",
      "\u001b[1m75/75\u001b[0m \u001b[32m━━━━━━━━━━━━━━━━━━━━\u001b[0m\u001b[37m\u001b[0m \u001b[1m19s\u001b[0m 253ms/step - accuracy: 0.8100 - loss: 0.5744 - val_accuracy: 0.6970 - val_loss: 0.8863\n",
      "Epoch 45/100\n",
      "\u001b[1m75/75\u001b[0m \u001b[32m━━━━━━━━━━━━━━━━━━━━\u001b[0m\u001b[37m\u001b[0m \u001b[1m0s\u001b[0m 247ms/step - accuracy: 0.8025 - loss: 0.5794\n",
      "Epoch 45: saving model to best_model.keras\n",
      "\u001b[1m75/75\u001b[0m \u001b[32m━━━━━━━━━━━━━━━━━━━━\u001b[0m\u001b[37m\u001b[0m \u001b[1m19s\u001b[0m 251ms/step - accuracy: 0.8026 - loss: 0.5794 - val_accuracy: 0.7273 - val_loss: 0.8171\n",
      "Epoch 46/100\n",
      "\u001b[1m75/75\u001b[0m \u001b[32m━━━━━━━━━━━━━━━━━━━━\u001b[0m\u001b[37m\u001b[0m \u001b[1m0s\u001b[0m 249ms/step - accuracy: 0.8208 - loss: 0.5619\n",
      "Epoch 46: saving model to best_model.keras\n",
      "\u001b[1m75/75\u001b[0m \u001b[32m━━━━━━━━━━━━━━━━━━━━\u001b[0m\u001b[37m\u001b[0m \u001b[1m19s\u001b[0m 254ms/step - accuracy: 0.8207 - loss: 0.5619 - val_accuracy: 0.7037 - val_loss: 0.8589\n",
      "Epoch 47/100\n",
      "\u001b[1m75/75\u001b[0m \u001b[32m━━━━━━━━━━━━━━━━━━━━\u001b[0m\u001b[37m\u001b[0m \u001b[1m0s\u001b[0m 248ms/step - accuracy: 0.8174 - loss: 0.5596\n",
      "Epoch 47: saving model to best_model.keras\n",
      "\u001b[1m75/75\u001b[0m \u001b[32m━━━━━━━━━━━━━━━━━━━━\u001b[0m\u001b[37m\u001b[0m \u001b[1m19s\u001b[0m 252ms/step - accuracy: 0.8174 - loss: 0.5595 - val_accuracy: 0.7205 - val_loss: 0.7886\n",
      "Epoch 48/100\n",
      "\u001b[1m75/75\u001b[0m \u001b[32m━━━━━━━━━━━━━━━━━━━━\u001b[0m\u001b[37m\u001b[0m \u001b[1m0s\u001b[0m 248ms/step - accuracy: 0.8105 - loss: 0.5761\n",
      "Epoch 48: saving model to best_model.keras\n",
      "\u001b[1m75/75\u001b[0m \u001b[32m━━━━━━━━━━━━━━━━━━━━\u001b[0m\u001b[37m\u001b[0m \u001b[1m19s\u001b[0m 253ms/step - accuracy: 0.8107 - loss: 0.5758 - val_accuracy: 0.7172 - val_loss: 0.8860\n",
      "Epoch 49/100\n",
      "\u001b[1m75/75\u001b[0m \u001b[32m━━━━━━━━━━━━━━━━━━━━\u001b[0m\u001b[37m\u001b[0m \u001b[1m0s\u001b[0m 250ms/step - accuracy: 0.8326 - loss: 0.5282\n",
      "Epoch 49: saving model to best_model.keras\n",
      "\u001b[1m75/75\u001b[0m \u001b[32m━━━━━━━━━━━━━━━━━━━━\u001b[0m\u001b[37m\u001b[0m \u001b[1m19s\u001b[0m 254ms/step - accuracy: 0.8324 - loss: 0.5285 - val_accuracy: 0.7172 - val_loss: 0.8757\n",
      "Epoch 50/100\n",
      "\u001b[1m75/75\u001b[0m \u001b[32m━━━━━━━━━━━━━━━━━━━━\u001b[0m\u001b[37m\u001b[0m \u001b[1m0s\u001b[0m 248ms/step - accuracy: 0.8128 - loss: 0.5424\n",
      "Epoch 50: saving model to best_model.keras\n",
      "\u001b[1m75/75\u001b[0m \u001b[32m━━━━━━━━━━━━━━━━━━━━\u001b[0m\u001b[37m\u001b[0m \u001b[1m19s\u001b[0m 253ms/step - accuracy: 0.8128 - loss: 0.5425 - val_accuracy: 0.7306 - val_loss: 0.8058\n",
      "Epoch 51/100\n",
      "\u001b[1m75/75\u001b[0m \u001b[32m━━━━━━━━━━━━━━━━━━━━\u001b[0m\u001b[37m\u001b[0m \u001b[1m0s\u001b[0m 250ms/step - accuracy: 0.8286 - loss: 0.5249\n",
      "Epoch 51: saving model to best_model.keras\n",
      "\u001b[1m75/75\u001b[0m \u001b[32m━━━━━━━━━━━━━━━━━━━━\u001b[0m\u001b[37m\u001b[0m \u001b[1m19s\u001b[0m 255ms/step - accuracy: 0.8286 - loss: 0.5249 - val_accuracy: 0.7138 - val_loss: 0.8782\n",
      "Epoch 52/100\n",
      "\u001b[1m75/75\u001b[0m \u001b[32m━━━━━━━━━━━━━━━━━━━━\u001b[0m\u001b[37m\u001b[0m \u001b[1m0s\u001b[0m 249ms/step - accuracy: 0.8264 - loss: 0.5246\n",
      "Epoch 52: saving model to best_model.keras\n",
      "\u001b[1m75/75\u001b[0m \u001b[32m━━━━━━━━━━━━━━━━━━━━\u001b[0m\u001b[37m\u001b[0m \u001b[1m19s\u001b[0m 253ms/step - accuracy: 0.8263 - loss: 0.5246 - val_accuracy: 0.7542 - val_loss: 0.7425\n",
      "Epoch 53/100\n",
      "\u001b[1m75/75\u001b[0m \u001b[32m━━━━━━━━━━━━━━━━━━━━\u001b[0m\u001b[37m\u001b[0m \u001b[1m0s\u001b[0m 248ms/step - accuracy: 0.8199 - loss: 0.5228\n",
      "Epoch 53: saving model to best_model.keras\n",
      "\u001b[1m75/75\u001b[0m \u001b[32m━━━━━━━━━━━━━━━━━━━━\u001b[0m\u001b[37m\u001b[0m \u001b[1m19s\u001b[0m 253ms/step - accuracy: 0.8199 - loss: 0.5227 - val_accuracy: 0.7576 - val_loss: 0.7003\n",
      "Epoch 54/100\n",
      "\u001b[1m75/75\u001b[0m \u001b[32m━━━━━━━━━━━━━━━━━━━━\u001b[0m\u001b[37m\u001b[0m \u001b[1m0s\u001b[0m 249ms/step - accuracy: 0.8344 - loss: 0.4933\n",
      "Epoch 54: saving model to best_model.keras\n",
      "\u001b[1m75/75\u001b[0m \u001b[32m━━━━━━━━━━━━━━━━━━━━\u001b[0m\u001b[37m\u001b[0m \u001b[1m19s\u001b[0m 253ms/step - accuracy: 0.8343 - loss: 0.4935 - val_accuracy: 0.7172 - val_loss: 0.8691\n",
      "Epoch 55/100\n",
      "\u001b[1m75/75\u001b[0m \u001b[32m━━━━━━━━━━━━━━━━━━━━\u001b[0m\u001b[37m\u001b[0m \u001b[1m0s\u001b[0m 248ms/step - accuracy: 0.8382 - loss: 0.4928\n",
      "Epoch 55: saving model to best_model.keras\n",
      "\u001b[1m75/75\u001b[0m \u001b[32m━━━━━━━━━━━━━━━━━━━━\u001b[0m\u001b[37m\u001b[0m \u001b[1m19s\u001b[0m 253ms/step - accuracy: 0.8381 - loss: 0.4928 - val_accuracy: 0.7475 - val_loss: 0.7038\n",
      "Epoch 56/100\n",
      "\u001b[1m75/75\u001b[0m \u001b[32m━━━━━━━━━━━━━━━━━━━━\u001b[0m\u001b[37m\u001b[0m \u001b[1m0s\u001b[0m 247ms/step - accuracy: 0.8303 - loss: 0.5102\n",
      "Epoch 56: saving model to best_model.keras\n",
      "\u001b[1m75/75\u001b[0m \u001b[32m━━━━━━━━━━━━━━━━━━━━\u001b[0m\u001b[37m\u001b[0m \u001b[1m19s\u001b[0m 251ms/step - accuracy: 0.8303 - loss: 0.5099 - val_accuracy: 0.7340 - val_loss: 0.8566\n",
      "Epoch 57/100\n",
      "\u001b[1m75/75\u001b[0m \u001b[32m━━━━━━━━━━━━━━━━━━━━\u001b[0m\u001b[37m\u001b[0m \u001b[1m0s\u001b[0m 248ms/step - accuracy: 0.8284 - loss: 0.5043\n",
      "Epoch 57: saving model to best_model.keras\n",
      "\u001b[1m75/75\u001b[0m \u001b[32m━━━━━━━━━━━━━━━━━━━━\u001b[0m\u001b[37m\u001b[0m \u001b[1m19s\u001b[0m 253ms/step - accuracy: 0.8285 - loss: 0.5040 - val_accuracy: 0.7340 - val_loss: 0.8059\n",
      "Epoch 58/100\n",
      "\u001b[1m75/75\u001b[0m \u001b[32m━━━━━━━━━━━━━━━━━━━━\u001b[0m\u001b[37m\u001b[0m \u001b[1m0s\u001b[0m 247ms/step - accuracy: 0.8473 - loss: 0.4780\n",
      "Epoch 58: saving model to best_model.keras\n",
      "\u001b[1m75/75\u001b[0m \u001b[32m━━━━━━━━━━━━━━━━━━━━\u001b[0m\u001b[37m\u001b[0m \u001b[1m19s\u001b[0m 251ms/step - accuracy: 0.8473 - loss: 0.4782 - val_accuracy: 0.7508 - val_loss: 0.7992\n",
      "Epoch 59/100\n",
      "\u001b[1m75/75\u001b[0m \u001b[32m━━━━━━━━━━━━━━━━━━━━\u001b[0m\u001b[37m\u001b[0m \u001b[1m0s\u001b[0m 248ms/step - accuracy: 0.8313 - loss: 0.4819\n",
      "Epoch 59: saving model to best_model.keras\n",
      "\u001b[1m75/75\u001b[0m \u001b[32m━━━━━━━━━━━━━━━━━━━━\u001b[0m\u001b[37m\u001b[0m \u001b[1m19s\u001b[0m 252ms/step - accuracy: 0.8313 - loss: 0.4820 - val_accuracy: 0.7508 - val_loss: 0.6885\n",
      "Epoch 60/100\n",
      "\u001b[1m75/75\u001b[0m \u001b[32m━━━━━━━━━━━━━━━━━━━━\u001b[0m\u001b[37m\u001b[0m \u001b[1m0s\u001b[0m 247ms/step - accuracy: 0.8402 - loss: 0.4803\n",
      "Epoch 60: saving model to best_model.keras\n",
      "\u001b[1m75/75\u001b[0m \u001b[32m━━━━━━━━━━━━━━━━━━━━\u001b[0m\u001b[37m\u001b[0m \u001b[1m19s\u001b[0m 251ms/step - accuracy: 0.8402 - loss: 0.4802 - val_accuracy: 0.7475 - val_loss: 0.7343\n",
      "Epoch 61/100\n",
      "\u001b[1m75/75\u001b[0m \u001b[32m━━━━━━━━━━━━━━━━━━━━\u001b[0m\u001b[37m\u001b[0m \u001b[1m0s\u001b[0m 248ms/step - accuracy: 0.8530 - loss: 0.4632\n",
      "Epoch 61: saving model to best_model.keras\n",
      "\u001b[1m75/75\u001b[0m \u001b[32m━━━━━━━━━━━━━━━━━━━━\u001b[0m\u001b[37m\u001b[0m \u001b[1m19s\u001b[0m 252ms/step - accuracy: 0.8529 - loss: 0.4633 - val_accuracy: 0.7811 - val_loss: 0.6240\n",
      "Epoch 62/100\n",
      "\u001b[1m75/75\u001b[0m \u001b[32m━━━━━━━━━━━━━━━━━━━━\u001b[0m\u001b[37m\u001b[0m \u001b[1m0s\u001b[0m 247ms/step - accuracy: 0.8452 - loss: 0.4756\n",
      "Epoch 62: saving model to best_model.keras\n",
      "\u001b[1m75/75\u001b[0m \u001b[32m━━━━━━━━━━━━━━━━━━━━\u001b[0m\u001b[37m\u001b[0m \u001b[1m19s\u001b[0m 252ms/step - accuracy: 0.8452 - loss: 0.4755 - val_accuracy: 0.7441 - val_loss: 0.7032\n",
      "Epoch 63/100\n",
      "\u001b[1m75/75\u001b[0m \u001b[32m━━━━━━━━━━━━━━━━━━━━\u001b[0m\u001b[37m\u001b[0m \u001b[1m0s\u001b[0m 249ms/step - accuracy: 0.8478 - loss: 0.4600\n",
      "Epoch 63: saving model to best_model.keras\n",
      "\u001b[1m75/75\u001b[0m \u001b[32m━━━━━━━━━━━━━━━━━━━━\u001b[0m\u001b[37m\u001b[0m \u001b[1m19s\u001b[0m 254ms/step - accuracy: 0.8478 - loss: 0.4601 - val_accuracy: 0.7744 - val_loss: 0.6461\n",
      "Epoch 64/100\n",
      "\u001b[1m75/75\u001b[0m \u001b[32m━━━━━━━━━━━━━━━━━━━━\u001b[0m\u001b[37m\u001b[0m \u001b[1m0s\u001b[0m 249ms/step - accuracy: 0.8508 - loss: 0.4447\n",
      "Epoch 64: saving model to best_model.keras\n",
      "\u001b[1m75/75\u001b[0m \u001b[32m━━━━━━━━━━━━━━━━━━━━\u001b[0m\u001b[37m\u001b[0m \u001b[1m19s\u001b[0m 253ms/step - accuracy: 0.8508 - loss: 0.4446 - val_accuracy: 0.7441 - val_loss: 0.7490\n",
      "Epoch 65/100\n",
      "\u001b[1m75/75\u001b[0m \u001b[32m━━━━━━━━━━━━━━━━━━━━\u001b[0m\u001b[37m\u001b[0m \u001b[1m0s\u001b[0m 247ms/step - accuracy: 0.8488 - loss: 0.4543\n",
      "Epoch 65: saving model to best_model.keras\n",
      "\u001b[1m75/75\u001b[0m \u001b[32m━━━━━━━━━━━━━━━━━━━━\u001b[0m\u001b[37m\u001b[0m \u001b[1m19s\u001b[0m 251ms/step - accuracy: 0.8488 - loss: 0.4543 - val_accuracy: 0.7475 - val_loss: 0.8056\n",
      "Epoch 66/100\n",
      "\u001b[1m75/75\u001b[0m \u001b[32m━━━━━━━━━━━━━━━━━━━━\u001b[0m\u001b[37m\u001b[0m \u001b[1m0s\u001b[0m 248ms/step - accuracy: 0.8584 - loss: 0.4281\n",
      "Epoch 66: saving model to best_model.keras\n",
      "\u001b[1m75/75\u001b[0m \u001b[32m━━━━━━━━━━━━━━━━━━━━\u001b[0m\u001b[37m\u001b[0m \u001b[1m19s\u001b[0m 252ms/step - accuracy: 0.8583 - loss: 0.4282 - val_accuracy: 0.7677 - val_loss: 0.6664\n",
      "Epoch 67/100\n",
      "\u001b[1m75/75\u001b[0m \u001b[32m━━━━━━━━━━━━━━━━━━━━\u001b[0m\u001b[37m\u001b[0m \u001b[1m0s\u001b[0m 247ms/step - accuracy: 0.8591 - loss: 0.4305\n",
      "Epoch 67: saving model to best_model.keras\n",
      "\u001b[1m75/75\u001b[0m \u001b[32m━━━━━━━━━━━━━━━━━━━━\u001b[0m\u001b[37m\u001b[0m \u001b[1m19s\u001b[0m 251ms/step - accuracy: 0.8591 - loss: 0.4305 - val_accuracy: 0.7441 - val_loss: 0.7497\n",
      "Epoch 68/100\n",
      "\u001b[1m75/75\u001b[0m \u001b[32m━━━━━━━━━━━━━━━━━━━━\u001b[0m\u001b[37m\u001b[0m \u001b[1m0s\u001b[0m 247ms/step - accuracy: 0.8682 - loss: 0.4080\n",
      "Epoch 68: saving model to best_model.keras\n",
      "\u001b[1m75/75\u001b[0m \u001b[32m━━━━━━━━━━━━━━━━━━━━\u001b[0m\u001b[37m\u001b[0m \u001b[1m19s\u001b[0m 251ms/step - accuracy: 0.8681 - loss: 0.4081 - val_accuracy: 0.7441 - val_loss: 0.7652\n",
      "Epoch 69/100\n",
      "\u001b[1m75/75\u001b[0m \u001b[32m━━━━━━━━━━━━━━━━━━━━\u001b[0m\u001b[37m\u001b[0m \u001b[1m0s\u001b[0m 247ms/step - accuracy: 0.8627 - loss: 0.4121\n",
      "Epoch 69: saving model to best_model.keras\n",
      "\u001b[1m75/75\u001b[0m \u001b[32m━━━━━━━━━━━━━━━━━━━━\u001b[0m\u001b[37m\u001b[0m \u001b[1m19s\u001b[0m 252ms/step - accuracy: 0.8626 - loss: 0.4122 - val_accuracy: 0.7542 - val_loss: 0.7421\n",
      "Epoch 70/100\n",
      "\u001b[1m75/75\u001b[0m \u001b[32m━━━━━━━━━━━━━━━━━━━━\u001b[0m\u001b[37m\u001b[0m \u001b[1m0s\u001b[0m 251ms/step - accuracy: 0.8512 - loss: 0.4278\n",
      "Epoch 70: saving model to best_model.keras\n",
      "\u001b[1m75/75\u001b[0m \u001b[32m━━━━━━━━━━━━━━━━━━━━\u001b[0m\u001b[37m\u001b[0m \u001b[1m19s\u001b[0m 255ms/step - accuracy: 0.8512 - loss: 0.4277 - val_accuracy: 0.7677 - val_loss: 0.6841\n",
      "Epoch 71/100\n",
      "\u001b[1m75/75\u001b[0m \u001b[32m━━━━━━━━━━━━━━━━━━━━\u001b[0m\u001b[37m\u001b[0m \u001b[1m0s\u001b[0m 248ms/step - accuracy: 0.8628 - loss: 0.4071\n",
      "Epoch 71: saving model to best_model.keras\n",
      "\u001b[1m75/75\u001b[0m \u001b[32m━━━━━━━━━━━━━━━━━━━━\u001b[0m\u001b[37m\u001b[0m \u001b[1m19s\u001b[0m 252ms/step - accuracy: 0.8627 - loss: 0.4072 - val_accuracy: 0.7441 - val_loss: 0.8522\n",
      "Epoch 72/100\n",
      "\u001b[1m75/75\u001b[0m \u001b[32m━━━━━━━━━━━━━━━━━━━━\u001b[0m\u001b[37m\u001b[0m \u001b[1m0s\u001b[0m 250ms/step - accuracy: 0.8556 - loss: 0.4211\n",
      "Epoch 72: saving model to best_model.keras\n",
      "\u001b[1m75/75\u001b[0m \u001b[32m━━━━━━━━━━━━━━━━━━━━\u001b[0m\u001b[37m\u001b[0m \u001b[1m19s\u001b[0m 255ms/step - accuracy: 0.8556 - loss: 0.4211 - val_accuracy: 0.7475 - val_loss: 0.7198\n",
      "Epoch 73/100\n",
      "\u001b[1m75/75\u001b[0m \u001b[32m━━━━━━━━━━━━━━━━━━━━\u001b[0m\u001b[37m\u001b[0m \u001b[1m0s\u001b[0m 251ms/step - accuracy: 0.8622 - loss: 0.4256\n",
      "Epoch 73: saving model to best_model.keras\n",
      "\u001b[1m75/75\u001b[0m \u001b[32m━━━━━━━━━━━━━━━━━━━━\u001b[0m\u001b[37m\u001b[0m \u001b[1m19s\u001b[0m 256ms/step - accuracy: 0.8623 - loss: 0.4254 - val_accuracy: 0.7508 - val_loss: 0.6903\n",
      "Epoch 74/100\n",
      "\u001b[1m75/75\u001b[0m \u001b[32m━━━━━━━━━━━━━━━━━━━━\u001b[0m\u001b[37m\u001b[0m \u001b[1m0s\u001b[0m 255ms/step - accuracy: 0.8574 - loss: 0.3933\n",
      "Epoch 74: saving model to best_model.keras\n",
      "\u001b[1m75/75\u001b[0m \u001b[32m━━━━━━━━━━━━━━━━━━━━\u001b[0m\u001b[37m\u001b[0m \u001b[1m19s\u001b[0m 259ms/step - accuracy: 0.8574 - loss: 0.3934 - val_accuracy: 0.7576 - val_loss: 0.6964\n",
      "Epoch 75/100\n",
      "\u001b[1m75/75\u001b[0m \u001b[32m━━━━━━━━━━━━━━━━━━━━\u001b[0m\u001b[37m\u001b[0m \u001b[1m0s\u001b[0m 253ms/step - accuracy: 0.8740 - loss: 0.3709\n",
      "Epoch 75: saving model to best_model.keras\n",
      "\u001b[1m75/75\u001b[0m \u001b[32m━━━━━━━━━━━━━━━━━━━━\u001b[0m\u001b[37m\u001b[0m \u001b[1m19s\u001b[0m 257ms/step - accuracy: 0.8739 - loss: 0.3711 - val_accuracy: 0.7306 - val_loss: 0.8652\n",
      "Epoch 76/100\n",
      "\u001b[1m75/75\u001b[0m \u001b[32m━━━━━━━━━━━━━━━━━━━━\u001b[0m\u001b[37m\u001b[0m \u001b[1m0s\u001b[0m 248ms/step - accuracy: 0.8682 - loss: 0.3825\n",
      "Epoch 76: saving model to best_model.keras\n",
      "\u001b[1m75/75\u001b[0m \u001b[32m━━━━━━━━━━━━━━━━━━━━\u001b[0m\u001b[37m\u001b[0m \u001b[1m19s\u001b[0m 252ms/step - accuracy: 0.8681 - loss: 0.3827 - val_accuracy: 0.8013 - val_loss: 0.6380\n",
      "Epoch 77/100\n",
      "\u001b[1m75/75\u001b[0m \u001b[32m━━━━━━━━━━━━━━━━━━━━\u001b[0m\u001b[37m\u001b[0m \u001b[1m0s\u001b[0m 248ms/step - accuracy: 0.8770 - loss: 0.3758\n",
      "Epoch 77: saving model to best_model.keras\n",
      "\u001b[1m75/75\u001b[0m \u001b[32m━━━━━━━━━━━━━━━━━━━━\u001b[0m\u001b[37m\u001b[0m \u001b[1m19s\u001b[0m 253ms/step - accuracy: 0.8769 - loss: 0.3760 - val_accuracy: 0.7643 - val_loss: 0.7132\n",
      "Epoch 78/100\n",
      "\u001b[1m75/75\u001b[0m \u001b[32m━━━━━━━━━━━━━━━━━━━━\u001b[0m\u001b[37m\u001b[0m \u001b[1m0s\u001b[0m 247ms/step - accuracy: 0.8760 - loss: 0.3682\n",
      "Epoch 78: saving model to best_model.keras\n",
      "\u001b[1m75/75\u001b[0m \u001b[32m━━━━━━━━━━━━━━━━━━━━\u001b[0m\u001b[37m\u001b[0m \u001b[1m19s\u001b[0m 251ms/step - accuracy: 0.8759 - loss: 0.3683 - val_accuracy: 0.7306 - val_loss: 0.8302\n",
      "Epoch 79/100\n",
      "\u001b[1m75/75\u001b[0m \u001b[32m━━━━━━━━━━━━━━━━━━━━\u001b[0m\u001b[37m\u001b[0m \u001b[1m0s\u001b[0m 247ms/step - accuracy: 0.8709 - loss: 0.3847\n",
      "Epoch 79: saving model to best_model.keras\n",
      "\u001b[1m75/75\u001b[0m \u001b[32m━━━━━━━━━━━━━━━━━━━━\u001b[0m\u001b[37m\u001b[0m \u001b[1m19s\u001b[0m 251ms/step - accuracy: 0.8709 - loss: 0.3846 - val_accuracy: 0.7710 - val_loss: 0.6644\n",
      "Epoch 80/100\n",
      "\u001b[1m75/75\u001b[0m \u001b[32m━━━━━━━━━━━━━━━━━━━━\u001b[0m\u001b[37m\u001b[0m \u001b[1m0s\u001b[0m 247ms/step - accuracy: 0.8730 - loss: 0.3950\n",
      "Epoch 80: saving model to best_model.keras\n",
      "\u001b[1m75/75\u001b[0m \u001b[32m━━━━━━━━━━━━━━━━━━━━\u001b[0m\u001b[37m\u001b[0m \u001b[1m19s\u001b[0m 251ms/step - accuracy: 0.8730 - loss: 0.3948 - val_accuracy: 0.7778 - val_loss: 0.6646\n",
      "Epoch 81/100\n",
      "\u001b[1m75/75\u001b[0m \u001b[32m━━━━━━━━━━━━━━━━━━━━\u001b[0m\u001b[37m\u001b[0m \u001b[1m0s\u001b[0m 247ms/step - accuracy: 0.8657 - loss: 0.3944\n",
      "Epoch 81: saving model to best_model.keras\n",
      "\u001b[1m75/75\u001b[0m \u001b[32m━━━━━━━━━━━━━━━━━━━━\u001b[0m\u001b[37m\u001b[0m \u001b[1m19s\u001b[0m 251ms/step - accuracy: 0.8659 - loss: 0.3942 - val_accuracy: 0.7845 - val_loss: 0.6651\n"
     ]
    }
   ],
   "source": [
    "from tensorflow.keras.callbacks import EarlyStopping, ModelCheckpoint\n",
    "import os\n",
    "\n",
    "save_dir = './models/'\n",
    "\n",
    "os.makedirs(save_dir, exist_ok=True)\n",
    "model_checkpoint = ModelCheckpoint(\n",
    "    'best_model.keras',\n",
    "    save_best_only=False,\n",
    "    save_weights_only=False,\n",
    "    monitor='val_loss',\n",
    "    mode='min',\n",
    "    verbose=1\n",
    ")\n",
    "\n",
    "early_stopping = EarlyStopping(\n",
    "    monitor='val_loss',\n",
    "    patience=20,\n",
    "    min_delta=0\n",
    ")\n",
    "\n",
    "y_train_int = np.argmax(y_train, axis=1)\n",
    "y_validation_int = np.argmax(y_validation, axis=1)\n",
    "y_test_int = np.argmax(y_test, axis=1)\n",
    "\n",
    "\n",
    "history = model.fit(\n",
    "    X_train, y_train_int,\n",
    "    validation_data=(X_validation, y_validation_int),\n",
    "    epochs=100,\n",
    "    batch_size=64,\n",
    "    callbacks=[model_checkpoint, early_stopping]\n",
    ")"
   ]
  },
  {
   "cell_type": "markdown",
   "metadata": {
    "id": "zAeCCzry30CB"
   },
   "source": [
    "### Step 6: Evaluate the Model\n",
    "\n",
    "- Label Preparation:\n",
    "\n",
    "  - Converting y_test to integer labels: Necessary for evaluation since the model expects integer labels.\n",
    "- Model Evaluation:\n",
    "\n",
    "- model.evaluate(X_test, y_test_int): Computes the loss and accuracy on the test set.\n",
    "- Prints Test Accuracy: Provides a quick metric to assess model performance.\n",
    "- Generating Predictions:\n",
    "\n",
    "  - model.predict(X_test): Generates predicted probabilities for each class.\n",
    "  - np.argmax(y_pred, axis=1): Converts probabilities to predicted class labels.\n",
    "  - y_true: Actual class labels.\n",
    "- Classification Report:\n",
    "\n",
    "  - classification_report(y_true, y_pred_classes): Provides precision, recall, F1-score, and support for each class.\n",
    "  - Confusion Matrix:\n",
    "\n",
    "    - confusion_matrix(y_true, y_pred_classes): Computes a confusion matrix to visualize the performance.\n",
    "  - Plotting:\n",
    "    - plt.figure(figsize=(10, 8)): Sets the size of the plot.\n",
    "    - sns.heatmap: Creates a heatmap of the confusion matrix.\n",
    "- Justification:\n",
    "\n",
    "  - Performance Assessment: Evaluating on the test set provides an unbiased estimate of model performance.\n",
    "  - Detailed Metrics: The classification report and confusion matrix give insights into how the model performs on each class.\n",
    "  - Visualization: Helps in identifying specific classes where the model may be underperforming."
   ]
  },
  {
   "cell_type": "code",
   "execution_count": 1,
   "metadata": {
    "colab": {
     "base_uri": "https://localhost:8080/",
     "height": 1000
    },
    "id": "nDGh1lG634PX",
    "outputId": "04808e6f-c87f-48cf-bca5-59d32bd99329"
   },
   "outputs": [
    {
     "ename": "NameError",
     "evalue": "name 'y_test' is not defined",
     "output_type": "error",
     "traceback": [
      "\u001b[1;31m---------------------------------------------------------------------------\u001b[0m",
      "\u001b[1;31mNameError\u001b[0m                                 Traceback (most recent call last)",
      "Cell \u001b[1;32mIn[1], line 9\u001b[0m\n\u001b[0;32m      5\u001b[0m \u001b[38;5;28;01mfrom\u001b[39;00m \u001b[38;5;21;01msklearn\u001b[39;00m\u001b[38;5;21;01m.\u001b[39;00m\u001b[38;5;21;01mmetrics\u001b[39;00m \u001b[38;5;28;01mimport\u001b[39;00m classification_report, confusion_matrix\n\u001b[0;32m      7\u001b[0m model \u001b[38;5;241m=\u001b[39m keras\u001b[38;5;241m.\u001b[39mmodels\u001b[38;5;241m.\u001b[39mload_model(\u001b[38;5;124m'\u001b[39m\u001b[38;5;124mbest_model.keras\u001b[39m\u001b[38;5;124m'\u001b[39m)\n\u001b[1;32m----> 9\u001b[0m y_test_int \u001b[38;5;241m=\u001b[39m np\u001b[38;5;241m.\u001b[39margmax(y_test, axis\u001b[38;5;241m=\u001b[39m\u001b[38;5;241m1\u001b[39m)\n\u001b[0;32m     11\u001b[0m test_loss, test_accuracy \u001b[38;5;241m=\u001b[39m model\u001b[38;5;241m.\u001b[39mevaluate(X_test, y_test_int)\n\u001b[0;32m     12\u001b[0m \u001b[38;5;28mprint\u001b[39m(\u001b[38;5;124mf\u001b[39m\u001b[38;5;124m'\u001b[39m\u001b[38;5;124mTest Accuracy: \u001b[39m\u001b[38;5;132;01m{\u001b[39;00mtest_accuracy\u001b[38;5;132;01m:\u001b[39;00m\u001b[38;5;124m.2%\u001b[39m\u001b[38;5;132;01m}\u001b[39;00m\u001b[38;5;124m'\u001b[39m)\n",
      "\u001b[1;31mNameError\u001b[0m: name 'y_test' is not defined"
     ]
    }
   ],
   "source": [
    "from tensorflow import keras\n",
    "import numpy as np\n",
    "import matplotlib.pyplot as plt\n",
    "import seaborn as sns\n",
    "from sklearn.metrics import classification_report, confusion_matrix\n",
    "\n",
    "model = keras.models.load_model('best_model.keras')\n",
    "\n",
    "y_test_int = np.argmax(y_test, axis=1)\n",
    "\n",
    "test_loss, test_accuracy = model.evaluate(X_test, y_test_int)\n",
    "print(f'Test Accuracy: {test_accuracy:.2%}')\n",
    "\n",
    "y_pred = model.predict(X_test)\n",
    "y_pred_classes = np.argmax(y_pred, axis=1)\n",
    "y_true = y_test_int\n",
    "\n",
    "print(classification_report(y_true, y_pred_classes))\n",
    "\n",
    "conf_mat = confusion_matrix(y_true, y_pred_classes)\n",
    "\n",
    "plt.figure(figsize=(10, 8))\n",
    "sns.heatmap(conf_mat, annot=True, fmt='d', cmap='Blues')\n",
    "plt.title('Confusion Matrix')\n",
    "plt.xlabel('Predicted Label')\n",
    "ticks = [0.5, 1.5, 2.5, 3.5, 4.5, 5.5, 6.5, 7.5, 8.5, 9.5]\n",
    "plt.xticks(ticks=ticks, labels=[\"Blues\", \"Classical\", \"Country\", \"Disco\", \"Hiphop\", \"Jazz\", \"Metal\", \"Pop\", \"Reggae\", \"Rock\"])\n",
    "plt.yticks(ticks=ticks, labels=[\"Blues\", \"Classical\", \"Country\", \"Disco\", \"Hiphop\", \"Jazz\", \"Metal\", \"Pop\", \"Reggae\", \"Rock\"])\n",
    "plt.ylabel('True Label')\n",
    "plt.show()\n"
   ]
  },
  {
   "cell_type": "markdown",
   "metadata": {
    "id": "D9slFHK74JDD"
   },
   "source": [
    "### Step 7: Visualize Training History\n",
    "- Purpose: To visualize how the model's performance changes over epochs.\n",
    "\n",
    "- Plotting Training and Validation Metrics:\n",
    "\n",
    "  - Accuracy: Helps assess if the model is learning and generalizing well.\n",
    "  - Loss: Provides insights into how well the model is optimizing the loss function.\n",
    "- Interpreting the Plots:\n",
    "\n",
    "  - Overfitting: If the training accuracy continues to improve while validation accuracy plateaus or decreases.\n",
    "  - Underfitting: If both training and validation accuracy are low.\n",
    "- Justification:\n",
    "\n",
    "  - Model Diagnostics: Visualizations are essential for diagnosing issues like overfitting or underfitting.\n",
    "  - Guiding Model Improvements: Based on the plots, decisions can be made to adjust hyperparameters or modify the model architecture."
   ]
  },
  {
   "cell_type": "markdown",
   "metadata": {
    "id": "030fbOAt4Rr6"
   },
   "source": [
    "Accuracy:"
   ]
  },
  {
   "cell_type": "code",
   "execution_count": 25,
   "metadata": {
    "colab": {
     "base_uri": "https://localhost:8080/",
     "height": 302
    },
    "id": "8dRsVYJX4NII",
    "outputId": "3494758d-ce83-4f02-e69b-f35110c895eb"
   },
   "outputs": [
    {
     "data": {
      "image/png": "[encoded data removed]",
      "text/plain": [
       "<Figure size 1200x400 with 1 Axes>"
      ]
     },
     "metadata": {},
     "output_type": "display_data"
    }
   ],
   "source": [
    "plt.figure(figsize=(12, 4))\n",
    "plt.plot(history.history['accuracy'], label='Training Accuracy')\n",
    "plt.plot(history.history['val_accuracy'], label='Validation Accuracy')\n",
    "plt.title('Model Accuracy')\n",
    "plt.xlabel('Epoch')\n",
    "plt.ylabel('Accuracy')\n",
    "plt.legend()\n",
    "plt.show()"
   ]
  },
  {
   "cell_type": "markdown",
   "metadata": {
    "id": "kipgPc8Y4THc"
   },
   "source": [
    "Loss:"
   ]
  },
  {
   "cell_type": "code",
   "execution_count": 26,
   "metadata": {
    "colab": {
     "base_uri": "https://localhost:8080/",
     "height": 300
    },
    "id": "8Bj5Mx1x4PlL",
    "outputId": "e06ea7b6-4445-4754-9378-7a135d6d6a53"
   },
   "outputs": [
    {
     "data": {
      "image/png": "[encoded data removed]",
      "text/plain": [
       "<Figure size 1200x400 with 1 Axes>"
      ]
     },
     "metadata": {},
     "output_type": "display_data"
    }
   ],
   "source": [
    "plt.figure(figsize=(12, 4))\n",
    "plt.plot(history.history['loss'], label='Training Loss')\n",
    "plt.plot(history.history['val_loss'], label='Validation Loss')\n",
    "plt.title('Model Loss')\n",
    "plt.xlabel('Epoch')\n",
    "plt.ylabel('Loss')\n",
    "plt.legend()\n",
    "plt.show()"
   ]
  },
  {
   "cell_type": "markdown",
   "metadata": {
    "id": "IWVoWd454WPd"
   },
   "source": [
    "### Step 8: Save Model"
   ]
  },
  {
   "cell_type": "markdown",
   "metadata": {
    "id": "blZyiOHWvCj9"
   },
   "source": []
  },
  {
   "cell_type": "code",
   "execution_count": 27,
   "metadata": {
    "id": "tx6oRvIT4fDR"
   },
   "outputs": [],
   "source": [
    "model.save('my_genre_classification_model.keras')\n"
   ]
  },
  {
   "cell_type": "code",
   "execution_count": null,
   "metadata": {
    "id": "0dQkFl2l8hW8"
   },
   "outputs": [],
   "source": []
  }
 ],
 "metadata": {
  "accelerator": "GPU",
  "colab": {
   "gpuType": "A100",
   "machine_shape": "hm",
   "provenance": []
  },
  "kernelspec": {
   "display_name": "group-4-project",
   "language": "python",
   "name": "python3"
  },
  "language_info": {
   "codemirror_mode": {
    "name": "ipython",
    "version": 3
   },
   "file_extension": ".py",
   "mimetype": "text/x-python",
   "name": "python",
   "nbconvert_exporter": "python",
   "pygments_lexer": "ipython3",
   "version": "3.11.10"
  }
 },
 "nbformat": 4,
 "nbformat_minor": 0
}
